{
  "cells": [
    {
      "cell_type": "code",
      "source": [
        "import pandas as pd\r\n",
        "import seaborn as sns\r\n",
        "import rdkit\r\n",
        "import torch\r\n",
        "import vina\r\n",
        "import meeko\r\n",
        "import pexpect\r\n",
        "import pickle\r\n",
        "import numpy as np\r\n",
        "from scipy.stats import norm\r\n",
        "from typing import Optional, Union, List\r\n",
        "from bayes_opt import BayesianOptimization\r\n",
        "from bayes_opt.util import load_logs\r\n",
        "from bayes_opt.domain_reduction import DomainTransformer\r\n",
        "from bayes_opt.logger import JSONLogger\r\n",
        "from bayes_opt.event import Events\r\n",
        "from bayes_opt.target_space import TargetSpace\r\n",
        "import dimorphite_dl\r\n",
        "import sys\r\n",
        "from contextlib import redirect_stdout"
      ],
      "outputs": [
        {
          "output_type": "stream",
          "name": "stderr",
          "text": "<frozen importlib._bootstrap>:219: RuntimeWarning: scipy._lib.messagestream.MessageStream size changed, may indicate binary incompatibility. Expected 56 from C header, got 64 from PyObject\n"
        }
      ],
      "execution_count": 1,
      "metadata": {
        "gather": {
          "logged": 1675072969876
        }
      }
    },
    {
      "cell_type": "code",
      "source": [
        "knowndrugs = {\"small_mol\":r\"N[C@H]1CC[C@@H](C(=O)N2CC[C@@H](c3cccc(Cl)c3)[C@@H]3[C@@H]2C2CC[NH+]3CC2)O1\",\r\n",
        "              \"Gilteritinib\":r\"CCc1nc(C(=O)N)c(Nc2ccc(N3CCC(CC3)N4CCN(C)CC4)c(OC)c2)nc1NC5CCOCC5\", \r\n",
        "              \"Quizartinib\":r\"CC(C)(C)c1cc(no1)NC(=O)Nc2ccc(cc2)c3cn4c5ccc(cc5sc4n3)OCCN6CCOCC6\", \r\n",
        "              \"Crenolanib\":r\"O(c5cc4ncn(c1nc3c(cc1)cccc3N2CCC(N)CC2)c4cc5)CC6(COC6)C\",\r\n",
        "              \"Tandutinib\":r\"CC(C)OC1=CC=C(C=C1)NC(=O)N2CCN(CC2)C3=NC=NC4=CC(=C(C=C43)OC)OCCCN5CCCCC5\",\r\n",
        "              \"Sorafenib\":r\"CNC(=O)c1cc(ccn1)Oc2ccc(cc2)NC(=O)Nc3ccc(c(c3)C(F)(F)F)Cl\",\r\n",
        "              \"Sunitinib\":r\"CCN(CC)CCNC(=O)c1c(c([nH]c1C)/C=C\\2/c3cc(ccc3NC2=O)F)C\",\r\n",
        "              \"Lestaurtinib\":r\"C[C@@]12[C@](C[C@@H](O1)n3c4ccccc4c5c3c6n2c7ccccc7c6c8c5C(=O)NC8)(CO)O\",\r\n",
        "              \"Midostaurin\":r\"C[C@@]12[C@@H]([C@@H](C[C@@H](O1)N3C4=CC=CC=C4C5=C6C(=C7C8=CC=CC=C8N2C7=C53)CNC6=O)N(C)C(=O)C9=CC=CC=C9)OC\",\r\n",
        "              \"Ponatinib\":r\"Cc1ccc(cc1C#Cc2cnc3n2nccc3)C(=O)Nc4ccc(c(c4)C(F)(F)F)CN5CCN(CC5)C\"\r\n",
        "              }"
      ],
      "outputs": [],
      "execution_count": 12,
      "metadata": {
        "jupyter": {
          "source_hidden": false,
          "outputs_hidden": false
        },
        "nteract": {
          "transient": {
            "deleting": false
          }
        },
        "gather": {
          "logged": 1675073565251
        }
      }
    },
    {
      "cell_type": "code",
      "source": [
        "from rdkit.Chem import rdFreeSASA\r\n",
        "for drug in knowndrugs:\r\n",
        "    mol = rdkit.Chem.MolFromSmiles(knowndrugs[drug])\r\n",
        "    mol = rdkit.Chem.AddHs(mol)\r\n",
        "    rdkit.Chem.AllChem.EmbedMolecule(mol)\r\n",
        "    radii = rdFreeSASA.classifyAtoms(mol)\r\n",
        "    print(drug)\r\n",
        "    SASA = rdFreeSASA.CalcSASA(mol,radii)\r\n",
        "    \r\n",
        "    heavyatoms = rdkit.Chem.rdMolDescriptors.CalcNumHeavyAtoms(mol)\r\n",
        "    hbonds = rdkit.Chem.rdMolDescriptors.CalcNumHBA(mol)+rdkit.Chem.rdMolDescriptors.CalcNumHBD(mol)\r\n",
        "    c_atoms = len(mol.GetAtomsMatchingQuery(rdkit.Chem.rdqueries.AtomNumEqualsQueryAtom(6)))\r\n",
        "    n_atoms = len(mol.GetAtomsMatchingQuery(rdkit.Chem.rdqueries.AtomNumEqualsQueryAtom(7)))\r\n",
        "    o_atoms = len(mol.GetAtomsMatchingQuery(rdkit.Chem.rdqueries.AtomNumEqualsQueryAtom(8)))\r\n",
        "    sp2carbs=c_atoms*(1-rdkit.Chem.rdMolDescriptors.CalcFractionCSP3(mol))\r\n",
        "\r\n",
        "    mean_surf_area = np.pi*(c_atoms*1.7**2+n_atoms*1.55**2+o_atoms*1.52**2)/heavyatoms\r\n",
        "    gauss_en = SASA/(mean_surf_area)*0.045\r\n",
        "\r\n",
        "    sp2_area = 0\r\n",
        "    arom_atoms = mol.GetAromaticAtoms()\r\n",
        "    atoms = mol.GetAtomsMatchingQuery(rdkit.Chem.rdqueries.AtomNumEqualsQueryAtom(7))\r\n",
        "    tertNs = 0\r\n",
        "    for atom in atoms:\r\n",
        "        if atom.GetTotalNumHs(includeNeighbors=True)==0 and atom.GetHybridization()==rdkit.Chem.HybridizationType.SP3:\r\n",
        "            tertNs+=1\r\n",
        "    print(tertNs)\r\n",
        "    for atom in arom_atoms:\r\n",
        "        sp2_area += float(atom.GetProp(\"SASA\"))\r\n",
        "        for H in atom.GetNeighbors():\r\n",
        "            if H.GetAtomicNum()==1:\r\n",
        "                sp2_area+=float(H.GetProp(\"SASA\"))\r\n",
        "        \r\n",
        "    \r\n",
        "    print(f\"SASA: {SASA},hbonds: {hbonds},heavyatoms: {heavyatoms},sp2carbs: {sp2carbs}\")\r\n",
        "    max_score = (hbonds-tertNs)*-0.6-gauss_en-0.035*sp2_area/(np.pi*1.7**2)\r\n",
        "    print(max_score)\r\n",
        "    "
      ],
      "outputs": [
        {
          "output_type": "stream",
          "name": "stdout",
          "text": "small_mol\n0\nSASA: 449.78465285852064,hbonds: 5,heavyatoms: 27,sp2carbs: 7.000000000000001\n-5.741880480171999\nGilteritinib\n2\nSASA: 715.538597926638,hbonds: 13,heavyatoms: 40,sp2carbs: 11.0\n-10.75762870429986\nQuizartinib\n1\nSASA: 636.5021357312727,hbonds: 11,heavyatoms: 40,sp2carbs: 19.0\n-10.496392631550314\nCrenolanib\n0\nSASA: 561.162461148143,hbonds: 8,heavyatoms: 33,sp2carbs: 16.0\n-8.669823840133148\nTandutinib\n1\nSASA: 724.3862007711722,hbonds: 9,heavyatoms: 41,sp2carbs: 15.0\n-9.291072026772378\nSorafenib\n0\nSASA: 470.3984181490486,hbonds: 7,heavyatoms: 32,sp2carbs: 19.0\n-7.954975548356563\nSunitinib\n1\nSASA: 508.42297356038995,hbonds: 6,heavyatoms: 29,sp2carbs: 14.0\n-6.190608580147516\nLestaurtinib\n0\nSASA: 455.45891710604997,hbonds: 9,heavyatoms: 33,sp2carbs: 19.0\n-8.629993695802105\nMidostaurin\n0\nSASA: 618.6550022203613,hbonds: 7,heavyatoms: 43,sp2carbs: 26.0\n-8.645161029477224\nPonatinib\n2\nSASA: 597.0393796494692,hbonds: 7,heavyatoms: 39,sp2carbs: 21.0\n-7.394083083190332\n"
        }
      ],
      "execution_count": 41,
      "metadata": {
        "jupyter": {
          "source_hidden": false,
          "outputs_hidden": false
        },
        "nteract": {
          "transient": {
            "deleting": false
          }
        },
        "gather": {
          "logged": 1675076145862
        }
      }
    },
    {
      "cell_type": "code",
      "source": [],
      "outputs": [],
      "execution_count": null,
      "metadata": {
        "jupyter": {
          "source_hidden": false,
          "outputs_hidden": false
        },
        "nteract": {
          "transient": {
            "deleting": false
          }
        }
      }
    },
    {
      "cell_type": "code",
      "source": [],
      "outputs": [],
      "execution_count": null,
      "metadata": {
        "jupyter": {
          "source_hidden": false,
          "outputs_hidden": false
        },
        "nteract": {
          "transient": {
            "deleting": false
          }
        }
      }
    }
  ],
  "metadata": {
    "kernelspec": {
      "name": "python38-azureml",
      "language": "python",
      "display_name": "Python 3.8 - AzureML"
    },
    "language_info": {
      "name": "python",
      "version": "3.8.5",
      "mimetype": "text/x-python",
      "codemirror_mode": {
        "name": "ipython",
        "version": 3
      },
      "pygments_lexer": "ipython3",
      "nbconvert_exporter": "python",
      "file_extension": ".py"
    },
    "microsoft": {
      "host": {
        "AzureML": {
          "notebookHasBeenCompleted": true
        }
      }
    },
    "kernel_info": {
      "name": "python38-azureml"
    },
    "nteract": {
      "version": "nteract-front-end@1.0.0"
    }
  },
  "nbformat": 4,
  "nbformat_minor": 2
}