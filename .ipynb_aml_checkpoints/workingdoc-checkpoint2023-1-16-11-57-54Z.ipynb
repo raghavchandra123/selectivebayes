{
  "cells": [
    {
      "cell_type": "code",
      "source": [
        "latent_size=56\r\n",
        "\r\n",
        "#dictionaries of target and off target paths to protein structures and coordinates of centres to use\r\n",
        "#box size in angstroms can be specified per target in dictionary as well but in our case we just want 30 for all\r\n",
        "box_size = [30,30,30]\r\n",
        "target_details = {\"FLT3\": [\"./proteins/flt3.pdbqt\",[-28.03685,\t-10.361925,\t-28.9883],box_size]}\r\n",
        "off_target_details = {\"CKIT\": [\"./proteins/ckit.pdbqt\",[45.93035714,\t97.03574286,\t16.1472],box_size],\"PDGFRA\":[\"./proteins/pdgfra.pdbqt\",[17.58837931,\t132.5595172,\t-6.030275862],box_size]\r\n",
        "                      ,\"VEGFR\":[\"./proteins/VEGFR.pdbqt\",[25.997,\t28.605,\t17.134],box_size],\"MK2\":[\"./proteins/MK2.pdbqt\",[47.6395,\t34.809,\t16.708],box_size],\"JAK2\":[\"./proteins/JAK2.pdbqt\",[-31.7445,\t-49.661,\t35.4655],box_size]}\r\n",
        "\r\n",
        "logpath = \"./predictions/test.json\" #path to save latent coordinates and predictions\r\n",
        "pred_path = \"./predictions/test.pk1\" #path to save SMILES and predictions to upon completion\r\n",
        "\r\n",
        "use_custom_domain_reduction = True #specify whether to use custom reduction or sequential domain reduction\r\n",
        "alpha = 0.99 #alpha for domain reduction\r\n",
        "beta = 1.10 #beta for domain expansion\r\n",
        "exh = 8 #exhaustiveness to run vina at\r\n",
        "failure_bind = -5.0 #binding energy to use in objective function when rdkit fails to generate a conformer\r\n",
        "anybind = -6.0\r\n",
        "run_iters = 200 #iterations to run Bayesian Optimisation for"
      ],
      "outputs": [],
      "execution_count": 1,
      "metadata": {
        "jupyter": {
          "source_hidden": false,
          "outputs_hidden": false
        },
        "nteract": {
          "transient": {
            "deleting": false
          }
        },
        "gather": {
          "logged": 1676548598468
        }
      }
    },
    {
      "cell_type": "code",
      "source": [
        "import pandas as pd\r\n",
        "import seaborn as sns\r\n",
        "import rdkit\r\n",
        "import torch\r\n",
        "import vina\r\n",
        "import meeko\r\n",
        "import pexpect\r\n",
        "import pickle\r\n",
        "import numpy as np\r\n",
        "from scipy.stats import norm\r\n",
        "from typing import Optional, Union, List\r\n",
        "from bayes_opt import BayesianOptimization\r\n",
        "from bayes_opt.util import load_logs\r\n",
        "from bayes_opt.domain_reduction import DomainTransformer\r\n",
        "from bayes_opt.logger import JSONLogger\r\n",
        "from bayes_opt.event import Events\r\n",
        "from bayes_opt.target_space import TargetSpace\r\n",
        "import sys\r\n",
        "from contextlib import redirect_stdout\r\n",
        "\r\n",
        "from selectivebayes.interfaces import vaeinterface,vinainterface\r\n",
        "from selectivebayes.transformers import SequentialDomainReductionTransformer,SimpleDomainReduction\r\n",
        "\r\n"
      ],
      "outputs": [
        {
          "output_type": "stream",
          "name": "stderr",
          "text": "<frozen importlib._bootstrap>:219: RuntimeWarning: scipy._lib.messagestream.MessageStream size changed, may indicate binary incompatibility. Expected 56 from C header, got 64 from PyObject\n"
        }
      ],
      "execution_count": 2,
      "metadata": {
        "gather": {
          "logged": 1676548602195
        }
      }
    },
    {
      "cell_type": "code",
      "source": [
        "knowndrugs = {\"Gilteritinib\":r\"CCc1nc(C(=O)N)c(Nc2ccc(N3CCC(CC3)N4CCN(C)CC4)c(OC)c2)nc1NC5CCOCC5\", \n",
        "              \"Quizartinib\":r\"CC(C)(C)c1cc(no1)NC(=O)Nc2ccc(cc2)c3cn4c5ccc(cc5sc4n3)OCCN6CCOCC6\", \n",
        "              \"Crenolanib\":r\"O(c5cc4ncn(c1nc3c(cc1)cccc3N2CCC(N)CC2)c4cc5)CC6(COC6)C\",\n",
        "              \"Tandutinib\":r\"CC(C)OC1=CC=C(C=C1)NC(=O)N2CCN(CC2)C3=NC=NC4=CC(=C(C=C43)OC)OCCCN5CCCCC5\",\n",
        "              \"Sorafenib\":r\"CNC(=O)c1cc(ccn1)Oc2ccc(cc2)NC(=O)Nc3ccc(c(c3)C(F)(F)F)Cl\",\n",
        "              \"Sunitinib\":r\"CCN(CC)CCNC(=O)c1c(c([nH]c1C)/C=C\\2/c3cc(ccc3NC2=O)F)C\",\n",
        "              \"Lestaurtinib\":r\"C[C@@]12[C@](C[C@@H](O1)n3c4ccccc4c5c3c6n2c7ccccc7c6c8c5C(=O)NC8)(CO)O\",\n",
        "              \"Midostaurin\":r\"C[C@@]12[C@@H]([C@@H](C[C@@H](O1)N3C4=CC=CC=C4C5=C6C(=C7C8=CC=CC=C8N2C7=C53)CNC6=O)N(C)C(=O)C9=CC=CC=C9)OC\",\n",
        "              \"Ponatinib\":r\"Cc1ccc(cc1C#Cc2cnc3n2nccc3)C(=O)Nc4ccc(c(c4)C(F)(F)F)CN5CCN(CC5)C\"\n",
        "              }\n",
        "\n",
        "fps = {x:rdkit.Chem.RDKFingerprint(rdkit.Chem.MolFromSmiles(knowndrugs[x])) for x in knowndrugs}\n",
        "def simsearch(molecule):\n",
        "    if molecule==\"failed\":\n",
        "        return 0,0\n",
        "    molfing = rdkit.Chem.RDKFingerprint(rdkit.Chem.MolFromSmiles(molecule))\n",
        "    highestsim = 0\n",
        "    bestmolec = \"\"\n",
        "    for fp in fps:\n",
        "        currsim = rdkit.DataStructs.FingerprintSimilarity(fps[fp],molfing)\n",
        "        if currsim>highestsim:\n",
        "            highestsim=currsim\n",
        "            bestmolec = fp\n",
        "    return highestsim,bestmolec"
      ],
      "outputs": [],
      "execution_count": 3,
      "metadata": {
        "jupyter": {
          "source_hidden": false,
          "outputs_hidden": false
        },
        "nteract": {
          "transient": {
            "deleting": false
          }
        },
        "gather": {
          "logged": 1676548602431
        }
      }
    },
    {
      "cell_type": "code",
      "source": [
        "from hide_warnings import hide_warnings\n",
        "pred_list = []\n",
        "\n",
        "(target_name,target_loc),=target_details.items()\n",
        "@hide_warnings(out=False)\n",
        "def optstart(numiters):\n",
        "    beta = 4184/(8.3145*310)\n",
        "    best_pred = 0\n",
        "    ind=0\n",
        "    print(\"Starting\")\n",
        "    target_interface = {target_name:vinainterface(*target_loc)}\n",
        "    off_target_interfaces = {off_target_name:vinainterface(*off_target_details[off_target_name]) for off_target_name in off_target_details.keys()}\n",
        "      \n",
        "    def optfunction(**kwargs):\n",
        "        nonlocal ind\n",
        "        nonlocal best_pred\n",
        "        ind+=1\n",
        "        \n",
        "        mol=vaeint.decode(np.expand_dims(np.fromiter(kwargs.values(),dtype=float),axis=0))\n",
        "        \n",
        "        target_pred,success = target_interface[target_name].predict(mol,exh)\n",
        "        if success!=-1:\n",
        "            off_target_preds = {off_target_name:off_target_interfaces[off_target_name].predict(mol,exh)[0] for off_target_name in off_target_interfaces.keys()}\n",
        "        else:\n",
        "            off_target_preds = {off_target_name:failure_bind for off_target_name in off_target_interfaces.keys()}\n",
        "        all_preds = [target_pred,*list(off_target_preds.values())]\n",
        "\n",
        "        \n",
        "\n",
        "        prediction = np.exp(-beta*target_pred)/(np.exp(-beta*anybind)+np.sum([np.exp(-beta*pr) for pr in all_preds]))\n",
        "        if prediction>best_pred and success!=-1:\n",
        "            #if prediction is better than best prediction seen then run again at 2x exhaustiveness to confirm\n",
        "            target_pred = target_interface[target_name].predict(mol,exh*2)[0]\n",
        "            off_target_preds = {off_target_name:off_target_interfaces[off_target_name].predict(mol,exh*2)[0] for off_target_name in off_target_interfaces.keys()}\n",
        "            all_preds = [target_pred,*list(off_target_preds.values())]\n",
        "            prediction = np.exp(-beta*target_pred)/(np.exp(-beta*anybind)+np.sum([np.exp(-beta*pr) for pr in all_preds]))\n",
        "            if prediction>best_pred:\n",
        "                best_pred = prediction\n",
        "\n",
        "\n",
        "        pred_list.append([mol,prediction,all_preds])\n",
        "\n",
        "        sim,molec = simsearch(mol)\n",
        "        print(f\"{ind}: {mol}, Pred: {prediction:.4f}, SimDrug: {molec}, SimVal: {sim:.3f}\")\n",
        "        print(target_name + f\":{target_pred:.2f},\" + \"\".join([off_target_name +f\": {off_target_preds[off_target_name]:.2f}, \" for off_target_name in off_target_preds.keys()]))\n",
        "        \n",
        "        return prediction\n",
        "\n",
        "    pbounds = {f\"f{i}\": (-3,3) for i in range(56)}\n",
        "    if use_custom_domain_reduction:\n",
        "        bounds_transformer = SimpleDomainReduction(target_interface[target_name],reduction_rate=alpha,increase_rate=beta)\n",
        "    else:\n",
        "        bounds_transformer = SequentialDomainReductionTransformer(prob=0.3)\n",
        "    optimizer = BayesianOptimization(f=optfunction,pbounds=pbounds,verbose=0,bounds_transformer=bounds_transformer)\n",
        "    logger = JSONLogger(path=logpath)\n",
        "    optimizer.subscribe(Events.OPTIMIZATION_STEP, logger)\n",
        "    optimizer.set_gp_params(alpha=0.01)\n",
        "    vaeint=vaeinterface()\n",
        "    vaeint.start()\n",
        "    optimizer.maximize(init_points=0,n_iter=numiters)\n",
        "    vaeint.stop()\n",
        "optstart(run_iters)\n",
        "pickle.dump(pred_list,open(pred_path,\"wb\"),protocol=2)"
      ],
      "outputs": [
        {
          "output_type": "stream",
          "name": "stdout",
          "text": "Starting\nVina Initialisation complete\nVina Initialisation complete\nVina Initialisation complete\nVina Initialisation complete\nVina Initialisation complete\nVina Initialisation complete\n"
        }
      ],
      "execution_count": 4,
      "metadata": {
        "jupyter": {
          "source_hidden": false,
          "outputs_hidden": false
        },
        "nteract": {
          "transient": {
            "deleting": false
          }
        },
        "gather": {
          "logged": 1676548579533
        }
      }
    },
    {
      "cell_type": "code",
      "source": [],
      "outputs": [],
      "execution_count": null,
      "metadata": {
        "jupyter": {
          "source_hidden": false,
          "outputs_hidden": false
        },
        "nteract": {
          "transient": {
            "deleting": false
          }
        }
      }
    }
  ],
  "metadata": {
    "kernelspec": {
      "name": "python38-azureml",
      "language": "python",
      "display_name": "Python 3.8 - AzureML"
    },
    "language_info": {
      "name": "python",
      "version": "3.8.5",
      "mimetype": "text/x-python",
      "codemirror_mode": {
        "name": "ipython",
        "version": 3
      },
      "pygments_lexer": "ipython3",
      "nbconvert_exporter": "python",
      "file_extension": ".py"
    },
    "microsoft": {
      "host": {
        "AzureML": {
          "notebookHasBeenCompleted": true
        }
      }
    },
    "kernel_info": {
      "name": "python38-azureml"
    },
    "nteract": {
      "version": "nteract-front-end@1.0.0"
    }
  },
  "nbformat": 4,
  "nbformat_minor": 2
}