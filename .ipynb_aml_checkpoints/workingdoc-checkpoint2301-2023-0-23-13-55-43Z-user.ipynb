{
  "cells": [
    {
      "cell_type": "code",
      "source": [
        "import pandas as pd\r\n",
        "import rdkit\r\n",
        "import torch\r\n",
        "import vina\r\n",
        "import meeko\r\n",
        "import pexpect\r\n",
        "import pickle\r\n",
        "import numpy as np\r\n",
        "from bayes_opt import BayesianOptimization\r\n",
        "from bayes_opt import SequentialDomainReductionTransformer\r\n",
        "from bayes_opt.logger import JSONLogger\r\n",
        "from bayes_opt.event import Events\r\n",
        "import dimorphite_dl\r\n",
        "import sys\r\n",
        "from contextlib import redirect_stdout\r\n",
        "latent_size=56"
      ],
      "outputs": [
        {
          "output_type": "stream",
          "name": "stderr",
          "text": "<frozen importlib._bootstrap>:219: RuntimeWarning: scipy._lib.messagestream.MessageStream size changed, may indicate binary incompatibility. Expected 56 from C header, got 64 from PyObject\n"
        }
      ],
      "execution_count": 1,
      "metadata": {
        "gather": {
          "logged": 1674482041896
        }
      }
    },
    {
      "cell_type": "code",
      "source": [
        "cmd = \"conda run -n jtvae --no-capture-output python sample.py --nsample 3 --vocab data/zinc/vocab.txt --hidden 450 --depth 3 --latent 56 --model molvae/MPNVAE-h450-L56-d3-beta0.005/model.iter-4\"  # launch your python2 script\n",
        "\n",
        "class vaeinterface:\n",
        "    def __init__(self):\n",
        "        self.dim=dimorphite_dl.DimorphiteDL(min_ph=7.4,max_ph=7.4,max_variants=1)\n",
        "        pass\n",
        "    def start(self):\n",
        "        self.p=pexpect.spawn(cmd,timeout=1200,logfile=open('mylog.txt','wb'))\n",
        "    def decode(self,all_vec):\n",
        "        p=self.p\n",
        "        p.expect(\"ready\")\n",
        "        tree_vec = all_vec[:,0:latent_size//2].astype(\"f\")\n",
        "        mol_vec = all_vec[:,latent_size//2:].astype(\"f\")\n",
        "        pickle.dump([tree_vec,mol_vec],open(\"molvec.pk1\",\"wb\"),protocol=2)\n",
        "        p.sendline(\"'go'\")\n",
        "        p.expect(\"~.*~\")\n",
        "        mol=p.after.decode()[1:-1]\n",
        "        return mol\n",
        "        #if mol==\"failed\":\n",
        "        #    return mol\n",
        "        #try:\n",
        "        #    protmol = self.dim.protonate(mol)\n",
        "        #    return protmol[0]\n",
        "        #except:\n",
        "        #    return mol\n",
        "    def debug(self):\n",
        "        p = self.p\n",
        "        p.expect(\"ready\")\n",
        "        p.sendline(\"'go'\")\n",
        "        p.expect(\"~.*~\")\n",
        "        mol=p.after.decode()[1:-1]\n",
        "        print(mol)\n",
        "        protmol = self.dim.protonate(mol)\n",
        "        print(protmol[0])\n",
        "    def encode(self,mol):\n",
        "        p=self.p\n",
        "        p.expect(\"ready\")\n",
        "        p.sendline(\"'enc\"+mol+\"'\")\n",
        "        p.expect(\"done\")\n",
        "        all_vec = pickle.load(open(\"encoded.pk1\",\"rb\"),encoding=\"latin1\")\n",
        "        return all_vec\n",
        "    def reconstruct(self,mol):\n",
        "        p=self.p\n",
        "        all_vec = self.encode(mol)\n",
        "        return self.decode(all_vec)\n",
        "        \n",
        "    def stop(self):\n",
        "        p=self.p\n",
        "        p.sendline(\"'stop'\")\n",
        "\n",
        "def visualise(molecules):\n",
        "    img = rdkit.Chem.Draw.MolsToGridImage([rdkit.Chem.MolFromSmiles(mol) for mol in molecules],subImgSize=(500,500))\n",
        "    return img\n",
        "\n",
        "class vinainterface:\n",
        "    def __init__(self,receptor,center):\n",
        "        v = vina.Vina(sf_name='vinardo', verbosity=0)\n",
        "        v.set_receptor(receptor)\n",
        "        v.compute_vina_maps(center=center, box_size=[30, 30, 30])\n",
        "        self.v=v\n",
        "        self.predicted = {}\n",
        "        self.receptor = receptor\n",
        "        self.center = center\n",
        "        print(\"Vina Initialisation complete\")\n",
        "    def predict(self,molecule,exhaustiveness):\n",
        "        if molecule==\"failed\":\n",
        "            return -5.0\n",
        "        if molecule in self.predicted:\n",
        "            print(\"SEEN\")\n",
        "            return self.predicted[molecule]\n",
        "        lig = rdkit.Chem.MolFromSmiles(molecule)\n",
        "        protonated_lig = rdkit.Chem.AddHs(lig)\n",
        "        success = rdkit.Chem.AllChem.EmbedMolecule(protonated_lig)\n",
        "        if success==-1:\n",
        "            success=rdkit.Chem.AllChem.EmbedMolecule(protonated_lig, useRandomCoords = True)\n",
        "        if success==-1:\n",
        "            print(\"failed conformer gen\")\n",
        "            return -5.0\n",
        "        v=self.v\n",
        "        meeko_prep = meeko.MoleculePreparation()\n",
        "        meeko_prep.prepare(protonated_lig)\n",
        "        lig_pdbqt = meeko_prep.write_pdbqt_string()\n",
        "        v.set_ligand_from_string(lig_pdbqt)\n",
        "        v.dock(exhaustiveness=exhaustiveness, n_poses=20)\n",
        "        en=np.sum(v.energies(n_poses=1)[0][1:4])\n",
        "        self.predicted[molecule]=en\n",
        "        return en\n",
        "    \n",
        "class sminainterface:\n",
        "    def __init__(self,receptor,center):\n",
        "        self.receptor = receptor\n",
        "        self.center = center\n",
        "        self.predicted = {}\n",
        "    def predict(self,molecule,exhaustiveness):\n",
        "        if molecule==\"failed\":\n",
        "            return -5.0\n",
        "        if molecule in self.predicted:\n",
        "            print(\"SEEN\")\n",
        "            return self.predicted[molecule]\n",
        "        center = self.center\n",
        "        receptor = self.receptor\n",
        "        lig = rdkit.Chem.MolFromSmiles(molecule)\n",
        "        rdkit.Chem.MolToMolFile(lig,\"current_lig.mol\")\n",
        "        !Jupyter_Dock/bin/smina -r {receptor} -l {'current_lig.mol'} -o {'mol_out.sdf'} --center_x {center[0]} --center_y {center[1]} --center_z {center[2]} --size_x {30} --size_y {30} --size_z {30} --exhaustiveness {exhaustiveness} --num_modes 1 --scoring vinardo -q\n",
        "        poses=rdkit.Chem.SDMolSupplier('mol_out.sdf')\n",
        "\n",
        "        aff = float(poses[0].GetProp(\"minimizedAffinity\"))\n",
        "        self.predicted[molecule] = aff\n",
        "        return aff\n",
        "\n",
        "class qvinainterface:\n",
        "    def __init__(self,receptor,center):\n",
        "        self.receptor = receptor\n",
        "        self.center = center\n",
        "        self.predicted = {}\n",
        "    def predict(self,molecule,exhaustiveness):\n",
        "        if molecule==\"failed\":\n",
        "            return -5.0\n",
        "        if molecule in self.predicted:\n",
        "            print(\"SEEN\")\n",
        "            return self.predicted[molecule]\n",
        "        center = self.center\n",
        "        receptor = self.receptor\n",
        "        lig = rdkit.Chem.MolFromSmiles(molecule)\n",
        "        protonated_lig = rdkit.Chem.AddHs(lig)\n",
        "        success = rdkit.Chem.AllChem.EmbedMolecule(protonated_lig)\n",
        "        meeko_prep = meeko.MoleculePreparation()\n",
        "        meeko_prep.prepare(protonated_lig)\n",
        "        lig_pdbqt = meeko_prep.write_pdbqt_file(\"current_lig.pdbqt\")\n",
        "        !Jupyter_Dock/bin/qvina2.1 --receptor {receptor} --ligand current_lig.pdbqt --out out.pdbqt --center_x {center[0]} --center_y {center[1]} --center_z {center[2]} --size_x {30} --size_y {30} --size_z {30} --exhaustiveness {exhaustiveness} --num_modes 1\n",
        "        f=open('out.pdbqt')\n",
        "        lines=f.readlines()\n",
        "        aff = float(lines[1].split()[3])\n",
        "        self.predicted[molecule] = aff\n",
        "        return aff\n",
        "\n",
        "\n",
        "knowndrugs = {\"Gilteritinib\":r\"CCc1nc(C(=O)N)c(Nc2ccc(N3CCC(CC3)N4CCN(C)CC4)c(OC)c2)nc1NC5CCOCC5\", \n",
        "              \"Quizartinib\":r\"CC(C)(C)c1cc(no1)NC(=O)Nc2ccc(cc2)c3cn4c5ccc(cc5sc4n3)OCCN6CCOCC6\", \n",
        "              \"Crenolanib\":r\"O(c5cc4ncn(c1nc3c(cc1)cccc3N2CCC(N)CC2)c4cc5)CC6(COC6)C\",\n",
        "              \"Tandutinib\":r\"CC(C)OC1=CC=C(C=C1)NC(=O)N2CCN(CC2)C3=NC=NC4=CC(=C(C=C43)OC)OCCCN5CCCCC5\",\n",
        "              \"Sorafenib\":r\"CNC(=O)c1cc(ccn1)Oc2ccc(cc2)NC(=O)Nc3ccc(c(c3)C(F)(F)F)Cl\",\n",
        "              \"Sunitinib\":r\"CCN(CC)CCNC(=O)c1c(c([nH]c1C)/C=C\\2/c3cc(ccc3NC2=O)F)C\",\n",
        "              \"Lestaurtinib\":r\"C[C@@]12[C@](C[C@@H](O1)n3c4ccccc4c5c3c6n2c7ccccc7c6c8c5C(=O)NC8)(CO)O\",\n",
        "              \"Midostaurin\":r\"C[C@@]12[C@@H]([C@@H](C[C@@H](O1)N3C4=CC=CC=C4C5=C6C(=C7C8=CC=CC=C8N2C7=C53)CNC6=O)N(C)C(=O)C9=CC=CC=C9)OC\",\n",
        "              \"Ponatinib\":r\"Cc1ccc(cc1C#Cc2cnc3n2nccc3)C(=O)Nc4ccc(c(c4)C(F)(F)F)CN5CCN(CC5)C\"\n",
        "              }\n",
        "fps = {x:rdkit.Chem.RDKFingerprint(rdkit.Chem.MolFromSmiles(knowndrugs[x])) for x in knowndrugs}\n",
        "def simsearch(molecule):\n",
        "    if molecule==\"failed\":\n",
        "        return 0,0\n",
        "    molfing = rdkit.Chem.RDKFingerprint(rdkit.Chem.MolFromSmiles(molecule))\n",
        "    highestsim = 0\n",
        "    bestmolec = \"\"\n",
        "    for fp in fps:\n",
        "        currsim = rdkit.DataStructs.FingerprintSimilarity(fps[fp],molfing)\n",
        "        if currsim>highestsim:\n",
        "            highestsim=currsim\n",
        "            bestmolec = fp\n",
        "    return highestsim,bestmolec"
      ],
      "outputs": [],
      "execution_count": 2,
      "metadata": {
        "jupyter": {
          "source_hidden": false,
          "outputs_hidden": false
        },
        "nteract": {
          "transient": {
            "deleting": false
          }
        },
        "gather": {
          "logged": 1674482050199
        }
      }
    },
    {
      "cell_type": "code",
      "source": [
        "from hide_warnings import hide_warnings\n",
        "\n",
        "beta = 4184/(8.3145*310)\n",
        "pred_dict = {}\n",
        "\n",
        "@hide_warnings(out=False)\n",
        "def optstart(numiters):\n",
        "    print(\"Starting\")\n",
        "    flt3 = vinainterface(\"receptorstruc.pdbqt\",[-28.03685,\t-10.361925,\t-28.9883])\n",
        "    ckit = vinainterface(\"ckit.pdbqt\",[45.93035714,\t97.03574286,\t16.1472])\n",
        "    pdgfra = vinainterface(\"pdgfra.pdbqt\",[17.58837931,\t132.5595172,\t-6.030275862])\n",
        "    vegfr = vinainterface(\"VEGFR.pdbqt\",[25.997,\t28.605,\t17.134])\n",
        "    mk2 = vinainterface(\"MK2.pdbqt\",[47.6395,\t34.809,\t16.708])\n",
        "    jak2 = vinainterface(\"JAK2.pdbqt\",[-31.7445,\t-49.661,\t35.4655])\n",
        "\n",
        "    \n",
        "    \n",
        "    def optfunction(**kwargs):\n",
        "        mol=vaeint.decode(np.expand_dims(np.fromiter(kwargs.values(),dtype=float),axis=0))\n",
        "        exh = 6\n",
        "        flt3_pred = flt3.predict(mol,exh)\n",
        "        print(\"c\")\n",
        "        pdgfra_pred = pdgfra.predict(mol,exh)\n",
        "        ckit_pred = ckit.predict(mol,exh)\n",
        "        vegfr_pred = vegfr.predict(mol,exh)\n",
        "        mk2_pred = mk2.predict(mol,exh)\n",
        "        jak2_pred = jak2.predict(mol,exh)\n",
        "        all_preds = [flt3_pred,pdgfra_pred,ckit_pred,vegfr_pred,mk2_pred,jak2_pred]\n",
        "\n",
        "        anybind=-6.0\n",
        "\n",
        "        prediction = np.exp(-beta*flt3_pred)/(np.exp(-beta*anybind)+np.sum([np.exp(-beta*pr) for pr in all_preds]))\n",
        "        pred_dict[mol] = [prediction,all_preds]\n",
        "\n",
        "        sim,molec = simsearch(mol)\n",
        "        print(f\"{mol}, Pred: {prediction:.4f}, SimDrug: {molec}, SimVal: {sim:.3f}\")\n",
        "        print(f\"FLT3: {flt3_pred:.2f}, PDGFRA: {pdgfra_pred:.2f}, CKIT: {ckit_pred:.2f}, VEGFR: {vegfr_pred:.2f}, MK2: {mk2_pred:.2f}, JAK2: {jak2_pred:.2f}\")\n",
        "        return prediction\n",
        "\n",
        "    pbounds = {f\"f{i}\": (-3,3) for i in range(56)}\n",
        "    bounds_transformer = SequentialDomainReductionTransformer(minimum_window=0.5)\n",
        "    optimizer = BayesianOptimization(f=optfunction,pbounds=pbounds,verbose=0,bounds_transformer=bounds_transformer)\n",
        "    #logger = JSONLogger(path=\"./logs.json\")\n",
        "    #optimizer.subscribe(Events.OPTIMIZATION_STEP, logger)\n",
        "    #optimizer.set_gp_params(alpha=0.1)\n",
        "    vaeint=vaeinterface()\n",
        "    vaeint.start()\n",
        "    optimizer.maximize(init_points=20,n_iter=numiters)\n",
        "    vaeint.stop()\n",
        "optstart(500)"
      ],
      "outputs": [
        {
          "output_type": "stream",
          "name": "stdout",
          "text": "Starting\nVina Initialisation complete\nVina Initialisation complete\nVina Initialisation complete\nVina Initialisation complete\nVina Initialisation complete\nVina Initialisation complete\nexpe\nready\ngo\nc\n[NH2+]=C([O-])C1=[NH+][C@@]2(n3ncc(Br)c3C(=O)[O-])C=CCCC2=C1, Pred: 0.0737, SimDrug: Midostaurin, SimVal: 0.607\nFLT3: -4.86, PDGFRA: -5.15, CKIT: -4.65, VEGFR: -4.90, MK2: -4.59, JAK2: -5.34\nexpe\nready\ngo\nc\n"
        },
        {
          "output_type": "error",
          "ename": "KeyboardInterrupt",
          "evalue": "",
          "traceback": [
            "\u001b[0;31m---------------------------------------------------------------------------\u001b[0m",
            "\u001b[0;31mKeyboardInterrupt\u001b[0m                         Traceback (most recent call last)",
            "Cell \u001b[0;32mIn [3], line 50\u001b[0m\n\u001b[1;32m     48\u001b[0m     optimizer\u001b[38;5;241m.\u001b[39mmaximize(init_points\u001b[38;5;241m=\u001b[39m\u001b[38;5;241m20\u001b[39m,n_iter\u001b[38;5;241m=\u001b[39mnumiters)\n\u001b[1;32m     49\u001b[0m     vaeint\u001b[38;5;241m.\u001b[39mstop()\n\u001b[0;32m---> 50\u001b[0m \u001b[43moptstart\u001b[49m\u001b[43m(\u001b[49m\u001b[38;5;241;43m500\u001b[39;49m\u001b[43m)\u001b[49m\n",
            "File \u001b[0;32m/anaconda/envs/azureml_py38/lib/python3.8/site-packages/hide_warnings.py:25\u001b[0m, in \u001b[0;36mhide_warnings.<locals>.decorator_hide_warnings.<locals>.wrapper\u001b[0;34m(*args, **kwargs)\u001b[0m\n\u001b[1;32m     22\u001b[0m \u001b[38;5;129m@functools\u001b[39m\u001b[38;5;241m.\u001b[39mwraps(func)\n\u001b[1;32m     23\u001b[0m \u001b[38;5;28;01mdef\u001b[39;00m \u001b[38;5;21mwrapper\u001b[39m(\u001b[38;5;241m*\u001b[39margs, \u001b[38;5;241m*\u001b[39m\u001b[38;5;241m*\u001b[39mkwargs):\n\u001b[1;32m     24\u001b[0m     capture \u001b[38;5;241m=\u001b[39m get_capture(out, in_)\n\u001b[0;32m---> 25\u001b[0m     result \u001b[38;5;241m=\u001b[39m \u001b[43mfunc\u001b[49m\u001b[43m(\u001b[49m\u001b[38;5;241;43m*\u001b[39;49m\u001b[43margs\u001b[49m\u001b[43m,\u001b[49m\u001b[43m \u001b[49m\u001b[38;5;241;43m*\u001b[39;49m\u001b[38;5;241;43m*\u001b[39;49m\u001b[43mkwargs\u001b[49m\u001b[43m)\u001b[49m\n\u001b[1;32m     26\u001b[0m     reset_capture(capture)\n\u001b[1;32m     27\u001b[0m     \u001b[38;5;28;01mreturn\u001b[39;00m result\n",
            "Cell \u001b[0;32mIn [3], line 48\u001b[0m, in \u001b[0;36moptstart\u001b[0;34m(numiters)\u001b[0m\n\u001b[1;32m     46\u001b[0m vaeint\u001b[38;5;241m=\u001b[39mvaeinterface()\n\u001b[1;32m     47\u001b[0m vaeint\u001b[38;5;241m.\u001b[39mstart()\n\u001b[0;32m---> 48\u001b[0m \u001b[43moptimizer\u001b[49m\u001b[38;5;241;43m.\u001b[39;49m\u001b[43mmaximize\u001b[49m\u001b[43m(\u001b[49m\u001b[43minit_points\u001b[49m\u001b[38;5;241;43m=\u001b[39;49m\u001b[38;5;241;43m20\u001b[39;49m\u001b[43m,\u001b[49m\u001b[43mn_iter\u001b[49m\u001b[38;5;241;43m=\u001b[39;49m\u001b[43mnumiters\u001b[49m\u001b[43m)\u001b[49m\n\u001b[1;32m     49\u001b[0m vaeint\u001b[38;5;241m.\u001b[39mstop()\n",
            "File \u001b[0;32m/anaconda/envs/azureml_py38/lib/python3.8/site-packages/bayes_opt/bayesian_optimization.py:311\u001b[0m, in \u001b[0;36mBayesianOptimization.maximize\u001b[0;34m(self, init_points, n_iter, acquisition_function, acq, kappa, kappa_decay, kappa_decay_delay, xi, **gp_params)\u001b[0m\n\u001b[1;32m    309\u001b[0m     x_probe \u001b[38;5;241m=\u001b[39m \u001b[38;5;28mself\u001b[39m\u001b[38;5;241m.\u001b[39msuggest(util)\n\u001b[1;32m    310\u001b[0m     iteration \u001b[38;5;241m+\u001b[39m\u001b[38;5;241m=\u001b[39m \u001b[38;5;241m1\u001b[39m\n\u001b[0;32m--> 311\u001b[0m \u001b[38;5;28;43mself\u001b[39;49m\u001b[38;5;241;43m.\u001b[39;49m\u001b[43mprobe\u001b[49m\u001b[43m(\u001b[49m\u001b[43mx_probe\u001b[49m\u001b[43m,\u001b[49m\u001b[43m \u001b[49m\u001b[43mlazy\u001b[49m\u001b[38;5;241;43m=\u001b[39;49m\u001b[38;5;28;43;01mFalse\u001b[39;49;00m\u001b[43m)\u001b[49m\n\u001b[1;32m    313\u001b[0m \u001b[38;5;28;01mif\u001b[39;00m \u001b[38;5;28mself\u001b[39m\u001b[38;5;241m.\u001b[39m_bounds_transformer \u001b[38;5;129;01mand\u001b[39;00m iteration \u001b[38;5;241m>\u001b[39m \u001b[38;5;241m0\u001b[39m:\n\u001b[1;32m    314\u001b[0m     \u001b[38;5;66;03m# The bounds transformer should only modify the bounds after\u001b[39;00m\n\u001b[1;32m    315\u001b[0m     \u001b[38;5;66;03m# the init_points points (only for the true iterations)\u001b[39;00m\n\u001b[1;32m    316\u001b[0m     \u001b[38;5;28mself\u001b[39m\u001b[38;5;241m.\u001b[39mset_bounds(\n\u001b[1;32m    317\u001b[0m         \u001b[38;5;28mself\u001b[39m\u001b[38;5;241m.\u001b[39m_bounds_transformer\u001b[38;5;241m.\u001b[39mtransform(\u001b[38;5;28mself\u001b[39m\u001b[38;5;241m.\u001b[39m_space))\n",
            "File \u001b[0;32m/anaconda/envs/azureml_py38/lib/python3.8/site-packages/bayes_opt/bayesian_optimization.py:208\u001b[0m, in \u001b[0;36mBayesianOptimization.probe\u001b[0;34m(self, params, lazy)\u001b[0m\n\u001b[1;32m    206\u001b[0m     \u001b[38;5;28mself\u001b[39m\u001b[38;5;241m.\u001b[39m_queue\u001b[38;5;241m.\u001b[39madd(params)\n\u001b[1;32m    207\u001b[0m \u001b[38;5;28;01melse\u001b[39;00m:\n\u001b[0;32m--> 208\u001b[0m     \u001b[38;5;28;43mself\u001b[39;49m\u001b[38;5;241;43m.\u001b[39;49m\u001b[43m_space\u001b[49m\u001b[38;5;241;43m.\u001b[39;49m\u001b[43mprobe\u001b[49m\u001b[43m(\u001b[49m\u001b[43mparams\u001b[49m\u001b[43m)\u001b[49m\n\u001b[1;32m    209\u001b[0m     \u001b[38;5;28mself\u001b[39m\u001b[38;5;241m.\u001b[39mdispatch(Events\u001b[38;5;241m.\u001b[39mOPTIMIZATION_STEP)\n",
            "File \u001b[0;32m/anaconda/envs/azureml_py38/lib/python3.8/site-packages/bayes_opt/target_space.py:236\u001b[0m, in \u001b[0;36mTargetSpace.probe\u001b[0;34m(self, params)\u001b[0m\n\u001b[1;32m    234\u001b[0m x \u001b[38;5;241m=\u001b[39m \u001b[38;5;28mself\u001b[39m\u001b[38;5;241m.\u001b[39m_as_array(params)\n\u001b[1;32m    235\u001b[0m params \u001b[38;5;241m=\u001b[39m \u001b[38;5;28mdict\u001b[39m(\u001b[38;5;28mzip\u001b[39m(\u001b[38;5;28mself\u001b[39m\u001b[38;5;241m.\u001b[39m_keys, x))\n\u001b[0;32m--> 236\u001b[0m target \u001b[38;5;241m=\u001b[39m \u001b[38;5;28;43mself\u001b[39;49m\u001b[38;5;241;43m.\u001b[39;49m\u001b[43mtarget_func\u001b[49m\u001b[43m(\u001b[49m\u001b[38;5;241;43m*\u001b[39;49m\u001b[38;5;241;43m*\u001b[39;49m\u001b[43mparams\u001b[49m\u001b[43m)\u001b[49m\n\u001b[1;32m    238\u001b[0m \u001b[38;5;28;01mif\u001b[39;00m \u001b[38;5;28mself\u001b[39m\u001b[38;5;241m.\u001b[39m_constraint \u001b[38;5;129;01mis\u001b[39;00m \u001b[38;5;28;01mNone\u001b[39;00m:\n\u001b[1;32m    239\u001b[0m     \u001b[38;5;28mself\u001b[39m\u001b[38;5;241m.\u001b[39mregister(x, target)\n",
            "Cell \u001b[0;32mIn [3], line 24\u001b[0m, in \u001b[0;36moptstart.<locals>.optfunction\u001b[0;34m(**kwargs)\u001b[0m\n\u001b[1;32m     22\u001b[0m \u001b[38;5;28mprint\u001b[39m(\u001b[38;5;124m\"\u001b[39m\u001b[38;5;124mc\u001b[39m\u001b[38;5;124m\"\u001b[39m)\n\u001b[1;32m     23\u001b[0m pdgfra_pred \u001b[38;5;241m=\u001b[39m pdgfra\u001b[38;5;241m.\u001b[39mpredict(mol,exh)\n\u001b[0;32m---> 24\u001b[0m ckit_pred \u001b[38;5;241m=\u001b[39m \u001b[43mckit\u001b[49m\u001b[38;5;241;43m.\u001b[39;49m\u001b[43mpredict\u001b[49m\u001b[43m(\u001b[49m\u001b[43mmol\u001b[49m\u001b[43m,\u001b[49m\u001b[43mexh\u001b[49m\u001b[43m)\u001b[49m\n\u001b[1;32m     25\u001b[0m vegfr_pred \u001b[38;5;241m=\u001b[39m vegfr\u001b[38;5;241m.\u001b[39mpredict(mol,exh)\n\u001b[1;32m     26\u001b[0m mk2_pred \u001b[38;5;241m=\u001b[39m mk2\u001b[38;5;241m.\u001b[39mpredict(mol,exh)\n",
            "Cell \u001b[0;32mIn [2], line 87\u001b[0m, in \u001b[0;36mvinainterface.predict\u001b[0;34m(self, molecule, exhaustiveness)\u001b[0m\n\u001b[1;32m     85\u001b[0m lig_pdbqt \u001b[38;5;241m=\u001b[39m meeko_prep\u001b[38;5;241m.\u001b[39mwrite_pdbqt_string()\n\u001b[1;32m     86\u001b[0m v\u001b[38;5;241m.\u001b[39mset_ligand_from_string(lig_pdbqt)\n\u001b[0;32m---> 87\u001b[0m \u001b[43mv\u001b[49m\u001b[38;5;241;43m.\u001b[39;49m\u001b[43mdock\u001b[49m\u001b[43m(\u001b[49m\u001b[43mexhaustiveness\u001b[49m\u001b[38;5;241;43m=\u001b[39;49m\u001b[43mexhaustiveness\u001b[49m\u001b[43m,\u001b[49m\u001b[43m \u001b[49m\u001b[43mn_poses\u001b[49m\u001b[38;5;241;43m=\u001b[39;49m\u001b[38;5;241;43m20\u001b[39;49m\u001b[43m)\u001b[49m\n\u001b[1;32m     88\u001b[0m en\u001b[38;5;241m=\u001b[39mnp\u001b[38;5;241m.\u001b[39msum(v\u001b[38;5;241m.\u001b[39menergies(n_poses\u001b[38;5;241m=\u001b[39m\u001b[38;5;241m1\u001b[39m)[\u001b[38;5;241m0\u001b[39m][\u001b[38;5;241m1\u001b[39m:\u001b[38;5;241m4\u001b[39m])\n\u001b[1;32m     89\u001b[0m \u001b[38;5;28mself\u001b[39m\u001b[38;5;241m.\u001b[39mpredicted[molecule]\u001b[38;5;241m=\u001b[39men\n",
            "File \u001b[0;32m/anaconda/envs/azureml_py38/lib/python3.8/site-packages/vina/vina.py:464\u001b[0m, in \u001b[0;36mVina.dock\u001b[0;34m(self, exhaustiveness, n_poses, min_rmsd, max_evals)\u001b[0m\n\u001b[1;32m    461\u001b[0m \u001b[38;5;28;01melif\u001b[39;00m max_evals \u001b[38;5;241m<\u001b[39m \u001b[38;5;241m0\u001b[39m:\n\u001b[1;32m    462\u001b[0m     \u001b[38;5;28;01mraise\u001b[39;00m \u001b[38;5;167;01mValueError\u001b[39;00m(\u001b[38;5;124m'\u001b[39m\u001b[38;5;124mError: maximum evaluations must be positive.\u001b[39m\u001b[38;5;124m'\u001b[39m)\n\u001b[0;32m--> 464\u001b[0m \u001b[38;5;28;43mself\u001b[39;49m\u001b[38;5;241;43m.\u001b[39;49m\u001b[43m_vina\u001b[49m\u001b[38;5;241;43m.\u001b[39;49m\u001b[43mglobal_search\u001b[49m\u001b[43m(\u001b[49m\u001b[43mexhaustiveness\u001b[49m\u001b[43m,\u001b[49m\u001b[43m \u001b[49m\u001b[43mn_poses\u001b[49m\u001b[43m,\u001b[49m\u001b[43m \u001b[49m\u001b[43mmin_rmsd\u001b[49m\u001b[43m,\u001b[49m\u001b[43m \u001b[49m\u001b[43mmax_evals\u001b[49m\u001b[43m)\u001b[49m\n",
            "File \u001b[0;32m/anaconda/envs/azureml_py38/lib/python3.8/site-packages/vina/vina_wrapper.py:736\u001b[0m, in \u001b[0;36mVina.global_search\u001b[0;34m(self, exhaustiveness, n_poses, min_rmsd, max_evals)\u001b[0m\n\u001b[1;32m    735\u001b[0m \u001b[38;5;28;01mdef\u001b[39;00m \u001b[38;5;21mglobal_search\u001b[39m(\u001b[38;5;28mself\u001b[39m, exhaustiveness: \u001b[38;5;124m\"\u001b[39m\u001b[38;5;124mint const\u001b[39m\u001b[38;5;124m\"\u001b[39m\u001b[38;5;241m=\u001b[39m\u001b[38;5;241m8\u001b[39m, n_poses: \u001b[38;5;124m\"\u001b[39m\u001b[38;5;124mint const\u001b[39m\u001b[38;5;124m\"\u001b[39m\u001b[38;5;241m=\u001b[39m\u001b[38;5;241m20\u001b[39m, min_rmsd: \u001b[38;5;124m\"\u001b[39m\u001b[38;5;124mdouble const\u001b[39m\u001b[38;5;124m\"\u001b[39m\u001b[38;5;241m=\u001b[39m\u001b[38;5;241m1.0\u001b[39m, max_evals: \u001b[38;5;124m\"\u001b[39m\u001b[38;5;124mint const\u001b[39m\u001b[38;5;124m\"\u001b[39m\u001b[38;5;241m=\u001b[39m\u001b[38;5;241m0\u001b[39m) \u001b[38;5;241m-\u001b[39m\u001b[38;5;241m>\u001b[39m \u001b[38;5;124m\"\u001b[39m\u001b[38;5;124mvoid\u001b[39m\u001b[38;5;124m\"\u001b[39m:\n\u001b[0;32m--> 736\u001b[0m     \u001b[38;5;28;01mreturn\u001b[39;00m \u001b[43m_vina_wrapper\u001b[49m\u001b[38;5;241;43m.\u001b[39;49m\u001b[43mVina_global_search\u001b[49m\u001b[43m(\u001b[49m\u001b[38;5;28;43mself\u001b[39;49m\u001b[43m,\u001b[49m\u001b[43m \u001b[49m\u001b[43mexhaustiveness\u001b[49m\u001b[43m,\u001b[49m\u001b[43m \u001b[49m\u001b[43mn_poses\u001b[49m\u001b[43m,\u001b[49m\u001b[43m \u001b[49m\u001b[43mmin_rmsd\u001b[49m\u001b[43m,\u001b[49m\u001b[43m \u001b[49m\u001b[43mmax_evals\u001b[49m\u001b[43m)\u001b[49m\n",
            "\u001b[0;31mKeyboardInterrupt\u001b[0m: "
          ]
        }
      ],
      "execution_count": 3,
      "metadata": {
        "jupyter": {
          "source_hidden": false,
          "outputs_hidden": false
        },
        "nteract": {
          "transient": {
            "deleting": false
          }
        },
        "gather": {
          "logged": 1674482129528
        }
      }
    },
    {
      "cell_type": "code",
      "source": [
        "from hide_warnings import hide_warnings\r\n",
        "@hide_warnings(out=False)\r\n",
        "def knowndrugeval():\r\n",
        "    beta = 4184/(8.3145*310)\r\n",
        "    flt3 = vinainterface(\"receptorstruc.pdbqt\",[-28.03685,\t-10.361925,\t-28.9883])\r\n",
        "    ckit = vinainterface(\"ckit.pdbqt\",[45.93035714,\t97.03574286,\t16.1472])\r\n",
        "    pdgfra = vinainterface(\"pdgfra.pdbqt\",[17.58837931,\t132.5595172,\t-6.030275862])\r\n",
        "    vegfr = vinainterface(\"VEGFR.pdbqt\",[25.997,\t28.605,\t17.134])\r\n",
        "    mk2 = vinainterface(\"MK2.pdbqt\",[47.6395,\t34.809,\t16.708])\r\n",
        "    jak2 = vinainterface(\"JAK2.pdbqt\",[-31.7445,\t-49.661,\t35.4655])\r\n",
        "\r\n",
        "    for drug in knowndrugs:\r\n",
        "        mol=knowndrugs[drug]\r\n",
        "        exh = 32\r\n",
        "        flt3_pred = flt3.predict(mol, exh)\r\n",
        "        pdgfra_pred = pdgfra.predict(mol, exh)\r\n",
        "        ckit_pred = ckit.predict(mol, exh)\r\n",
        "        vegfr_pred = vegfr.predict(mol, exh)\r\n",
        "        mk2_pred = mk2.predict(mol, exh)\r\n",
        "        jak2_pred = jak2.predict(mol, exh)\r\n",
        "        all_preds = [flt3_pred,pdgfra_pred,ckit_pred,vegfr_pred,mk2_pred,jak2_pred]\r\n",
        "\r\n",
        "        anybind=-6.0\r\n",
        "\r\n",
        "        prediction = np.exp(-beta*flt3_pred)/(np.exp(-beta*anybind)+np.sum([np.exp(-beta*pr) for pr in all_preds]))\r\n",
        "\r\n",
        "        sim,molec = simsearch(mol)\r\n",
        "        print(f\"{mol}, Pred: {prediction:.4f}, SimDrug: {molec}, SimVal: {sim:.3f}\")\r\n",
        "        print(f\"FLT3: {flt3_pred:.2f}, PDGFRA: {pdgfra_pred:.2f}, CKIT: {ckit_pred:.2f}, VEGFR: {vegfr_pred:.2f}, MK2: {mk2_pred:.2f}, JAK2: {jak2_pred:.2f}\")\r\n",
        "        break\r\n",
        "        \r\n",
        "\r\n",
        "knowndrugeval()\r\n"
      ],
      "outputs": [
        {
          "output_type": "stream",
          "name": "stdout",
          "text": "CCc1nc(C(=O)N)c(Nc2ccc(N3CCC(CC3)N4CCN(C)CC4)c(OC)c2)nc1NC5CCOCC5, Pred: 0.1157, SimDrug: Gilteritinib, SimVal: 1.000\nFLT3: -7.17, PDGFRA: -7.00, CKIT: -7.60, VEGFR: -6.80, MK2: -6.95, JAK2: -7.93\n"
        }
      ],
      "execution_count": 36,
      "metadata": {
        "jupyter": {
          "source_hidden": false,
          "outputs_hidden": false
        },
        "nteract": {
          "transient": {
            "deleting": false
          }
        },
        "gather": {
          "logged": 1674474493783
        }
      }
    },
    {
      "cell_type": "code",
      "source": [],
      "outputs": [],
      "execution_count": null,
      "metadata": {
        "jupyter": {
          "source_hidden": false,
          "outputs_hidden": false
        },
        "nteract": {
          "transient": {
            "deleting": false
          }
        }
      }
    }
  ],
  "metadata": {
    "kernelspec": {
      "name": "python38-azureml",
      "language": "python",
      "display_name": "Python 3.8 - AzureML"
    },
    "language_info": {
      "name": "python",
      "version": "3.8.5",
      "mimetype": "text/x-python",
      "codemirror_mode": {
        "name": "ipython",
        "version": 3
      },
      "pygments_lexer": "ipython3",
      "nbconvert_exporter": "python",
      "file_extension": ".py"
    },
    "microsoft": {
      "host": {
        "AzureML": {
          "notebookHasBeenCompleted": true
        }
      }
    },
    "kernel_info": {
      "name": "python38-azureml"
    },
    "nteract": {
      "version": "nteract-front-end@1.0.0"
    }
  },
  "nbformat": 4,
  "nbformat_minor": 2
}