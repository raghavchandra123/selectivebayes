{
  "cells": [
    {
      "cell_type": "code",
      "source": [
        "import pandas as pd\r\n",
        "import pubchempy as pcp\r\n",
        "import seaborn as sns\r\n",
        "import rdkit\r\n",
        "import torch\r\n",
        "import vina\r\n",
        "import meeko\r\n",
        "import pexpect\r\n",
        "import pickle\r\n",
        "import numpy as np\r\n",
        "from scipy.stats import norm\r\n",
        "from typing import Optional, Union, List\r\n",
        "from bayes_opt import BayesianOptimization\r\n",
        "from bayes_opt.util import load_logs\r\n",
        "from bayes_opt.domain_reduction import DomainTransformer\r\n",
        "from bayes_opt.logger import JSONLogger\r\n",
        "from bayes_opt.event import Events\r\n",
        "from bayes_opt.target_space import TargetSpace\r\n",
        "import sys\r\n",
        "from contextlib import redirect_stdout\r\n",
        "\r\n",
        "from selectivebayes.interfaces import vaeinterface,vinainterface\r\n",
        "from selectivebayes.transformers import SequentialDomainReductionTransformer,SimpleDomainReduction\r\n",
        "\r\n",
        "def visualise(molecules,labels, size,row):\r\n",
        "    img = rdkit.Chem.Draw.MolsToGridImage([rdkit.Chem.MolFromSmiles(mol) for mol in molecules],subImgSize=(size,size),molsPerRow=row,legends=labels)\r\n",
        "    return img\r\n",
        "\r\n",
        "latent_size=56"
      ],
      "outputs": [],
      "execution_count": 10,
      "metadata": {
        "gather": {
          "logged": 1676456816948
        }
      }
    },
    {
      "cell_type": "code",
      "source": [
        "pbounds = {f\"f{i}\": (-3,3) for i in range(56)}\r\n",
        "bounds_transformer = SequentialDomainReductionTransformer(prob=0.5)\r\n",
        "optimizer = BayesianOptimization(f=np.square,pbounds=pbounds,verbose=0,bounds_transformer=bounds_transformer)\r\n",
        "load_logs(optimizer, logs=[\"./predictions/minwin05.json\"])\r\n",
        "seenpreds = set()\r\n",
        "predplot = []\r\n",
        "x=[]\r\n",
        "\r\n",
        "for i,pred in enumerate(optimizer.res):\r\n",
        "    if pred[\"target\"] not in seenpreds:\r\n",
        "        predplot.append(pred[\"target\"])\r\n",
        "        x.append(i)\r\n",
        "        seenpreds.add(pred[\"target\"])\r\n",
        "#ax=sns.regplot(x=x,y=predplot)\r\n",
        "#ax.set(xlabel=\"Iteration\",ylabel=\"Objective\")\r\n",
        "pred_df = pd.DataFrame(data={\"pred\": predplot,\"x\": x})\r\n",
        "#pred_df[\"rolling\"]=pred_df[\"pred\"].rolling(50,min_periods=5 ,center=True).mean()\r\n",
        "pred_df[\"rolling\"]=pred_df[\"pred\"].ewm(alpha=0.05).mean()\r\n",
        "sns.set(rc={'figure.figsize':(10,7)})\r\n",
        "sns.set_style(\"white\")\r\n",
        "ax=sns.scatterplot(data=pred_df,x=\"x\",y=\"pred\")\r\n",
        "ax=sns.lineplot(data=pred_df,x=\"x\",y=\"rolling\",color=\"red\")\r\n",
        "ax.set(xlabel=\"Iteration\",ylabel=\"Objective\")"
      ],
      "outputs": [],
      "execution_count": null,
      "metadata": {
        "jupyter": {
          "source_hidden": false,
          "outputs_hidden": false
        },
        "nteract": {
          "transient": {
            "deleting": false
          }
        }
      }
    },
    {
      "cell_type": "code",
      "source": [
        "\r\n",
        "data = pickle.load(open(\"./predictions/200pred_list_prob03_doubleexhaustforbest.pk1\",\"rb\"))\r\n",
        "seendata = set()\r\n",
        "for molecule in data:\r\n",
        "    if molecule[0] in seendata:\r\n",
        "        molecule[1]=0\r\n",
        "    seendata.add(molecule[0])\r\n",
        "data = sorted(data,key=lambda x:x[1],reverse=True)\r\n",
        "nummolecs = 20\r\n",
        "topmolecules = [molecule[0] for molecule in data[:nummolecs]]\r\n",
        "topscores = [\"%.3f\"%round(molecule[1],3) for molecule in data[:nummolecs]]\r\n",
        "for i in topmolecules:\r\n",
        "    print(f\"SMILES='{i}'\")\r\n",
        "#visualise(topmolecules,topscores, size=250,row=5)\r\n"
      ],
      "outputs": [
        {
          "output_type": "stream",
          "name": "stdout",
          "text": "SMILES='CCOC(=O)n1ccc(NCc2cc(Cl)ccc2-c2ccco2)n1'\nSMILES='CC(=O)N[C@@]12C=CC=C[C@@]1(C)N(C(=O)NCc1ccc(Cl)cc1)CCO2'\nSMILES='C[C@H](Nc1ccc[nH+]c1)OC(=O)n1nccc1-c1ccc(Cl)cc1'\nSMILES='Cc1occ(NC(=O)Cc2cccc(N3CCCC3)c2)c1Cl'\nSMILES='C[C@@H](Nc1ccc[nH+]c1)OC(=O)c1cc(N)nn1-c1cccc(Cl)c1'\nSMILES='C[C@@H](Nc1cccc[nH+]1)OC(=O)n1nc(N)cc1-c1ccc(Cl)cc1'\nSMILES='CCOC(=O)n1nccc1-c1cocc1NCC(=O)c1ccccc1'\nSMILES='CCN(C(=O)c1ccccc1Cl)[C@H]1CC[C@@]([NH3+])(Cc2ccccc2)[NH2+]1'\nSMILES='Cc1cocc1NC(=O)[C@H](C)n1nc(N)c2ccccc21'\nSMILES='Cc1oc(NC(=O)Cc2ccccc2-n2cccn2)c2c1CC=CC2'\nSMILES='Cc1oc(NC(=O)Cc2ccccc2N2CCCC2)c2[nH]cnc12'\nSMILES='O=C(OCc1ccoc1)n1ccc(NCc2ccccc2Cl)n1'\nSMILES='Cc1cccc(-n2cc3ccoc3c2C(=O)NCc2ccc(Cl)cc2)c1'\nSMILES='CCOc1ccnn1-c1cc(Cl)ccc1C(=O)N[C@@H](C)[n+]1ccccc1'\nSMILES='Cc1ccc([C@@H](C)N(c2cccc(Cl)c2)c2c[nH]c(N)c2)cc1'\nSMILES='CCOc1cn(-c2ccc(Cl)cc2)nc1C(=O)NCc1ccccc1[N+](=O)[O-]'\nSMILES='CCOc1cccc(-n2c(C(=O)NCc3ccc(Cl)cc3)cc3sccc32)c1'\nSMILES='Cc1cc(NC(=O)c2ccc(Cl)cc2N2CCNC[C@@]2(N)C#N)co1'\nSMILES='Cc1nc(Nc2cc(Cl)ccc2[C@H]2CCN(C(=O)Cc3cccs3)C2)no1'\nSMILES='C=C(C(=O)[O-])c1ccccc1N[C@@H]1N[C@@](C)(N)COC1=O'\n"
        }
      ],
      "execution_count": 34,
      "metadata": {
        "jupyter": {
          "source_hidden": false,
          "outputs_hidden": false
        },
        "nteract": {
          "transient": {
            "deleting": false
          }
        },
        "gather": {
          "logged": 1676460263669
        }
      }
    },
    {
      "cell_type": "code",
      "source": [
        "data2 = pickle.load(open(\"./predictions/500pred_list_newdomainreduction.pk1\",\"rb\"))\r\n",
        "seendata2 = set()\r\n",
        "for molecule in data2:\r\n",
        "    if molecule[0] in seendata2:\r\n",
        "        molecule[1]=0\r\n",
        "    seendata2.add(molecule[0])\r\n",
        "data2 = sorted(data2,key=lambda x:x[1],reverse=True)\r\n",
        "topmolecules2 = [molecule[0] for molecule in data2[:nummolecs]]\r\n",
        "\r\n",
        "molfing=[]\r\n",
        "molecs=[]\r\n",
        "for molec in topmolecules:\r\n",
        "    molecs.append(molec)\r\n",
        "    molfing.append(rdkit.Chem.RDKFingerprint(rdkit.Chem.MolFromSmiles(molec)))\r\n",
        "molfing2=[]\r\n",
        "molecs2=[]\r\n",
        "for molec in topmolecules2:\r\n",
        "    molecs2.append(molec)\r\n",
        "    molfing2.append(rdkit.Chem.RDKFingerprint(rdkit.Chem.MolFromSmiles(molec)))\r\n",
        "\r\n",
        "for j,molec2 in enumerate(molfing2):\r\n",
        "    scores = rdkit.Chem.DataStructs.BulkTanimotoSimilarity(molec2, molfing)\r\n",
        "    for i, score in enumerate(scores):\r\n",
        "        if score >= 0.4:\r\n",
        "            target_id = molecs[i]\r\n",
        "            print(f\"{molecs2[j]}\\t{target_id}\\t{score:.3f}\")"
      ],
      "outputs": [],
      "execution_count": null,
      "metadata": {
        "jupyter": {
          "source_hidden": false,
          "outputs_hidden": false
        },
        "nteract": {
          "transient": {
            "deleting": false
          }
        }
      }
    },
    {
      "cell_type": "code",
      "source": [
        "molecules = []\r\n",
        "for molec in topmolecules:\r\n",
        "    comps = pcp.get_compounds(molec,\"smiles\", searchtype='fastsimilarity_3d', listkey_count=1)\r\n",
        "    print(comps[0].isomeric_smiles)\r\n",
        "    molecules.append(comps[0].isomeric_smiles)\r\n",
        "visualise([molecules],None,250,5)"
      ],
      "outputs": [
        {
          "output_type": "error",
          "ename": "IndexError",
          "evalue": "list index out of range",
          "traceback": [
            "\u001b[0;31m---------------------------------------------------------------------------\u001b[0m",
            "\u001b[0;31mIndexError\u001b[0m                                Traceback (most recent call last)",
            "Cell \u001b[0;32mIn [29], line 4\u001b[0m\n\u001b[1;32m      2\u001b[0m \u001b[38;5;28;01mfor\u001b[39;00m molec \u001b[38;5;129;01min\u001b[39;00m topmolecules:\n\u001b[1;32m      3\u001b[0m     comps \u001b[38;5;241m=\u001b[39m pcp\u001b[38;5;241m.\u001b[39mget_compounds(molec,\u001b[38;5;124m\"\u001b[39m\u001b[38;5;124msmiles\u001b[39m\u001b[38;5;124m\"\u001b[39m, searchtype\u001b[38;5;241m=\u001b[39m\u001b[38;5;124m'\u001b[39m\u001b[38;5;124mfastsimilarity_3d\u001b[39m\u001b[38;5;124m'\u001b[39m, listkey_count\u001b[38;5;241m=\u001b[39m\u001b[38;5;241m1\u001b[39m)\n\u001b[0;32m----> 4\u001b[0m     \u001b[38;5;28mprint\u001b[39m(\u001b[43mcomps\u001b[49m\u001b[43m[\u001b[49m\u001b[38;5;241;43m0\u001b[39;49m\u001b[43m]\u001b[49m\u001b[38;5;241m.\u001b[39misomeric_smiles)\n\u001b[1;32m      5\u001b[0m     molecules\u001b[38;5;241m.\u001b[39mappend(comps[\u001b[38;5;241m0\u001b[39m]\u001b[38;5;241m.\u001b[39misomeric_smiles)\n\u001b[1;32m      6\u001b[0m visualise([molecules],\u001b[38;5;28;01mNone\u001b[39;00m,\u001b[38;5;241m250\u001b[39m,\u001b[38;5;241m5\u001b[39m)\n",
            "\u001b[0;31mIndexError\u001b[0m: list index out of range"
          ]
        }
      ],
      "execution_count": 29,
      "metadata": {
        "jupyter": {
          "source_hidden": false,
          "outputs_hidden": false
        },
        "nteract": {
          "transient": {
            "deleting": false
          }
        },
        "gather": {
          "logged": 1676458590315
        }
      }
    },
    {
      "cell_type": "code",
      "source": [],
      "outputs": [],
      "execution_count": null,
      "metadata": {
        "jupyter": {
          "source_hidden": false,
          "outputs_hidden": false
        },
        "nteract": {
          "transient": {
            "deleting": false
          }
        }
      }
    }
  ],
  "metadata": {
    "kernelspec": {
      "name": "python38-azureml",
      "language": "python",
      "display_name": "Python 3.8 - AzureML"
    },
    "language_info": {
      "name": "python",
      "version": "3.8.5",
      "mimetype": "text/x-python",
      "codemirror_mode": {
        "name": "ipython",
        "version": 3
      },
      "pygments_lexer": "ipython3",
      "nbconvert_exporter": "python",
      "file_extension": ".py"
    },
    "kernel_info": {
      "name": "python38-azureml"
    },
    "nteract": {
      "version": "nteract-front-end@1.0.0"
    }
  },
  "nbformat": 4,
  "nbformat_minor": 2
}