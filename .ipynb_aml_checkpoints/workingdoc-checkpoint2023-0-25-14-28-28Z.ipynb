{
  "cells": [
    {
      "cell_type": "code",
      "source": [
        "import pandas as pd\r\n",
        "import seaborn as sns\r\n",
        "import rdkit\r\n",
        "import torch\r\n",
        "import vina\r\n",
        "import meeko\r\n",
        "import pexpect\r\n",
        "import pickle\r\n",
        "import numpy as np\r\n",
        "from scipy.stats import norm\r\n",
        "from typing import Optional, Union, List\r\n",
        "from bayes_opt import BayesianOptimization\r\n",
        "from bayes_opt.util import load_logs\r\n",
        "from bayes_opt.domain_reduction import DomainTransformer\r\n",
        "from bayes_opt.logger import JSONLogger\r\n",
        "from bayes_opt.event import Events\r\n",
        "from bayes_opt.target_space import TargetSpace\r\n",
        "import dimorphite_dl\r\n",
        "import sys\r\n",
        "from contextlib import redirect_stdout\r\n",
        "latent_size=56"
      ],
      "outputs": [],
      "execution_count": 23,
      "metadata": {
        "gather": {
          "logged": 1674650588115
        }
      }
    },
    {
      "cell_type": "code",
      "source": [
        "cmd = \"conda run -n jtvae --no-capture-output python sample.py --nsample 3 --vocab data/zinc/vocab.txt --hidden 450 --depth 3 --latent 56 --model molvae/MPNVAE-h450-L56-d3-beta0.005/model.iter-4\"  # launch your python2 script\n",
        "\n",
        "class vaeinterface:\n",
        "    def __init__(self):\n",
        "        self.dim=dimorphite_dl.DimorphiteDL(min_ph=7.4,max_ph=7.4,max_variants=1)\n",
        "        pass\n",
        "    def start(self):\n",
        "        self.p=pexpect.spawn(cmd,timeout=1200,logfile=open('mylog.txt','wb'))\n",
        "    def decode(self,all_vec):\n",
        "        p=self.p\n",
        "        p.expect(\"ready\")\n",
        "        tree_vec = all_vec[:,0:latent_size//2].astype(\"f\")\n",
        "        mol_vec = all_vec[:,latent_size//2:].astype(\"f\")\n",
        "        pickle.dump([tree_vec,mol_vec],open(\"molvec.pk1\",\"wb\"),protocol=2)\n",
        "        p.sendline(\"'go'\")\n",
        "        p.expect(\"~.*~\")\n",
        "        mol=p.after.decode()[1:-1]\n",
        "        return mol\n",
        "        #if mol==\"failed\":\n",
        "        #    return mol\n",
        "        #try:\n",
        "        #    protmol = self.dim.protonate(mol)\n",
        "        #    return protmol[0]\n",
        "        #except:\n",
        "        #    return mol\n",
        "    def debug(self):\n",
        "        p = self.p\n",
        "        p.expect(\"ready\")\n",
        "        p.sendline(\"'go'\")\n",
        "        p.expect(\"~.*~\")\n",
        "        mol=p.after.decode()[1:-1]\n",
        "        print(mol)\n",
        "        protmol = self.dim.protonate(mol)\n",
        "        print(protmol[0])\n",
        "    def encode(self,mol):\n",
        "        p=self.p\n",
        "        p.expect(\"ready\")\n",
        "        p.sendline(\"'enc\"+mol+\"'\")\n",
        "        p.expect(\"done\")\n",
        "        all_vec = pickle.load(open(\"encoded.pk1\",\"rb\"),encoding=\"latin1\")\n",
        "        return all_vec\n",
        "    def reconstruct(self,mol):\n",
        "        p=self.p\n",
        "        all_vec = self.encode(mol)\n",
        "        return self.decode(all_vec)\n",
        "        \n",
        "    def stop(self):\n",
        "        p=self.p\n",
        "        p.sendline(\"'stop'\")\n",
        "\n",
        "def visualise(molecules):\n",
        "    img = rdkit.Chem.Draw.MolsToGridImage([rdkit.Chem.MolFromSmiles(mol) for mol in molecules],subImgSize=(300,300))\n",
        "    return img\n",
        "\n",
        "class vinainterface:\n",
        "    def __init__(self,receptor,center):\n",
        "        v = vina.Vina(sf_name='vinardo', verbosity=0)\n",
        "        v.set_receptor(receptor)\n",
        "        v.compute_vina_maps(center=center, box_size=[30, 30, 30])\n",
        "        self.v=v\n",
        "        self.predicted = {}\n",
        "        self.receptor = receptor\n",
        "        self.center = center\n",
        "        print(\"Vina Initialisation complete\")\n",
        "    def predict(self,molecule,exhaustiveness):\n",
        "        if molecule==\"failed\":\n",
        "            return -5.0,-1\n",
        "        if molecule in self.predicted:\n",
        "            print(\"SEEN\")\n",
        "            return self.predicted[molecule],1\n",
        "        lig = rdkit.Chem.MolFromSmiles(molecule)\n",
        "        protonated_lig = rdkit.Chem.AddHs(lig)\n",
        "        success = rdkit.Chem.AllChem.EmbedMolecule(protonated_lig)\n",
        "        if success==-1:\n",
        "            success=rdkit.Chem.AllChem.EmbedMolecule(protonated_lig, useRandomCoords = True)\n",
        "        if success==-1:\n",
        "            print(\"failed conformer gen\")\n",
        "            return -5.0,-1\n",
        "        v=self.v\n",
        "        meeko_prep = meeko.MoleculePreparation()\n",
        "        meeko_prep.prepare(protonated_lig)\n",
        "        lig_pdbqt = meeko_prep.write_pdbqt_string()\n",
        "        v.set_ligand_from_string(lig_pdbqt)\n",
        "        v.dock(exhaustiveness=exhaustiveness, n_poses=20)\n",
        "        en=np.sum(v.energies(n_poses=1)[0][1:4])\n",
        "        self.predicted[molecule]=en\n",
        "        return en,1\n",
        "    \n",
        "class sminainterface:\n",
        "    def __init__(self,receptor,center):\n",
        "        self.receptor = receptor\n",
        "        self.center = center\n",
        "        self.predicted = {}\n",
        "    def predict(self,molecule,exhaustiveness):\n",
        "        if molecule==\"failed\":\n",
        "            return -5.0\n",
        "        if molecule in self.predicted:\n",
        "            print(\"SEEN\")\n",
        "            return self.predicted[molecule]\n",
        "        center = self.center\n",
        "        receptor = self.receptor\n",
        "        lig = rdkit.Chem.MolFromSmiles(molecule)\n",
        "        rdkit.Chem.MolToMolFile(lig,\"current_lig.mol\")\n",
        "        !Jupyter_Dock/bin/smina -r {receptor} -l {'current_lig.mol'} -o {'mol_out.sdf'} --center_x {center[0]} --center_y {center[1]} --center_z {center[2]} --size_x {30} --size_y {30} --size_z {30} --exhaustiveness {exhaustiveness} --num_modes 1 --scoring vinardo -q\n",
        "        poses=rdkit.Chem.SDMolSupplier('mol_out.sdf')\n",
        "\n",
        "        aff = float(poses[0].GetProp(\"minimizedAffinity\"))\n",
        "        self.predicted[molecule] = aff\n",
        "        return aff\n",
        "\n",
        "class qvinainterface:\n",
        "    def __init__(self,receptor,center):\n",
        "        self.receptor = receptor\n",
        "        self.center = center\n",
        "        self.predicted = {}\n",
        "    def predict(self,molecule,exhaustiveness):\n",
        "        if molecule==\"failed\":\n",
        "            return -5.0\n",
        "        if molecule in self.predicted:\n",
        "            print(\"SEEN\")\n",
        "            return self.predicted[molecule]\n",
        "        center = self.center\n",
        "        receptor = self.receptor\n",
        "        lig = rdkit.Chem.MolFromSmiles(molecule)\n",
        "        protonated_lig = rdkit.Chem.AddHs(lig)\n",
        "        success = rdkit.Chem.AllChem.EmbedMolecule(protonated_lig)\n",
        "        meeko_prep = meeko.MoleculePreparation()\n",
        "        meeko_prep.prepare(protonated_lig)\n",
        "        lig_pdbqt = meeko_prep.write_pdbqt_file(\"current_lig.pdbqt\")\n",
        "        !Jupyter_Dock/bin/qvina2.1 --receptor {receptor} --ligand current_lig.pdbqt --out out.pdbqt --center_x {center[0]} --center_y {center[1]} --center_z {center[2]} --size_x {30} --size_y {30} --size_z {30} --exhaustiveness {exhaustiveness} --num_modes 1\n",
        "        f=open('out.pdbqt')\n",
        "        lines=f.readlines()\n",
        "        aff = float(lines[1].split()[3])\n",
        "        self.predicted[molecule] = aff\n",
        "        return aff\n",
        "\n",
        "\n",
        "knowndrugs = {\"Gilteritinib\":r\"CCc1nc(C(=O)N)c(Nc2ccc(N3CCC(CC3)N4CCN(C)CC4)c(OC)c2)nc1NC5CCOCC5\", \n",
        "              \"Quizartinib\":r\"CC(C)(C)c1cc(no1)NC(=O)Nc2ccc(cc2)c3cn4c5ccc(cc5sc4n3)OCCN6CCOCC6\", \n",
        "              \"Crenolanib\":r\"O(c5cc4ncn(c1nc3c(cc1)cccc3N2CCC(N)CC2)c4cc5)CC6(COC6)C\",\n",
        "              \"Tandutinib\":r\"CC(C)OC1=CC=C(C=C1)NC(=O)N2CCN(CC2)C3=NC=NC4=CC(=C(C=C43)OC)OCCCN5CCCCC5\",\n",
        "              \"Sorafenib\":r\"CNC(=O)c1cc(ccn1)Oc2ccc(cc2)NC(=O)Nc3ccc(c(c3)C(F)(F)F)Cl\",\n",
        "              \"Sunitinib\":r\"CCN(CC)CCNC(=O)c1c(c([nH]c1C)/C=C\\2/c3cc(ccc3NC2=O)F)C\",\n",
        "              \"Lestaurtinib\":r\"C[C@@]12[C@](C[C@@H](O1)n3c4ccccc4c5c3c6n2c7ccccc7c6c8c5C(=O)NC8)(CO)O\",\n",
        "              \"Midostaurin\":r\"C[C@@]12[C@@H]([C@@H](C[C@@H](O1)N3C4=CC=CC=C4C5=C6C(=C7C8=CC=CC=C8N2C7=C53)CNC6=O)N(C)C(=O)C9=CC=CC=C9)OC\",\n",
        "              \"Ponatinib\":r\"Cc1ccc(cc1C#Cc2cnc3n2nccc3)C(=O)Nc4ccc(c(c4)C(F)(F)F)CN5CCN(CC5)C\"\n",
        "              }\n",
        "fps = {x:rdkit.Chem.RDKFingerprint(rdkit.Chem.MolFromSmiles(knowndrugs[x])) for x in knowndrugs}\n",
        "def simsearch(molecule):\n",
        "    if molecule==\"failed\":\n",
        "        return 0,0\n",
        "    molfing = rdkit.Chem.RDKFingerprint(rdkit.Chem.MolFromSmiles(molecule))\n",
        "    highestsim = 0\n",
        "    bestmolec = \"\"\n",
        "    for fp in fps:\n",
        "        currsim = rdkit.DataStructs.FingerprintSimilarity(fps[fp],molfing)\n",
        "        if currsim>highestsim:\n",
        "            highestsim=currsim\n",
        "            bestmolec = fp\n",
        "    return highestsim,bestmolec"
      ],
      "outputs": [],
      "execution_count": 3,
      "metadata": {
        "jupyter": {
          "source_hidden": false,
          "outputs_hidden": false
        },
        "nteract": {
          "transient": {
            "deleting": false
          }
        },
        "gather": {
          "logged": 1674645159126
        }
      }
    },
    {
      "cell_type": "code",
      "source": [
        "class SequentialDomainReductionTransformer(DomainTransformer):\r\n",
        "    \"\"\"\r\n",
        "    A sequential domain reduction transformer bassed on the work by Stander, N. and Craig, K:\r\n",
        "    \"On the robustness of a simple domain reduction scheme for simulation‐based optimization\"\r\n",
        "    \"\"\"\r\n",
        "\r\n",
        "    def __init__(\r\n",
        "        self,\r\n",
        "        gamma_osc: float = 0.7,\r\n",
        "        gamma_pan: float = 1.0,\r\n",
        "        eta: float = 0.9,\r\n",
        "        prob = 0.2\r\n",
        "    ) -> None:\r\n",
        "        self.gamma_osc = gamma_osc\r\n",
        "        self.gamma_pan = gamma_pan\r\n",
        "        self.eta = eta\r\n",
        "        self.prob = prob\r\n",
        "\r\n",
        "    def initialize(self, target_space: TargetSpace) -> None:\r\n",
        "        \"\"\"Initialize all of the parameters\"\"\"\r\n",
        "        self.original_bounds = np.copy(target_space.bounds)\r\n",
        "        self.bounds = [self.original_bounds]\r\n",
        "\r\n",
        "        self.previous_optimal = np.mean(target_space.bounds, axis=1)\r\n",
        "        self.current_optimal = np.mean(target_space.bounds, axis=1)\r\n",
        "        self.r = target_space.bounds[:, 1] - target_space.bounds[:, 0]\r\n",
        "\r\n",
        "        self.previous_d = 2.0 * \\\r\n",
        "            (self.current_optimal - self.previous_optimal) / self.r\r\n",
        "\r\n",
        "        self.current_d = 2.0 * (self.current_optimal -\r\n",
        "                                self.previous_optimal) / self.r\r\n",
        "\r\n",
        "        self.c = self.current_d * self.previous_d\r\n",
        "        self.c_hat = np.sqrt(np.abs(self.c)) * np.sign(self.c)\r\n",
        "\r\n",
        "        self.gamma = 0.5 * (self.gamma_pan * (1.0 + self.c_hat) +\r\n",
        "                            self.gamma_osc * (1.0 - self.c_hat))\r\n",
        "\r\n",
        "        self.contraction_rate = self.eta + \\\r\n",
        "            np.abs(self.current_d) * (self.gamma - self.eta)\r\n",
        "\r\n",
        "        self.r = self.contraction_rate * self.r\r\n",
        "\r\n",
        "    def _update(self, target_space: TargetSpace) -> None:\r\n",
        "\r\n",
        "        # setting the previous\r\n",
        "        self.previous_optimal = self.current_optimal\r\n",
        "        self.previous_d = self.current_d\r\n",
        "\r\n",
        "        self.current_optimal = target_space.params[\r\n",
        "            np.argmax(target_space.target)\r\n",
        "        ]\r\n",
        "\r\n",
        "        self.current_d = 2.0 * (self.current_optimal -\r\n",
        "                                self.previous_optimal) / self.r\r\n",
        "\r\n",
        "        self.c = self.current_d * self.previous_d\r\n",
        "\r\n",
        "        self.c_hat = np.sqrt(np.abs(self.c)) * np.sign(self.c)\r\n",
        "\r\n",
        "        self.gamma = 0.5 * (self.gamma_pan * (1.0 + self.c_hat) +\r\n",
        "                            self.gamma_osc * (1.0 - self.c_hat))\r\n",
        "\r\n",
        "        self.contraction_rate = self.eta + \\\r\n",
        "            np.abs(self.current_d) * (self.gamma - self.eta)\r\n",
        "\r\n",
        "        self.r = self.contraction_rate * self.r\r\n",
        "\r\n",
        "    def _trim(self, new_bounds: np.array, global_bounds: np.array) -> np.array:\r\n",
        "        prob = self.prob\r\n",
        "        #make symmetric interval about current best with area prob\r\n",
        "        self.minimum_window = np.repeat(self.current_optimal[:,None],2,axis=1)\r\n",
        "        for i in range(new_bounds.shape[0]):\r\n",
        "            while norm.cdf(self.minimum_window[i,1])-norm.cdf(self.minimum_window[i,0])<prob:\r\n",
        "                if self.minimum_window[i,1]<global_bounds[i,1]:\r\n",
        "                    self.minimum_window[i,1]+=0.05\r\n",
        "                if self.minimum_window[i,0]>global_bounds[i,0]:\r\n",
        "                    self.minimum_window[i,0]-=0.05\r\n",
        "        for i in range(new_bounds.shape[0]):\r\n",
        "            if new_bounds[i,0]>self.minimum_window[i,0]:\r\n",
        "                new_bounds[i,0]=self.minimum_window[i,0]\r\n",
        "            if new_bounds[i,1]<self.minimum_window[i,1]:\r\n",
        "                new_bounds[i,1]=self.minimum_window[i,1]\r\n",
        "            if new_bounds[i,0]<global_bounds[i,0]:\r\n",
        "                new_bounds[i,0]=global_bounds[i,0]\r\n",
        "            if new_bounds[i,1]>global_bounds[i,1]:\r\n",
        "                new_bounds[i,1]=global_bounds[i,1]\r\n",
        "\r\n",
        "        return new_bounds\r\n",
        "\r\n",
        "    def _create_bounds(self, parameters: dict, bounds: np.array) -> dict:\r\n",
        "        return {param: bounds[i, :] for i, param in enumerate(parameters)}\r\n",
        "\r\n",
        "    def transform(self, target_space: TargetSpace) -> dict:\r\n",
        "\r\n",
        "        self._update(target_space)\r\n",
        "\r\n",
        "        new_bounds = np.array(\r\n",
        "            [\r\n",
        "                self.current_optimal - 0.5 * self.r,\r\n",
        "                self.current_optimal + 0.5 * self.r\r\n",
        "            ]\r\n",
        "        ).T\r\n",
        "\r\n",
        "        self._trim(new_bounds, self.original_bounds)\r\n",
        "        self.bounds.append(new_bounds)\r\n",
        "        return self._create_bounds(target_space.keys, new_bounds)"
      ],
      "outputs": [],
      "execution_count": 48,
      "metadata": {
        "jupyter": {
          "source_hidden": false,
          "outputs_hidden": false
        },
        "nteract": {
          "transient": {
            "deleting": false
          }
        },
        "gather": {
          "logged": 1674652259205
        }
      }
    },
    {
      "cell_type": "code",
      "source": [
        "from hide_warnings import hide_warnings\n",
        "\n",
        "beta = 4184/(8.3145*310)\n",
        "pred_list = []\n",
        "\n",
        "@hide_warnings(out=False)\n",
        "def optstart(numiters):\n",
        "    ind=0\n",
        "    print(\"Starting\")\n",
        "    flt3 = vinainterface(\"receptorstruc.pdbqt\",[-28.03685,\t-10.361925,\t-28.9883])\n",
        "    ckit = vinainterface(\"ckit.pdbqt\",[45.93035714,\t97.03574286,\t16.1472])\n",
        "    pdgfra = vinainterface(\"pdgfra.pdbqt\",[17.58837931,\t132.5595172,\t-6.030275862])\n",
        "    vegfr = vinainterface(\"VEGFR.pdbqt\",[25.997,\t28.605,\t17.134])\n",
        "    mk2 = vinainterface(\"MK2.pdbqt\",[47.6395,\t34.809,\t16.708])\n",
        "    jak2 = vinainterface(\"JAK2.pdbqt\",[-31.7445,\t-49.661,\t35.4655])\n",
        "      \n",
        "    def optfunction(**kwargs):\n",
        "        nonlocal ind\n",
        "        ind+=1\n",
        "        mol=vaeint.decode(np.expand_dims(np.fromiter(kwargs.values(),dtype=float),axis=0))\n",
        "        exh = 8\n",
        "        flt3_pred,success = flt3.predict(mol,exh)\n",
        "        if success!=-1:\n",
        "            pdgfra_pred = pdgfra.predict(mol,exh)[0]\n",
        "            ckit_pred = ckit.predict(mol,exh)[0]\n",
        "            vegfr_pred = vegfr.predict(mol,exh)[0]\n",
        "            mk2_pred = mk2.predict(mol,exh)[0]\n",
        "            jak2_pred = jak2.predict(mol,exh)[0]\n",
        "        else:\n",
        "            pdgfra_pred = -5.0\n",
        "            ckit_pred = -5.0\n",
        "            vegfr_pred = -5.0\n",
        "            mk2_pred =-5.0\n",
        "            jak2_pred = -5.0\n",
        "        all_preds = [flt3_pred,pdgfra_pred,ckit_pred,vegfr_pred,mk2_pred,jak2_pred]\n",
        "\n",
        "        anybind=-6.0\n",
        "\n",
        "        prediction = np.exp(-beta*flt3_pred)/(np.exp(-beta*anybind)+np.sum([np.exp(-beta*pr) for pr in all_preds]))\n",
        "        pred_list.append([mol,prediction,all_preds])\n",
        "\n",
        "        sim,molec = simsearch(mol)\n",
        "        print(f\"{ind}: {mol}, Pred: {prediction:.4f}, SimDrug: {molec}, SimVal: {sim:.3f}\")\n",
        "        print(f\"FLT3: {flt3_pred:.2f}, PDGFRA: {pdgfra_pred:.2f}, CKIT: {ckit_pred:.2f}, VEGFR: {vegfr_pred:.2f}, MK2: {mk2_pred:.2f}, JAK2: {jak2_pred:.2f}\")\n",
        "        \n",
        "        return prediction\n",
        "\n",
        "    pbounds = {f\"f{i}\": (-3,3) for i in range(56)}\n",
        "    bounds_transformer = SequentialDomainReductionTransformer(prob=0.3)\n",
        "    optimizer = BayesianOptimization(f=optfunction,pbounds=pbounds,verbose=0,bounds_transformer=bounds_transformer)\n",
        "    logger = JSONLogger(path=\"./testing.json\")\n",
        "    optimizer.subscribe(Events.OPTIMIZATION_STEP, logger)\n",
        "    optimizer.set_gp_params(alpha=0.1)\n",
        "    #load_logs(optimizer, logs=[\"./initial100.json\"])\n",
        "    vaeint=vaeinterface()\n",
        "    vaeint.start()\n",
        "    optimizer.maximize(init_points=0,n_iter=numiters)\n",
        "    vaeint.stop()\n",
        "optstart(200)\n",
        "#pickle.dump(pred_list,open(\"500pred_list_minwin1.pk1\",\"wb\"),protocol=2)"
      ],
      "outputs": [],
      "execution_count": 55,
      "metadata": {
        "jupyter": {
          "source_hidden": false,
          "outputs_hidden": false
        },
        "nteract": {
          "transient": {
            "deleting": false
          }
        },
        "gather": {
          "logged": 1674656609275
        }
      }
    },
    {
      "cell_type": "code",
      "source": [
        "pickle.dump(pred_list,open(\"500pred_list_minwin1.pk1\",\"wb\"),protocol=2)"
      ],
      "outputs": [],
      "execution_count": 15,
      "metadata": {
        "jupyter": {
          "source_hidden": false,
          "outputs_hidden": false
        },
        "nteract": {
          "transient": {
            "deleting": false
          }
        },
        "gather": {
          "logged": 1674572254658
        }
      }
    },
    {
      "cell_type": "code",
      "source": [
        "pbounds = {f\"f{i}\": (-3,3) for i in range(56)}\r\n",
        "bounds_transformer = SequentialDomainReductionTransformer(prob=0.5)\r\n",
        "optimizer = BayesianOptimization(f=optstart,pbounds=pbounds,verbose=0,bounds_transformer=bounds_transformer)\r\n",
        "load_logs(optimizer, logs=[\"./testing.json\"])\r\n"
      ],
      "outputs": [
        {
          "output_type": "execute_result",
          "execution_count": 51,
          "data": {
            "text/plain": "<bayes_opt.bayesian_optimization.BayesianOptimization at 0x7fc3f5622ee0>"
          },
          "metadata": {}
        }
      ],
      "execution_count": 51,
      "metadata": {
        "jupyter": {
          "source_hidden": false,
          "outputs_hidden": false
        },
        "nteract": {
          "transient": {
            "deleting": false
          }
        },
        "gather": {
          "logged": 1674656671388
        }
      }
    },
    {
      "cell_type": "code",
      "source": [
        "seenpreds = set()\r\n",
        "predplot = []\r\n",
        "x=[]\r\n",
        "for i,pred in enumerate(optimizer.res):\r\n",
        "    if pred[\"target\"] not in seenpreds and i>100:\r\n",
        "        predplot.append(pred[\"target\"])\r\n",
        "        x.append(i)\r\n",
        "        seenpreds.add(pred[\"target\"])\r\n",
        "ax=sns.regplot(x=x,y=predplot)\r\n",
        "ax.set(xlabel=\"Iteration\",ylabel=\"Objective\")\r\n"
      ],
      "outputs": [
        {
          "output_type": "execute_result",
          "execution_count": 54,
          "data": {
            "text/plain": "[Text(0.5, 0, 'Iteration'), Text(0, 0.5, 'Objective')]"
          },
          "metadata": {}
        },
        {
          "output_type": "display_data",
          "data": {
            "text/plain": "<Figure size 640x480 with 1 Axes>",
            "image/png": "[encoded data removed]"
          },
          "metadata": {}
        }
      ],
      "execution_count": 54,
      "metadata": {
        "jupyter": {
          "source_hidden": false,
          "outputs_hidden": false
        },
        "nteract": {
          "transient": {
            "deleting": false
          }
        },
        "gather": {
          "logged": 1674656843203
        }
      }
    },
    {
      "cell_type": "code",
      "source": [
        "from hide_warnings import hide_warnings\r\n",
        "@hide_warnings(out=False)\r\n",
        "def knowndrugeval():\r\n",
        "    beta = 4184/(8.3145*310)\r\n",
        "    flt3 = vinainterface(\"receptorstruc.pdbqt\",[-28.03685,\t-10.361925,\t-28.9883])\r\n",
        "    ckit = vinainterface(\"ckit.pdbqt\",[45.93035714,\t97.03574286,\t16.1472])\r\n",
        "    pdgfra = vinainterface(\"pdgfra.pdbqt\",[17.58837931,\t132.5595172,\t-6.030275862])\r\n",
        "    vegfr = vinainterface(\"VEGFR.pdbqt\",[25.997,\t28.605,\t17.134])\r\n",
        "    mk2 = vinainterface(\"MK2.pdbqt\",[47.6395,\t34.809,\t16.708])\r\n",
        "    jak2 = vinainterface(\"JAK2.pdbqt\",[-31.7445,\t-49.661,\t35.4655])\r\n",
        "\r\n",
        "    for drug in knowndrugs:\r\n",
        "        mol=knowndrugs[drug]\r\n",
        "        exh = 32\r\n",
        "        flt3_pred = flt3.predict(mol, exh)\r\n",
        "        pdgfra_pred = pdgfra.predict(mol, exh)\r\n",
        "        ckit_pred = ckit.predict(mol, exh)\r\n",
        "        vegfr_pred = vegfr.predict(mol, exh)\r\n",
        "        mk2_pred = mk2.predict(mol, exh)\r\n",
        "        jak2_pred = jak2.predict(mol, exh)\r\n",
        "        all_preds = [flt3_pred,pdgfra_pred,ckit_pred,vegfr_pred,mk2_pred,jak2_pred]\r\n",
        "\r\n",
        "        anybind=-6.0\r\n",
        "\r\n",
        "        prediction = np.exp(-beta*flt3_pred)/(np.exp(-beta*anybind)+np.sum([np.exp(-beta*pr) for pr in all_preds]))\r\n",
        "\r\n",
        "        sim,molec = simsearch(mol)\r\n",
        "        print(f\"{mol}, Pred: {prediction:.4f}, SimDrug: {molec}, SimVal: {sim:.3f}\")\r\n",
        "        print(f\"FLT3: {flt3_pred:.2f}, PDGFRA: {pdgfra_pred:.2f}, CKIT: {ckit_pred:.2f}, VEGFR: {vegfr_pred:.2f}, MK2: {mk2_pred:.2f}, JAK2: {jak2_pred:.2f}\")\r\n",
        "        break\r\n",
        "        \r\n",
        "\r\n",
        "knowndrugeval()\r\n"
      ],
      "outputs": [
        {
          "output_type": "stream",
          "name": "stdout",
          "text": "CCc1nc(C(=O)N)c(Nc2ccc(N3CCC(CC3)N4CCN(C)CC4)c(OC)c2)nc1NC5CCOCC5, Pred: 0.1157, SimDrug: Gilteritinib, SimVal: 1.000\nFLT3: -7.17, PDGFRA: -7.00, CKIT: -7.60, VEGFR: -6.80, MK2: -6.95, JAK2: -7.93\n"
        }
      ],
      "execution_count": 36,
      "metadata": {
        "jupyter": {
          "source_hidden": false,
          "outputs_hidden": false
        },
        "nteract": {
          "transient": {
            "deleting": false
          }
        },
        "gather": {
          "logged": 1674474493783
        }
      }
    },
    {
      "cell_type": "code",
      "source": [
        "for drug in knowndrugs:\r\n",
        "    mol = rdkit.Chem.MolFromSmiles(knowndrugs[drug])\r\n",
        "    #mol = rdkit.Chem.MolFromSmiles(r\"Cc1cccc2ccc(NC(=O)[C@@H](O)CNC(=O)c3cccc4c3NCC4)cc12\")\r\n",
        "    print(drug)\r\n",
        "    hbonds = rdkit.Chem.rdMolDescriptors.CalcNumHBA(mol)+rdkit.Chem.rdMolDescriptors.CalcNumHBD(mol)\r\n",
        "    q = rdkit.Chem.rdqueries.AtomNumEqualsQueryAtom(6)\r\n",
        "    sp2carbs=len(mol.GetAtomsMatchingQuery(q))*(1-rdkit.Chem.rdMolDescriptors.CalcFractionCSP3(mol))\r\n",
        "    heavyatoms = rdkit.Chem.rdMolDescriptors.CalcNumHeavyAtoms(mol)\r\n",
        "    print(hbonds,heavyatoms,sp2carbs)\r\n",
        "    max_score = hbonds*-0.6-0.045*heavyatoms-0.035*sp2carbs\r\n",
        "    print(max_score)"
      ],
      "outputs": [
        {
          "output_type": "stream",
          "name": "stdout",
          "text": "Gilteritinib\n13 40 11.0\n-9.985\nQuizartinib\n11 40 19.0\n-9.064999999999998\nCrenolanib\n8 33 16.0\n-6.845000000000001\nTandutinib\n9 41 15.0\n-7.77\nSorafenib\n7 32 19.0\n-6.305000000000001\nSunitinib\n6 29 14.0\n-5.395\nLestaurtinib\n9 33 19.0\n-7.55\nMidostaurin\n7 43 26.0\n-7.045\nPonatinib\n7 39 21.0\n-6.69\n"
        }
      ],
      "execution_count": 39,
      "metadata": {
        "jupyter": {
          "source_hidden": false,
          "outputs_hidden": false
        },
        "nteract": {
          "transient": {
            "deleting": false
          }
        },
        "gather": {
          "logged": 1674651137945
        }
      }
    },
    {
      "cell_type": "code",
      "source": [],
      "outputs": [],
      "execution_count": null,
      "metadata": {
        "jupyter": {
          "source_hidden": false,
          "outputs_hidden": false
        },
        "nteract": {
          "transient": {
            "deleting": false
          }
        }
      }
    }
  ],
  "metadata": {
    "kernelspec": {
      "name": "python38-azureml",
      "language": "python",
      "display_name": "Python 3.8 - AzureML"
    },
    "language_info": {
      "name": "python",
      "version": "3.8.5",
      "mimetype": "text/x-python",
      "codemirror_mode": {
        "name": "ipython",
        "version": 3
      },
      "pygments_lexer": "ipython3",
      "nbconvert_exporter": "python",
      "file_extension": ".py"
    },
    "microsoft": {
      "host": {
        "AzureML": {
          "notebookHasBeenCompleted": true
        }
      }
    },
    "kernel_info": {
      "name": "python38-azureml"
    },
    "nteract": {
      "version": "nteract-front-end@1.0.0"
    }
  },
  "nbformat": 4,
  "nbformat_minor": 2
}