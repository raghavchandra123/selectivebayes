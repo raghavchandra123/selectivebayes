{
  "cells": [
    {
      "cell_type": "code",
      "source": [
        "import pandas as pd\r\n",
        "import seaborn as sns\r\n",
        "import rdkit\r\n",
        "import torch\r\n",
        "import vina\r\n",
        "import meeko\r\n",
        "import pexpect\r\n",
        "import pickle\r\n",
        "import numpy as np\r\n",
        "from bayes_opt import BayesianOptimization\r\n",
        "from bayes_opt.util import load_logs\r\n",
        "from bayes_opt import SequentialDomainReductionTransformer\r\n",
        "from bayes_opt.logger import JSONLogger\r\n",
        "from bayes_opt.event import Events\r\n",
        "import dimorphite_dl\r\n",
        "import sys\r\n",
        "from contextlib import redirect_stdout\r\n",
        "latent_size=56"
      ],
      "outputs": [],
      "execution_count": 17,
      "metadata": {
        "gather": {
          "logged": 1674487549626
        }
      }
    },
    {
      "cell_type": "code",
      "source": [
        "cmd = \"conda run -n jtvae --no-capture-output python sample.py --nsample 3 --vocab data/zinc/vocab.txt --hidden 450 --depth 3 --latent 56 --model molvae/MPNVAE-h450-L56-d3-beta0.005/model.iter-4\"  # launch your python2 script\n",
        "\n",
        "class vaeinterface:\n",
        "    def __init__(self):\n",
        "        self.dim=dimorphite_dl.DimorphiteDL(min_ph=7.4,max_ph=7.4,max_variants=1)\n",
        "        pass\n",
        "    def start(self):\n",
        "        self.p=pexpect.spawn(cmd,timeout=1200,logfile=open('mylog.txt','wb'))\n",
        "    def decode(self,all_vec):\n",
        "        p=self.p\n",
        "        p.expect(\"ready\")\n",
        "        tree_vec = all_vec[:,0:latent_size//2].astype(\"f\")\n",
        "        mol_vec = all_vec[:,latent_size//2:].astype(\"f\")\n",
        "        pickle.dump([tree_vec,mol_vec],open(\"molvec.pk1\",\"wb\"),protocol=2)\n",
        "        p.sendline(\"'go'\")\n",
        "        p.expect(\"~.*~\")\n",
        "        mol=p.after.decode()[1:-1]\n",
        "        return mol\n",
        "        #if mol==\"failed\":\n",
        "        #    return mol\n",
        "        #try:\n",
        "        #    protmol = self.dim.protonate(mol)\n",
        "        #    return protmol[0]\n",
        "        #except:\n",
        "        #    return mol\n",
        "    def debug(self):\n",
        "        p = self.p\n",
        "        p.expect(\"ready\")\n",
        "        p.sendline(\"'go'\")\n",
        "        p.expect(\"~.*~\")\n",
        "        mol=p.after.decode()[1:-1]\n",
        "        print(mol)\n",
        "        protmol = self.dim.protonate(mol)\n",
        "        print(protmol[0])\n",
        "    def encode(self,mol):\n",
        "        p=self.p\n",
        "        p.expect(\"ready\")\n",
        "        p.sendline(\"'enc\"+mol+\"'\")\n",
        "        p.expect(\"done\")\n",
        "        all_vec = pickle.load(open(\"encoded.pk1\",\"rb\"),encoding=\"latin1\")\n",
        "        return all_vec\n",
        "    def reconstruct(self,mol):\n",
        "        p=self.p\n",
        "        all_vec = self.encode(mol)\n",
        "        return self.decode(all_vec)\n",
        "        \n",
        "    def stop(self):\n",
        "        p=self.p\n",
        "        p.sendline(\"'stop'\")\n",
        "\n",
        "def visualise(molecules):\n",
        "    img = rdkit.Chem.Draw.MolsToGridImage([rdkit.Chem.MolFromSmiles(mol) for mol in molecules],subImgSize=(300,300))\n",
        "    return img\n",
        "\n",
        "class vinainterface:\n",
        "    def __init__(self,receptor,center):\n",
        "        v = vina.Vina(sf_name='vinardo', verbosity=0)\n",
        "        v.set_receptor(receptor)\n",
        "        v.compute_vina_maps(center=center, box_size=[30, 30, 30])\n",
        "        self.v=v\n",
        "        self.predicted = {}\n",
        "        self.receptor = receptor\n",
        "        self.center = center\n",
        "        print(\"Vina Initialisation complete\")\n",
        "    def predict(self,molecule,exhaustiveness):\n",
        "        if molecule==\"failed\":\n",
        "            return -5.0\n",
        "        if molecule in self.predicted:\n",
        "            print(\"SEEN\")\n",
        "            return self.predicted[molecule]\n",
        "        lig = rdkit.Chem.MolFromSmiles(molecule)\n",
        "        protonated_lig = rdkit.Chem.AddHs(lig)\n",
        "        success = rdkit.Chem.AllChem.EmbedMolecule(protonated_lig)\n",
        "        if success==-1:\n",
        "            success=rdkit.Chem.AllChem.EmbedMolecule(protonated_lig, useRandomCoords = True)\n",
        "        if success==-1:\n",
        "            print(\"failed conformer gen\")\n",
        "            return -5.0\n",
        "        v=self.v\n",
        "        meeko_prep = meeko.MoleculePreparation()\n",
        "        meeko_prep.prepare(protonated_lig)\n",
        "        lig_pdbqt = meeko_prep.write_pdbqt_string()\n",
        "        v.set_ligand_from_string(lig_pdbqt)\n",
        "        v.dock(exhaustiveness=exhaustiveness, n_poses=20)\n",
        "        en=np.sum(v.energies(n_poses=1)[0][1:4])\n",
        "        self.predicted[molecule]=en\n",
        "        return en\n",
        "    \n",
        "class sminainterface:\n",
        "    def __init__(self,receptor,center):\n",
        "        self.receptor = receptor\n",
        "        self.center = center\n",
        "        self.predicted = {}\n",
        "    def predict(self,molecule,exhaustiveness):\n",
        "        if molecule==\"failed\":\n",
        "            return -5.0\n",
        "        if molecule in self.predicted:\n",
        "            print(\"SEEN\")\n",
        "            return self.predicted[molecule]\n",
        "        center = self.center\n",
        "        receptor = self.receptor\n",
        "        lig = rdkit.Chem.MolFromSmiles(molecule)\n",
        "        rdkit.Chem.MolToMolFile(lig,\"current_lig.mol\")\n",
        "        !Jupyter_Dock/bin/smina -r {receptor} -l {'current_lig.mol'} -o {'mol_out.sdf'} --center_x {center[0]} --center_y {center[1]} --center_z {center[2]} --size_x {30} --size_y {30} --size_z {30} --exhaustiveness {exhaustiveness} --num_modes 1 --scoring vinardo -q\n",
        "        poses=rdkit.Chem.SDMolSupplier('mol_out.sdf')\n",
        "\n",
        "        aff = float(poses[0].GetProp(\"minimizedAffinity\"))\n",
        "        self.predicted[molecule] = aff\n",
        "        return aff\n",
        "\n",
        "class qvinainterface:\n",
        "    def __init__(self,receptor,center):\n",
        "        self.receptor = receptor\n",
        "        self.center = center\n",
        "        self.predicted = {}\n",
        "    def predict(self,molecule,exhaustiveness):\n",
        "        if molecule==\"failed\":\n",
        "            return -5.0\n",
        "        if molecule in self.predicted:\n",
        "            print(\"SEEN\")\n",
        "            return self.predicted[molecule]\n",
        "        center = self.center\n",
        "        receptor = self.receptor\n",
        "        lig = rdkit.Chem.MolFromSmiles(molecule)\n",
        "        protonated_lig = rdkit.Chem.AddHs(lig)\n",
        "        success = rdkit.Chem.AllChem.EmbedMolecule(protonated_lig)\n",
        "        meeko_prep = meeko.MoleculePreparation()\n",
        "        meeko_prep.prepare(protonated_lig)\n",
        "        lig_pdbqt = meeko_prep.write_pdbqt_file(\"current_lig.pdbqt\")\n",
        "        !Jupyter_Dock/bin/qvina2.1 --receptor {receptor} --ligand current_lig.pdbqt --out out.pdbqt --center_x {center[0]} --center_y {center[1]} --center_z {center[2]} --size_x {30} --size_y {30} --size_z {30} --exhaustiveness {exhaustiveness} --num_modes 1\n",
        "        f=open('out.pdbqt')\n",
        "        lines=f.readlines()\n",
        "        aff = float(lines[1].split()[3])\n",
        "        self.predicted[molecule] = aff\n",
        "        return aff\n",
        "\n",
        "\n",
        "knowndrugs = {\"Gilteritinib\":r\"CCc1nc(C(=O)N)c(Nc2ccc(N3CCC(CC3)N4CCN(C)CC4)c(OC)c2)nc1NC5CCOCC5\", \n",
        "              \"Quizartinib\":r\"CC(C)(C)c1cc(no1)NC(=O)Nc2ccc(cc2)c3cn4c5ccc(cc5sc4n3)OCCN6CCOCC6\", \n",
        "              \"Crenolanib\":r\"O(c5cc4ncn(c1nc3c(cc1)cccc3N2CCC(N)CC2)c4cc5)CC6(COC6)C\",\n",
        "              \"Tandutinib\":r\"CC(C)OC1=CC=C(C=C1)NC(=O)N2CCN(CC2)C3=NC=NC4=CC(=C(C=C43)OC)OCCCN5CCCCC5\",\n",
        "              \"Sorafenib\":r\"CNC(=O)c1cc(ccn1)Oc2ccc(cc2)NC(=O)Nc3ccc(c(c3)C(F)(F)F)Cl\",\n",
        "              \"Sunitinib\":r\"CCN(CC)CCNC(=O)c1c(c([nH]c1C)/C=C\\2/c3cc(ccc3NC2=O)F)C\",\n",
        "              \"Lestaurtinib\":r\"C[C@@]12[C@](C[C@@H](O1)n3c4ccccc4c5c3c6n2c7ccccc7c6c8c5C(=O)NC8)(CO)O\",\n",
        "              \"Midostaurin\":r\"C[C@@]12[C@@H]([C@@H](C[C@@H](O1)N3C4=CC=CC=C4C5=C6C(=C7C8=CC=CC=C8N2C7=C53)CNC6=O)N(C)C(=O)C9=CC=CC=C9)OC\",\n",
        "              \"Ponatinib\":r\"Cc1ccc(cc1C#Cc2cnc3n2nccc3)C(=O)Nc4ccc(c(c4)C(F)(F)F)CN5CCN(CC5)C\"\n",
        "              }\n",
        "fps = {x:rdkit.Chem.RDKFingerprint(rdkit.Chem.MolFromSmiles(knowndrugs[x])) for x in knowndrugs}\n",
        "def simsearch(molecule):\n",
        "    if molecule==\"failed\":\n",
        "        return 0,0\n",
        "    molfing = rdkit.Chem.RDKFingerprint(rdkit.Chem.MolFromSmiles(molecule))\n",
        "    highestsim = 0\n",
        "    bestmolec = \"\"\n",
        "    for fp in fps:\n",
        "        currsim = rdkit.DataStructs.FingerprintSimilarity(fps[fp],molfing)\n",
        "        if currsim>highestsim:\n",
        "            highestsim=currsim\n",
        "            bestmolec = fp\n",
        "    return highestsim,bestmolec"
      ],
      "outputs": [],
      "execution_count": 8,
      "metadata": {
        "jupyter": {
          "source_hidden": false,
          "outputs_hidden": false
        },
        "nteract": {
          "transient": {
            "deleting": false
          }
        },
        "gather": {
          "logged": 1674482194709
        }
      }
    },
    {
      "cell_type": "code",
      "source": [
        "from hide_warnings import hide_warnings\n",
        "\n",
        "beta = 4184/(8.3145*310)\n",
        "pred_dict = {}\n",
        "\n",
        "@hide_warnings(out=False)\n",
        "def optstart(numiters):\n",
        "    ind=0\n",
        "    print(\"Starting\")\n",
        "    flt3 = vinainterface(\"receptorstruc.pdbqt\",[-28.03685,\t-10.361925,\t-28.9883])\n",
        "    ckit = vinainterface(\"ckit.pdbqt\",[45.93035714,\t97.03574286,\t16.1472])\n",
        "    pdgfra = vinainterface(\"pdgfra.pdbqt\",[17.58837931,\t132.5595172,\t-6.030275862])\n",
        "    vegfr = vinainterface(\"VEGFR.pdbqt\",[25.997,\t28.605,\t17.134])\n",
        "    mk2 = vinainterface(\"MK2.pdbqt\",[47.6395,\t34.809,\t16.708])\n",
        "    jak2 = vinainterface(\"JAK2.pdbqt\",[-31.7445,\t-49.661,\t35.4655])\n",
        "      \n",
        "    def optfunction(**kwargs):\n",
        "        nonlocal ind\n",
        "        ind+=1\n",
        "        mol=vaeint.decode(np.expand_dims(np.fromiter(kwargs.values(),dtype=float),axis=0))\n",
        "        exh = 8\n",
        "        flt3_pred = flt3.predict(mol,exh)\n",
        "        pdgfra_pred = pdgfra.predict(mol,exh)\n",
        "        ckit_pred = ckit.predict(mol,exh)\n",
        "        vegfr_pred = vegfr.predict(mol,exh)\n",
        "        mk2_pred = mk2.predict(mol,exh)\n",
        "        jak2_pred = jak2.predict(mol,exh)\n",
        "        all_preds = [flt3_pred,pdgfra_pred,ckit_pred,vegfr_pred,mk2_pred,jak2_pred]\n",
        "\n",
        "        anybind=-6.0\n",
        "\n",
        "        prediction = np.exp(-beta*flt3_pred)/(np.exp(-beta*anybind)+np.sum([np.exp(-beta*pr) for pr in all_preds]))\n",
        "        pred_dict[mol] = [prediction,all_preds]\n",
        "\n",
        "        sim,molec = simsearch(mol)\n",
        "        print(f\"{ind}: {mol}, Pred: {prediction:.4f}, SimDrug: {molec}, SimVal: {sim:.3f}\")\n",
        "        print(f\"FLT3: {flt3_pred:.2f}, PDGFRA: {pdgfra_pred:.2f}, CKIT: {ckit_pred:.2f}, VEGFR: {vegfr_pred:.2f}, MK2: {mk2_pred:.2f}, JAK2: {jak2_pred:.2f}\")\n",
        "        \n",
        "        return prediction\n",
        "\n",
        "    pbounds = {f\"f{i}\": (-3,3) for i in range(56)}\n",
        "    bounds_transformer = SequentialDomainReductionTransformer(minimum_window=1)\n",
        "    optimizer = BayesianOptimization(f=optfunction,pbounds=pbounds,verbose=0,bounds_transformer=bounds_transformer)\n",
        "    logger = JSONLogger(path=\"./logs2.json\")\n",
        "    optimizer.subscribe(Events.OPTIMIZATION_STEP, logger)\n",
        "    optimizer.set_gp_params(alpha=0.1)\n",
        "    load_logs(optimizer, logs=[\"./logs.json\"])\n",
        "    vaeint=vaeinterface()\n",
        "    vaeint.start()\n",
        "    optimizer.maximize(init_points=0,n_iter=numiters)\n",
        "    vaeint.stop()\n",
        "optstart(200)"
      ],
      "outputs": [
        {
          "output_type": "stream",
          "name": "stdout",
          "text": "Starting\nVina Initialisation complete\nVina Initialisation complete\nVina Initialisation complete\nVina Initialisation complete\nVina Initialisation complete\nVina Initialisation complete\n1: CCn1nc(C)cc1[C@@H](C)NC(=O)c1cccc(OCc2nccs2)c1, Pred: 0.3058, SimDrug: Midostaurin, SimVal: 0.413\nFLT3: -6.73, PDGFRA: -5.38, CKIT: -6.71, VEGFR: -5.79, MK2: -5.61, JAK2: -6.33\n2: C[C@@H](O[C@@H](F)c1ccoc1)c1ccccc1, Pred: 0.2577, SimDrug: Sorafenib, SimVal: 0.188\nFLT3: -6.44, PDGFRA: -5.16, CKIT: -6.48, VEGFR: -5.68, MK2: -5.54, JAK2: -6.19\n3: CC(F)(F)OC(O)(O)c1ccccc1, Pred: 0.1662, SimDrug: Sorafenib, SimVal: 0.149\nFLT3: -5.56, PDGFRA: -4.60, CKIT: -5.62, VEGFR: -4.53, MK2: -5.49, JAK2: -5.19\n4: C[C@H](O)[C@]1(N)N[C@@H]2C=CC=C[C@H]2[C@@](N)(c2ccncc2)N1, Pred: 0.2695, SimDrug: Midostaurin, SimVal: 0.468\nFLT3: -6.19, PDGFRA: -5.28, CKIT: -5.81, VEGFR: -5.35, MK2: -5.09, JAK2: -6.04\n5: CO[C@@H](c1ccccc1)C(O)(O)[C@@H]1OCCC[C@H]1C, Pred: 0.2258, SimDrug: Midostaurin, SimVal: 0.321\nFLT3: -5.52, PDGFRA: -4.44, CKIT: -5.13, VEGFR: -4.65, MK2: -3.95, JAK2: -4.53\n6: C=C(c1ccccc1)[C@@H]1C=CC=N[C@]1(C)NCC(=O)OC, Pred: 0.5160, SimDrug: Midostaurin, SimVal: 0.337\nFLT3: -7.07, PDGFRA: -5.72, CKIT: -5.61, VEGFR: -6.15, MK2: -5.66, JAK2: -6.15\n7: N[C@]1([C@H](O)C(O)(O)[C@]23C=CC=C[C@@H]2COCC3)NN=CS1, Pred: 0.3739, SimDrug: Midostaurin, SimVal: 0.375\nFLT3: -6.13, PDGFRA: -5.08, CKIT: -5.30, VEGFR: -4.26, MK2: -3.56, JAK2: -5.52\n8: C=C(c1ccccc1)[C@@H]1C=CC=N[C@]1(C)N(C)CC(=O)OC, Pred: 0.2355, SimDrug: Midostaurin, SimVal: 0.370\nFLT3: -6.31, PDGFRA: -5.99, CKIT: -5.63, VEGFR: -5.83, MK2: -5.09, JAK2: -6.39\n9: COC(=O)CN[C@]1(C)CC(Cc2ccccc2)=CC=N1, Pred: 0.5900, SimDrug: Midostaurin, SimVal: 0.284\nFLT3: -7.25, PDGFRA: -5.63, CKIT: -6.01, VEGFR: -5.50, MK2: -5.73, JAK2: -6.30\n10: COC(=O)CN(C)[C@]1(C)N=CC=C[C@]1(C)c1ccccc1, Pred: 0.1601, SimDrug: Midostaurin, SimVal: 0.420\nFLT3: -5.51, PDGFRA: -5.16, CKIT: -4.92, VEGFR: -5.63, MK2: -5.29, JAK2: -4.51\nSEEN\nSEEN\nSEEN\nSEEN\nSEEN\nSEEN\n11: C=C(c1ccccc1)[C@@H]1C=CC=N[C@]1(C)NCC(=O)OC, Pred: 0.5160, SimDrug: Midostaurin, SimVal: 0.337\nFLT3: -7.07, PDGFRA: -5.72, CKIT: -5.61, VEGFR: -6.15, MK2: -5.66, JAK2: -6.15\n12: C=C(c1ccccc1)[C@]1(C(=O)NC[C@H](F)OC)CC=CC=N1, Pred: 0.3599, SimDrug: Midostaurin, SimVal: 0.407\nFLT3: -6.99, PDGFRA: -6.23, CKIT: -6.63, VEGFR: -6.19, MK2: -5.79, JAK2: -6.30\nSEEN\nSEEN\nSEEN\nSEEN\nSEEN\nSEEN\n13: COC(=O)CN[C@]1(C)CC(Cc2ccccc2)=CC=N1, Pred: 0.5900, SimDrug: Midostaurin, SimVal: 0.284\nFLT3: -7.25, PDGFRA: -5.63, CKIT: -6.01, VEGFR: -5.50, MK2: -5.73, JAK2: -6.30\nSEEN\nSEEN\nSEEN\nSEEN\nSEEN\nSEEN\n14: COC(=O)CN(C)[C@]1(C)N=CC=C[C@]1(C)c1ccccc1, Pred: 0.1601, SimDrug: Midostaurin, SimVal: 0.420\nFLT3: -5.51, PDGFRA: -5.16, CKIT: -4.92, VEGFR: -5.63, MK2: -5.29, JAK2: -4.51\n15: COC(=O)CN[C@]1(C)N=CC=C[C@]1(C)c1ccccc1, Pred: 0.2620, SimDrug: Midostaurin, SimVal: 0.382\nFLT3: -6.06, PDGFRA: -4.99, CKIT: -6.06, VEGFR: -5.49, MK2: -5.05, JAK2: -4.94\nSEEN\nSEEN\nSEEN\nSEEN\nSEEN\nSEEN\n16: C=C(c1ccccc1)[C@@H]1C=CC=N[C@]1(C)NCC(=O)OC, Pred: 0.5160, SimDrug: Midostaurin, SimVal: 0.337\nFLT3: -7.07, PDGFRA: -5.72, CKIT: -5.61, VEGFR: -6.15, MK2: -5.66, JAK2: -6.15\nSEEN\nSEEN\nSEEN\nSEEN\nSEEN\nSEEN\n17: C=C(c1ccccc1)[C@@H]1C=CC=N[C@]1(C)NCC(=O)OC, Pred: 0.5160, SimDrug: Midostaurin, SimVal: 0.337\nFLT3: -7.07, PDGFRA: -5.72, CKIT: -5.61, VEGFR: -6.15, MK2: -5.66, JAK2: -6.15\nSEEN\nSEEN\nSEEN\nSEEN\nSEEN\nSEEN\n18: COC(=O)CN[C@]1(C)CC(Cc2ccccc2)=CC=N1, Pred: 0.5900, SimDrug: Midostaurin, SimVal: 0.284\nFLT3: -7.25, PDGFRA: -5.63, CKIT: -6.01, VEGFR: -5.50, MK2: -5.73, JAK2: -6.30\nSEEN\nSEEN\nSEEN\nSEEN\nSEEN\nSEEN\n19: C=C(c1ccccc1)[C@@H]1C=CC=N[C@]1(C)NCC(=O)OC, Pred: 0.5160, SimDrug: Midostaurin, SimVal: 0.337\nFLT3: -7.07, PDGFRA: -5.72, CKIT: -5.61, VEGFR: -6.15, MK2: -5.66, JAK2: -6.15\nSEEN\nSEEN\nSEEN\nSEEN\nSEEN\nSEEN\n20: C=C(c1ccccc1)[C@@H]1C=CC=N[C@]1(C)NCC(=O)OC, Pred: 0.5160, SimDrug: Midostaurin, SimVal: 0.337\nFLT3: -7.07, PDGFRA: -5.72, CKIT: -5.61, VEGFR: -6.15, MK2: -5.66, JAK2: -6.15\nSEEN\nSEEN\nSEEN\nSEEN\nSEEN\nSEEN\n21: C=C(c1ccccc1)[C@@H]1C=CC=N[C@]1(C)NCC(=O)OC, Pred: 0.5160, SimDrug: Midostaurin, SimVal: 0.337\nFLT3: -7.07, PDGFRA: -5.72, CKIT: -5.61, VEGFR: -6.15, MK2: -5.66, JAK2: -6.15\nSEEN\nSEEN\nSEEN\nSEEN\nSEEN\nSEEN\n22: C=C(c1ccccc1)[C@@H]1C=CC=N[C@]1(C)NCC(=O)OC, Pred: 0.5160, SimDrug: Midostaurin, SimVal: 0.337\nFLT3: -7.07, PDGFRA: -5.72, CKIT: -5.61, VEGFR: -6.15, MK2: -5.66, JAK2: -6.15\nSEEN\nSEEN\nSEEN\nSEEN\nSEEN\nSEEN\n23: C=C(c1ccccc1)[C@@H]1C=CC=N[C@]1(C)N(C)CC(=O)OC, Pred: 0.2355, SimDrug: Midostaurin, SimVal: 0.370\nFLT3: -6.31, PDGFRA: -5.99, CKIT: -5.63, VEGFR: -5.83, MK2: -5.09, JAK2: -6.39\n"
        }
      ],
      "execution_count": 19,
      "metadata": {
        "jupyter": {
          "source_hidden": false,
          "outputs_hidden": false
        },
        "nteract": {
          "transient": {
            "deleting": false
          }
        },
        "gather": {
          "logged": 1674488031927
        }
      }
    },
    {
      "cell_type": "code",
      "source": [
        "predplot = []\r\n",
        "x=[]\r\n",
        "for i,pred in enumerate(pred_dict):\r\n",
        "    predplot.append(pred_dict[pred][0])\r\n",
        "    x.append(i)\r\n",
        "sns.scatterplot(x=x,y=predplot)\r\n"
      ],
      "outputs": [
        {
          "output_type": "execute_result",
          "execution_count": 14,
          "data": {
            "text/plain": "<AxesSubplot:>"
          },
          "metadata": {}
        },
        {
          "output_type": "display_data",
          "data": {
            "text/plain": "<Figure size 640x480 with 1 Axes>",
            "image/png": "[encoded data removed]"
          },
          "metadata": {}
        }
      ],
      "execution_count": 14,
      "metadata": {
        "jupyter": {
          "source_hidden": false,
          "outputs_hidden": false
        },
        "nteract": {
          "transient": {
            "deleting": false
          }
        },
        "gather": {
          "logged": 1674483490914
        }
      }
    },
    {
      "cell_type": "code",
      "source": [
        "from hide_warnings import hide_warnings\r\n",
        "@hide_warnings(out=False)\r\n",
        "def knowndrugeval():\r\n",
        "    beta = 4184/(8.3145*310)\r\n",
        "    flt3 = vinainterface(\"receptorstruc.pdbqt\",[-28.03685,\t-10.361925,\t-28.9883])\r\n",
        "    ckit = vinainterface(\"ckit.pdbqt\",[45.93035714,\t97.03574286,\t16.1472])\r\n",
        "    pdgfra = vinainterface(\"pdgfra.pdbqt\",[17.58837931,\t132.5595172,\t-6.030275862])\r\n",
        "    vegfr = vinainterface(\"VEGFR.pdbqt\",[25.997,\t28.605,\t17.134])\r\n",
        "    mk2 = vinainterface(\"MK2.pdbqt\",[47.6395,\t34.809,\t16.708])\r\n",
        "    jak2 = vinainterface(\"JAK2.pdbqt\",[-31.7445,\t-49.661,\t35.4655])\r\n",
        "\r\n",
        "    for drug in knowndrugs:\r\n",
        "        mol=knowndrugs[drug]\r\n",
        "        exh = 32\r\n",
        "        flt3_pred = flt3.predict(mol, exh)\r\n",
        "        pdgfra_pred = pdgfra.predict(mol, exh)\r\n",
        "        ckit_pred = ckit.predict(mol, exh)\r\n",
        "        vegfr_pred = vegfr.predict(mol, exh)\r\n",
        "        mk2_pred = mk2.predict(mol, exh)\r\n",
        "        jak2_pred = jak2.predict(mol, exh)\r\n",
        "        all_preds = [flt3_pred,pdgfra_pred,ckit_pred,vegfr_pred,mk2_pred,jak2_pred]\r\n",
        "\r\n",
        "        anybind=-6.0\r\n",
        "\r\n",
        "        prediction = np.exp(-beta*flt3_pred)/(np.exp(-beta*anybind)+np.sum([np.exp(-beta*pr) for pr in all_preds]))\r\n",
        "\r\n",
        "        sim,molec = simsearch(mol)\r\n",
        "        print(f\"{mol}, Pred: {prediction:.4f}, SimDrug: {molec}, SimVal: {sim:.3f}\")\r\n",
        "        print(f\"FLT3: {flt3_pred:.2f}, PDGFRA: {pdgfra_pred:.2f}, CKIT: {ckit_pred:.2f}, VEGFR: {vegfr_pred:.2f}, MK2: {mk2_pred:.2f}, JAK2: {jak2_pred:.2f}\")\r\n",
        "        break\r\n",
        "        \r\n",
        "\r\n",
        "knowndrugeval()\r\n"
      ],
      "outputs": [
        {
          "output_type": "stream",
          "name": "stdout",
          "text": "CCc1nc(C(=O)N)c(Nc2ccc(N3CCC(CC3)N4CCN(C)CC4)c(OC)c2)nc1NC5CCOCC5, Pred: 0.1157, SimDrug: Gilteritinib, SimVal: 1.000\nFLT3: -7.17, PDGFRA: -7.00, CKIT: -7.60, VEGFR: -6.80, MK2: -6.95, JAK2: -7.93\n"
        }
      ],
      "execution_count": 36,
      "metadata": {
        "jupyter": {
          "source_hidden": false,
          "outputs_hidden": false
        },
        "nteract": {
          "transient": {
            "deleting": false
          }
        },
        "gather": {
          "logged": 1674474493783
        }
      }
    },
    {
      "cell_type": "code",
      "source": [],
      "outputs": [],
      "execution_count": null,
      "metadata": {
        "jupyter": {
          "source_hidden": false,
          "outputs_hidden": false
        },
        "nteract": {
          "transient": {
            "deleting": false
          }
        }
      }
    }
  ],
  "metadata": {
    "kernelspec": {
      "name": "python38-azureml",
      "language": "python",
      "display_name": "Python 3.8 - AzureML"
    },
    "language_info": {
      "name": "python",
      "version": "3.8.5",
      "mimetype": "text/x-python",
      "codemirror_mode": {
        "name": "ipython",
        "version": 3
      },
      "pygments_lexer": "ipython3",
      "nbconvert_exporter": "python",
      "file_extension": ".py"
    },
    "microsoft": {
      "host": {
        "AzureML": {
          "notebookHasBeenCompleted": true
        }
      }
    },
    "kernel_info": {
      "name": "python38-azureml"
    },
    "nteract": {
      "version": "nteract-front-end@1.0.0"
    }
  },
  "nbformat": 4,
  "nbformat_minor": 2
}