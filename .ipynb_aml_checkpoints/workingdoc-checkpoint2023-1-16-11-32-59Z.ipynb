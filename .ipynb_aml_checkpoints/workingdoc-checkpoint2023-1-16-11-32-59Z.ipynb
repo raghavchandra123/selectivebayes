{
  "cells": [
    {
      "cell_type": "code",
      "source": [
        "import pandas as pd\r\n",
        "import seaborn as sns\r\n",
        "import rdkit\r\n",
        "import torch\r\n",
        "import vina\r\n",
        "import meeko\r\n",
        "import pexpect\r\n",
        "import pickle\r\n",
        "import numpy as np\r\n",
        "from scipy.stats import norm\r\n",
        "from typing import Optional, Union, List\r\n",
        "from bayes_opt import BayesianOptimization\r\n",
        "from bayes_opt.util import load_logs\r\n",
        "from bayes_opt.domain_reduction import DomainTransformer\r\n",
        "from bayes_opt.logger import JSONLogger\r\n",
        "from bayes_opt.event import Events\r\n",
        "from bayes_opt.target_space import TargetSpace\r\n",
        "import sys\r\n",
        "from contextlib import redirect_stdout\r\n",
        "\r\n",
        "from selectivebayes.interfaces import vaeinterface,vinainterface\r\n",
        "from selectivebayes.transformers import SequentialDomainReductionTransformer,SimpleDomainReduction\r\n",
        "\r\n",
        "latent_size=56\r\n",
        "#dictionaries of target and off target paths to protein structures and coordinates of centres to use\r\n",
        "target_details = {\"FLT3\": [\"./proteins/flt3.pdbqt\",[-28.03685,\t-10.361925,\t-28.9883]]}\r\n",
        "off_target_details = {\"CKIT\": [\"./proteins/ckit.pdbqt\",[45.93035714,\t97.03574286,\t16.1472]],\"PDGFRA\":[\"./proteins/pdgfra.pdbqt\",[17.58837931,\t132.5595172,\t-6.030275862]]\r\n",
        "                      ,\"VEGFR\":[\"./proteins/VEGFR.pdbqt\",[25.997,\t28.605,\t17.134]],\"MK2\":[\"./proteins/MK2.pdbqt\",[47.6395,\t34.809,\t16.708]],\"JAK2\":[\"./proteins/JAK2.pdbqt\",[-31.7445,\t-49.661,\t35.4655]]}\r\n",
        "\r\n",
        "logpath = \"./predictions/test.json\" #path to save latent coordinates and predictions\r\n",
        "pred_path = \"./predictions/test.pk1\" #path to save SMILES and predictions to upon completion\r\n",
        "\r\n",
        "alpha = 0.99 #alpha for domain reduction\r\n",
        "beta = 1.10 #beta for domain expansion\r\n",
        "exh = 8 #exhaustiveness to run vina at\r\n",
        "failure_bind = -5.0 #binding energy to use in objective function when rdkit fails to generate a conformer\r\n",
        "anybind=-6.0\r\n"
      ],
      "outputs": [
        {
          "output_type": "stream",
          "name": "stderr",
          "text": "<frozen importlib._bootstrap>:219: RuntimeWarning: scipy._lib.messagestream.MessageStream size changed, may indicate binary incompatibility. Expected 56 from C header, got 64 from PyObject\n"
        }
      ],
      "execution_count": 1,
      "metadata": {
        "gather": {
          "logged": 1676544392707
        }
      }
    },
    {
      "cell_type": "code",
      "source": [
        "knowndrugs = {\"Gilteritinib\":r\"CCc1nc(C(=O)N)c(Nc2ccc(N3CCC(CC3)N4CCN(C)CC4)c(OC)c2)nc1NC5CCOCC5\", \n",
        "              \"Quizartinib\":r\"CC(C)(C)c1cc(no1)NC(=O)Nc2ccc(cc2)c3cn4c5ccc(cc5sc4n3)OCCN6CCOCC6\", \n",
        "              \"Crenolanib\":r\"O(c5cc4ncn(c1nc3c(cc1)cccc3N2CCC(N)CC2)c4cc5)CC6(COC6)C\",\n",
        "              \"Tandutinib\":r\"CC(C)OC1=CC=C(C=C1)NC(=O)N2CCN(CC2)C3=NC=NC4=CC(=C(C=C43)OC)OCCCN5CCCCC5\",\n",
        "              \"Sorafenib\":r\"CNC(=O)c1cc(ccn1)Oc2ccc(cc2)NC(=O)Nc3ccc(c(c3)C(F)(F)F)Cl\",\n",
        "              \"Sunitinib\":r\"CCN(CC)CCNC(=O)c1c(c([nH]c1C)/C=C\\2/c3cc(ccc3NC2=O)F)C\",\n",
        "              \"Lestaurtinib\":r\"C[C@@]12[C@](C[C@@H](O1)n3c4ccccc4c5c3c6n2c7ccccc7c6c8c5C(=O)NC8)(CO)O\",\n",
        "              \"Midostaurin\":r\"C[C@@]12[C@@H]([C@@H](C[C@@H](O1)N3C4=CC=CC=C4C5=C6C(=C7C8=CC=CC=C8N2C7=C53)CNC6=O)N(C)C(=O)C9=CC=CC=C9)OC\",\n",
        "              \"Ponatinib\":r\"Cc1ccc(cc1C#Cc2cnc3n2nccc3)C(=O)Nc4ccc(c(c4)C(F)(F)F)CN5CCN(CC5)C\"\n",
        "              }\n",
        "\n",
        "fps = {x:rdkit.Chem.RDKFingerprint(rdkit.Chem.MolFromSmiles(knowndrugs[x])) for x in knowndrugs}\n",
        "def simsearch(molecule):\n",
        "    if molecule==\"failed\":\n",
        "        return 0,0\n",
        "    molfing = rdkit.Chem.RDKFingerprint(rdkit.Chem.MolFromSmiles(molecule))\n",
        "    highestsim = 0\n",
        "    bestmolec = \"\"\n",
        "    for fp in fps:\n",
        "        currsim = rdkit.DataStructs.FingerprintSimilarity(fps[fp],molfing)\n",
        "        if currsim>highestsim:\n",
        "            highestsim=currsim\n",
        "            bestmolec = fp\n",
        "    return highestsim,bestmolec"
      ],
      "outputs": [],
      "execution_count": 2,
      "metadata": {
        "jupyter": {
          "source_hidden": false,
          "outputs_hidden": false
        },
        "nteract": {
          "transient": {
            "deleting": false
          }
        },
        "gather": {
          "logged": 1676544393014
        }
      }
    },
    {
      "cell_type": "code",
      "source": [
        "from hide_warnings import hide_warnings\n",
        "pred_list = []\n",
        "\n",
        "(target_name,target_loc),=target_details.items()\n",
        "@hide_warnings(out=False)\n",
        "def optstart(numiters):\n",
        "    beta = 4184/(8.3145*310)\n",
        "    best_pred = 0\n",
        "    ind=0\n",
        "    print(\"Starting\")\n",
        "    target_interface = {target_name:vinainterface(*target_loc)}\n",
        "    off_target_interfaces = {off_target_name:vinainterface(*off_target_details[off_target_name]) for off_target_name in off_target_details.keys()}\n",
        "      \n",
        "    def optfunction(**kwargs):\n",
        "        nonlocal ind\n",
        "        nonlocal best_pred\n",
        "        ind+=1\n",
        "        mol=vaeint.decode(np.expand_dims(np.fromiter(kwargs.values(),dtype=float),axis=0))\n",
        "        \n",
        "        target_pred,success = target_interface[target_name].predict(mol,exh)\n",
        "        if success!=-1:\n",
        "            off_target_preds = {off_target_name:off_target_interfaces[off_target_name].predict(mol,exh)[0] for off_target_name in off_target_interfaces.keys()}\n",
        "        else:\n",
        "            off_target_preds = {off_target_name:failure_bind for off_target_name in off_target_interfaces.keys()}\n",
        "        all_preds = [target_pred,*list(off_target_preds.values())]\n",
        "\n",
        "        \n",
        "\n",
        "        prediction = np.exp(-beta*target_pred)/(np.exp(-beta*anybind)+np.sum([np.exp(-beta*pr) for pr in all_preds]))\n",
        "        if prediction>best_pred:\n",
        "            #if prediction is better than best prediction seen then run again at 2x exhaustiveness to confirm\n",
        "            target_pred = target_interface[target_name].predict(mol,exh*2)[0]\n",
        "            off_target_preds = {off_target_name:off_target_interfaces[off_target_name].predict(mol,exh*2)[0] for off_target_name in off_target_interfaces.keys()}\n",
        "            all_preds = [target_pred,*list(off_target_preds.values())]\n",
        "            prediction = np.exp(-beta*target_pred)/(np.exp(-beta*anybind)+np.sum([np.exp(-beta*pr) for pr in all_preds]))\n",
        "            if prediction>best_pred:\n",
        "                best_pred = prediction\n",
        "\n",
        "\n",
        "        pred_list.append([mol,prediction,all_preds])\n",
        "\n",
        "        sim,molec = simsearch(mol)\n",
        "        print(f\"{ind}: {mol}, Pred: {prediction:.4f}, SimDrug: {molec}, SimVal: {sim:.3f}\")\n",
        "        print(target_name + f\":{target_pred:.2f},\" + \"\".join([off_target_name +f\": {off_target_preds[off_target_name]:.2f}, \" for off_target_name in off_target_preds.keys()]))\n",
        "        \n",
        "        return prediction\n",
        "\n",
        "    pbounds = {f\"f{i}\": (-3,3) for i in range(56)}\n",
        "    bounds_transformer = SimpleDomainReduction(target_interface[target_name],reduction_rate=alpha,increase_rate=beta)\n",
        "    optimizer = BayesianOptimization(f=optfunction,pbounds=pbounds,verbose=0,bounds_transformer=bounds_transformer)\n",
        "    logger = JSONLogger(path=logpath)\n",
        "    optimizer.subscribe(Events.OPTIMIZATION_STEP, logger)\n",
        "    optimizer.set_gp_params(alpha=0.01)\n",
        "    vaeint=vaeinterface()\n",
        "    vaeint.start()\n",
        "    optimizer.maximize(init_points=0,n_iter=numiters)\n",
        "    vaeint.stop()\n",
        "optstart(500)\n",
        "pickle.dump(pred_list,open(pred_path,\"wb\"),protocol=2)"
      ],
      "outputs": [
        {
          "output_type": "stream",
          "name": "stdout",
          "text": "Starting\nVina Initialisation complete\nVina Initialisation complete\nVina Initialisation complete\nVina Initialisation complete\nVina Initialisation complete\nVina Initialisation complete\n1: CO/C(C)=C/S(=O)(=O)N[C@@H](c1cccs1)C(C)C, Pred: 0.0434, SimDrug: Midostaurin, SimVal: 0.290\nFLT3:-4.27,CKIT: -4.50,PDGFRA: -4.13,VEGFR: -3.93,MK2: -3.98,JAK2: -4.75,\n2: C[C@]1(Cc2ccccc2)CCCC[C@@H]1[NH+]1CCC(=O)CC1, Pred: 0.2119, SimDrug: Midostaurin, SimVal: 0.228\nFLT3:-6.00,CKIT: -5.78,PDGFRA: -5.56,VEGFR: -5.66,MK2: -5.40,JAK2: -5.68,\n3: C[C@H](Cn1ccnc1N1CC=CC=C1[N+](=O)[O-])C[NH+]1CCCCC1, Pred: 0.1816, SimDrug: Midostaurin, SimVal: 0.409\nFLT3:-6.12,CKIT: -6.12,PDGFRA: -5.83,VEGFR: -5.38,MK2: -5.89,JAK2: -6.17,\n"
        },
        {
          "output_type": "error",
          "ename": "KeyboardInterrupt",
          "evalue": "",
          "traceback": [
            "\u001b[0;31m---------------------------------------------------------------------------\u001b[0m",
            "\u001b[0;31mKeyboardInterrupt\u001b[0m                         Traceback (most recent call last)",
            "Cell \u001b[0;32mIn [14], line 62\u001b[0m\n\u001b[1;32m     60\u001b[0m     optimizer\u001b[38;5;241m.\u001b[39mmaximize(init_points\u001b[38;5;241m=\u001b[39m\u001b[38;5;241m0\u001b[39m,n_iter\u001b[38;5;241m=\u001b[39mnumiters)\n\u001b[1;32m     61\u001b[0m     vaeint\u001b[38;5;241m.\u001b[39mstop()\n\u001b[0;32m---> 62\u001b[0m \u001b[43moptstart\u001b[49m\u001b[43m(\u001b[49m\u001b[38;5;241;43m500\u001b[39;49m\u001b[43m)\u001b[49m\n\u001b[1;32m     63\u001b[0m pickle\u001b[38;5;241m.\u001b[39mdump(pred_list,\u001b[38;5;28mopen\u001b[39m(\u001b[38;5;124m\"\u001b[39m\u001b[38;5;124m./predictions/test.pk1\u001b[39m\u001b[38;5;124m\"\u001b[39m,\u001b[38;5;124m\"\u001b[39m\u001b[38;5;124mwb\u001b[39m\u001b[38;5;124m\"\u001b[39m),protocol\u001b[38;5;241m=\u001b[39m\u001b[38;5;241m2\u001b[39m)\n",
            "File \u001b[0;32m/anaconda/envs/azureml_py38/lib/python3.8/site-packages/hide_warnings.py:25\u001b[0m, in \u001b[0;36mhide_warnings.<locals>.decorator_hide_warnings.<locals>.wrapper\u001b[0;34m(*args, **kwargs)\u001b[0m\n\u001b[1;32m     22\u001b[0m \u001b[38;5;129m@functools\u001b[39m\u001b[38;5;241m.\u001b[39mwraps(func)\n\u001b[1;32m     23\u001b[0m \u001b[38;5;28;01mdef\u001b[39;00m \u001b[38;5;21mwrapper\u001b[39m(\u001b[38;5;241m*\u001b[39margs, \u001b[38;5;241m*\u001b[39m\u001b[38;5;241m*\u001b[39mkwargs):\n\u001b[1;32m     24\u001b[0m     capture \u001b[38;5;241m=\u001b[39m get_capture(out, in_)\n\u001b[0;32m---> 25\u001b[0m     result \u001b[38;5;241m=\u001b[39m \u001b[43mfunc\u001b[49m\u001b[43m(\u001b[49m\u001b[38;5;241;43m*\u001b[39;49m\u001b[43margs\u001b[49m\u001b[43m,\u001b[49m\u001b[43m \u001b[49m\u001b[38;5;241;43m*\u001b[39;49m\u001b[38;5;241;43m*\u001b[39;49m\u001b[43mkwargs\u001b[49m\u001b[43m)\u001b[49m\n\u001b[1;32m     26\u001b[0m     reset_capture(capture)\n\u001b[1;32m     27\u001b[0m     \u001b[38;5;28;01mreturn\u001b[39;00m result\n",
            "Cell \u001b[0;32mIn [14], line 60\u001b[0m, in \u001b[0;36moptstart\u001b[0;34m(numiters)\u001b[0m\n\u001b[1;32m     58\u001b[0m vaeint\u001b[38;5;241m=\u001b[39mvaeinterface()\n\u001b[1;32m     59\u001b[0m vaeint\u001b[38;5;241m.\u001b[39mstart()\n\u001b[0;32m---> 60\u001b[0m \u001b[43moptimizer\u001b[49m\u001b[38;5;241;43m.\u001b[39;49m\u001b[43mmaximize\u001b[49m\u001b[43m(\u001b[49m\u001b[43minit_points\u001b[49m\u001b[38;5;241;43m=\u001b[39;49m\u001b[38;5;241;43m0\u001b[39;49m\u001b[43m,\u001b[49m\u001b[43mn_iter\u001b[49m\u001b[38;5;241;43m=\u001b[39;49m\u001b[43mnumiters\u001b[49m\u001b[43m)\u001b[49m\n\u001b[1;32m     61\u001b[0m vaeint\u001b[38;5;241m.\u001b[39mstop()\n",
            "File \u001b[0;32m/anaconda/envs/azureml_py38/lib/python3.8/site-packages/bayes_opt/bayesian_optimization.py:311\u001b[0m, in \u001b[0;36mBayesianOptimization.maximize\u001b[0;34m(self, init_points, n_iter, acquisition_function, acq, kappa, kappa_decay, kappa_decay_delay, xi, **gp_params)\u001b[0m\n\u001b[1;32m    309\u001b[0m     x_probe \u001b[38;5;241m=\u001b[39m \u001b[38;5;28mself\u001b[39m\u001b[38;5;241m.\u001b[39msuggest(util)\n\u001b[1;32m    310\u001b[0m     iteration \u001b[38;5;241m+\u001b[39m\u001b[38;5;241m=\u001b[39m \u001b[38;5;241m1\u001b[39m\n\u001b[0;32m--> 311\u001b[0m \u001b[38;5;28;43mself\u001b[39;49m\u001b[38;5;241;43m.\u001b[39;49m\u001b[43mprobe\u001b[49m\u001b[43m(\u001b[49m\u001b[43mx_probe\u001b[49m\u001b[43m,\u001b[49m\u001b[43m \u001b[49m\u001b[43mlazy\u001b[49m\u001b[38;5;241;43m=\u001b[39;49m\u001b[38;5;28;43;01mFalse\u001b[39;49;00m\u001b[43m)\u001b[49m\n\u001b[1;32m    313\u001b[0m \u001b[38;5;28;01mif\u001b[39;00m \u001b[38;5;28mself\u001b[39m\u001b[38;5;241m.\u001b[39m_bounds_transformer \u001b[38;5;129;01mand\u001b[39;00m iteration \u001b[38;5;241m>\u001b[39m \u001b[38;5;241m0\u001b[39m:\n\u001b[1;32m    314\u001b[0m     \u001b[38;5;66;03m# The bounds transformer should only modify the bounds after\u001b[39;00m\n\u001b[1;32m    315\u001b[0m     \u001b[38;5;66;03m# the init_points points (only for the true iterations)\u001b[39;00m\n\u001b[1;32m    316\u001b[0m     \u001b[38;5;28mself\u001b[39m\u001b[38;5;241m.\u001b[39mset_bounds(\n\u001b[1;32m    317\u001b[0m         \u001b[38;5;28mself\u001b[39m\u001b[38;5;241m.\u001b[39m_bounds_transformer\u001b[38;5;241m.\u001b[39mtransform(\u001b[38;5;28mself\u001b[39m\u001b[38;5;241m.\u001b[39m_space))\n",
            "File \u001b[0;32m/anaconda/envs/azureml_py38/lib/python3.8/site-packages/bayes_opt/bayesian_optimization.py:208\u001b[0m, in \u001b[0;36mBayesianOptimization.probe\u001b[0;34m(self, params, lazy)\u001b[0m\n\u001b[1;32m    206\u001b[0m     \u001b[38;5;28mself\u001b[39m\u001b[38;5;241m.\u001b[39m_queue\u001b[38;5;241m.\u001b[39madd(params)\n\u001b[1;32m    207\u001b[0m \u001b[38;5;28;01melse\u001b[39;00m:\n\u001b[0;32m--> 208\u001b[0m     \u001b[38;5;28;43mself\u001b[39;49m\u001b[38;5;241;43m.\u001b[39;49m\u001b[43m_space\u001b[49m\u001b[38;5;241;43m.\u001b[39;49m\u001b[43mprobe\u001b[49m\u001b[43m(\u001b[49m\u001b[43mparams\u001b[49m\u001b[43m)\u001b[49m\n\u001b[1;32m    209\u001b[0m     \u001b[38;5;28mself\u001b[39m\u001b[38;5;241m.\u001b[39mdispatch(Events\u001b[38;5;241m.\u001b[39mOPTIMIZATION_STEP)\n",
            "File \u001b[0;32m/anaconda/envs/azureml_py38/lib/python3.8/site-packages/bayes_opt/target_space.py:236\u001b[0m, in \u001b[0;36mTargetSpace.probe\u001b[0;34m(self, params)\u001b[0m\n\u001b[1;32m    234\u001b[0m x \u001b[38;5;241m=\u001b[39m \u001b[38;5;28mself\u001b[39m\u001b[38;5;241m.\u001b[39m_as_array(params)\n\u001b[1;32m    235\u001b[0m params \u001b[38;5;241m=\u001b[39m \u001b[38;5;28mdict\u001b[39m(\u001b[38;5;28mzip\u001b[39m(\u001b[38;5;28mself\u001b[39m\u001b[38;5;241m.\u001b[39m_keys, x))\n\u001b[0;32m--> 236\u001b[0m target \u001b[38;5;241m=\u001b[39m \u001b[38;5;28;43mself\u001b[39;49m\u001b[38;5;241;43m.\u001b[39;49m\u001b[43mtarget_func\u001b[49m\u001b[43m(\u001b[49m\u001b[38;5;241;43m*\u001b[39;49m\u001b[38;5;241;43m*\u001b[39;49m\u001b[43mparams\u001b[49m\u001b[43m)\u001b[49m\n\u001b[1;32m    238\u001b[0m \u001b[38;5;28;01mif\u001b[39;00m \u001b[38;5;28mself\u001b[39m\u001b[38;5;241m.\u001b[39m_constraint \u001b[38;5;129;01mis\u001b[39;00m \u001b[38;5;28;01mNone\u001b[39;00m:\n\u001b[1;32m    239\u001b[0m     \u001b[38;5;28mself\u001b[39m\u001b[38;5;241m.\u001b[39mregister(x, target)\n",
            "Cell \u001b[0;32mIn [14], line 24\u001b[0m, in \u001b[0;36moptstart.<locals>.optfunction\u001b[0;34m(**kwargs)\u001b[0m\n\u001b[1;32m     22\u001b[0m mol\u001b[38;5;241m=\u001b[39mvaeint\u001b[38;5;241m.\u001b[39mdecode(np\u001b[38;5;241m.\u001b[39mexpand_dims(np\u001b[38;5;241m.\u001b[39mfromiter(kwargs\u001b[38;5;241m.\u001b[39mvalues(),dtype\u001b[38;5;241m=\u001b[39m\u001b[38;5;28mfloat\u001b[39m),axis\u001b[38;5;241m=\u001b[39m\u001b[38;5;241m0\u001b[39m))\n\u001b[1;32m     23\u001b[0m exh \u001b[38;5;241m=\u001b[39m \u001b[38;5;241m8\u001b[39m\n\u001b[0;32m---> 24\u001b[0m target_pred,success \u001b[38;5;241m=\u001b[39m \u001b[43mtarget_interface\u001b[49m\u001b[43m[\u001b[49m\u001b[43mtarget_name\u001b[49m\u001b[43m]\u001b[49m\u001b[38;5;241;43m.\u001b[39;49m\u001b[43mpredict\u001b[49m\u001b[43m(\u001b[49m\u001b[43mmol\u001b[49m\u001b[43m,\u001b[49m\u001b[43mexh\u001b[49m\u001b[43m)\u001b[49m\n\u001b[1;32m     25\u001b[0m \u001b[38;5;28;01mif\u001b[39;00m success\u001b[38;5;241m!=\u001b[39m\u001b[38;5;241m-\u001b[39m\u001b[38;5;241m1\u001b[39m:\n\u001b[1;32m     26\u001b[0m     off_target_preds \u001b[38;5;241m=\u001b[39m {off_target_name:off_target_interfaces[off_target_name]\u001b[38;5;241m.\u001b[39mpredict(mol,exh)[\u001b[38;5;241m0\u001b[39m] \u001b[38;5;28;01mfor\u001b[39;00m off_target_name \u001b[38;5;129;01min\u001b[39;00m off_target_interfaces\u001b[38;5;241m.\u001b[39mkeys()}\n",
            "File \u001b[0;32m/mnt/batch/tasks/shared/LS_root/mounts/clusters/rc8001/code/selectivebayes/selectivebayes/interfaces.py:107\u001b[0m, in \u001b[0;36mvinainterface.predict\u001b[0;34m(self, molecule, exhaustiveness)\u001b[0m\n\u001b[1;32m    105\u001b[0m lig_pdbqt \u001b[38;5;241m=\u001b[39m meeko_prep\u001b[38;5;241m.\u001b[39mwrite_pdbqt_string()\n\u001b[1;32m    106\u001b[0m v\u001b[38;5;241m.\u001b[39mset_ligand_from_string(lig_pdbqt)\n\u001b[0;32m--> 107\u001b[0m \u001b[43mv\u001b[49m\u001b[38;5;241;43m.\u001b[39;49m\u001b[43mdock\u001b[49m\u001b[43m(\u001b[49m\u001b[43mexhaustiveness\u001b[49m\u001b[38;5;241;43m=\u001b[39;49m\u001b[43mexhaustiveness\u001b[49m\u001b[43m,\u001b[49m\u001b[43m \u001b[49m\u001b[43mn_poses\u001b[49m\u001b[38;5;241;43m=\u001b[39;49m\u001b[38;5;241;43m20\u001b[39;49m\u001b[43m)\u001b[49m\n\u001b[1;32m    108\u001b[0m en\u001b[38;5;241m=\u001b[39mnp\u001b[38;5;241m.\u001b[39msum(v\u001b[38;5;241m.\u001b[39menergies(n_poses\u001b[38;5;241m=\u001b[39m\u001b[38;5;241m1\u001b[39m)[\u001b[38;5;241m0\u001b[39m][\u001b[38;5;241m1\u001b[39m:\u001b[38;5;241m4\u001b[39m])\n\u001b[1;32m    109\u001b[0m \u001b[38;5;28mself\u001b[39m\u001b[38;5;241m.\u001b[39mpredicted[(molecule,exhaustiveness)]\u001b[38;5;241m=\u001b[39men\n",
            "File \u001b[0;32m/anaconda/envs/azureml_py38/lib/python3.8/site-packages/vina/vina.py:464\u001b[0m, in \u001b[0;36mVina.dock\u001b[0;34m(self, exhaustiveness, n_poses, min_rmsd, max_evals)\u001b[0m\n\u001b[1;32m    461\u001b[0m \u001b[38;5;28;01melif\u001b[39;00m max_evals \u001b[38;5;241m<\u001b[39m \u001b[38;5;241m0\u001b[39m:\n\u001b[1;32m    462\u001b[0m     \u001b[38;5;28;01mraise\u001b[39;00m \u001b[38;5;167;01mValueError\u001b[39;00m(\u001b[38;5;124m'\u001b[39m\u001b[38;5;124mError: maximum evaluations must be positive.\u001b[39m\u001b[38;5;124m'\u001b[39m)\n\u001b[0;32m--> 464\u001b[0m \u001b[38;5;28;43mself\u001b[39;49m\u001b[38;5;241;43m.\u001b[39;49m\u001b[43m_vina\u001b[49m\u001b[38;5;241;43m.\u001b[39;49m\u001b[43mglobal_search\u001b[49m\u001b[43m(\u001b[49m\u001b[43mexhaustiveness\u001b[49m\u001b[43m,\u001b[49m\u001b[43m \u001b[49m\u001b[43mn_poses\u001b[49m\u001b[43m,\u001b[49m\u001b[43m \u001b[49m\u001b[43mmin_rmsd\u001b[49m\u001b[43m,\u001b[49m\u001b[43m \u001b[49m\u001b[43mmax_evals\u001b[49m\u001b[43m)\u001b[49m\n",
            "File \u001b[0;32m/anaconda/envs/azureml_py38/lib/python3.8/site-packages/vina/vina_wrapper.py:736\u001b[0m, in \u001b[0;36mVina.global_search\u001b[0;34m(self, exhaustiveness, n_poses, min_rmsd, max_evals)\u001b[0m\n\u001b[1;32m    735\u001b[0m \u001b[38;5;28;01mdef\u001b[39;00m \u001b[38;5;21mglobal_search\u001b[39m(\u001b[38;5;28mself\u001b[39m, exhaustiveness: \u001b[38;5;124m\"\u001b[39m\u001b[38;5;124mint const\u001b[39m\u001b[38;5;124m\"\u001b[39m\u001b[38;5;241m=\u001b[39m\u001b[38;5;241m8\u001b[39m, n_poses: \u001b[38;5;124m\"\u001b[39m\u001b[38;5;124mint const\u001b[39m\u001b[38;5;124m\"\u001b[39m\u001b[38;5;241m=\u001b[39m\u001b[38;5;241m20\u001b[39m, min_rmsd: \u001b[38;5;124m\"\u001b[39m\u001b[38;5;124mdouble const\u001b[39m\u001b[38;5;124m\"\u001b[39m\u001b[38;5;241m=\u001b[39m\u001b[38;5;241m1.0\u001b[39m, max_evals: \u001b[38;5;124m\"\u001b[39m\u001b[38;5;124mint const\u001b[39m\u001b[38;5;124m\"\u001b[39m\u001b[38;5;241m=\u001b[39m\u001b[38;5;241m0\u001b[39m) \u001b[38;5;241m-\u001b[39m\u001b[38;5;241m>\u001b[39m \u001b[38;5;124m\"\u001b[39m\u001b[38;5;124mvoid\u001b[39m\u001b[38;5;124m\"\u001b[39m:\n\u001b[0;32m--> 736\u001b[0m     \u001b[38;5;28;01mreturn\u001b[39;00m \u001b[43m_vina_wrapper\u001b[49m\u001b[38;5;241;43m.\u001b[39;49m\u001b[43mVina_global_search\u001b[49m\u001b[43m(\u001b[49m\u001b[38;5;28;43mself\u001b[39;49m\u001b[43m,\u001b[49m\u001b[43m \u001b[49m\u001b[43mexhaustiveness\u001b[49m\u001b[43m,\u001b[49m\u001b[43m \u001b[49m\u001b[43mn_poses\u001b[49m\u001b[43m,\u001b[49m\u001b[43m \u001b[49m\u001b[43mmin_rmsd\u001b[49m\u001b[43m,\u001b[49m\u001b[43m \u001b[49m\u001b[43mmax_evals\u001b[49m\u001b[43m)\u001b[49m\n",
            "\u001b[0;31mKeyboardInterrupt\u001b[0m: "
          ]
        }
      ],
      "execution_count": 14,
      "metadata": {
        "jupyter": {
          "source_hidden": false,
          "outputs_hidden": false
        },
        "nteract": {
          "transient": {
            "deleting": false
          }
        },
        "gather": {
          "logged": 1676546907887
        }
      }
    }
  ],
  "metadata": {
    "kernelspec": {
      "name": "python38-azureml",
      "language": "python",
      "display_name": "Python 3.8 - AzureML"
    },
    "language_info": {
      "name": "python",
      "version": "3.8.5",
      "mimetype": "text/x-python",
      "codemirror_mode": {
        "name": "ipython",
        "version": 3
      },
      "pygments_lexer": "ipython3",
      "nbconvert_exporter": "python",
      "file_extension": ".py"
    },
    "microsoft": {
      "host": {
        "AzureML": {
          "notebookHasBeenCompleted": true
        }
      }
    },
    "kernel_info": {
      "name": "python38-azureml"
    },
    "nteract": {
      "version": "nteract-front-end@1.0.0"
    }
  },
  "nbformat": 4,
  "nbformat_minor": 2
}