{
  "cells": [
    {
      "cell_type": "code",
      "source": [
        "import pandas as pd\r\n",
        "import seaborn as sns\r\n",
        "import rdkit\r\n",
        "import torch\r\n",
        "import vina\r\n",
        "import meeko\r\n",
        "import pexpect\r\n",
        "import pickle\r\n",
        "import numpy as np\r\n",
        "from scipy.stats import norm\r\n",
        "from typing import Optional, Union, List\r\n",
        "from bayes_opt import BayesianOptimization\r\n",
        "from bayes_opt.util import load_logs\r\n",
        "from bayes_opt.domain_reduction import DomainTransformer\r\n",
        "from bayes_opt.logger import JSONLogger\r\n",
        "from bayes_opt.event import Events\r\n",
        "from bayes_opt.target_space import TargetSpace\r\n",
        "import dimorphite_dl\r\n",
        "import sys\r\n",
        "from contextlib import redirect_stdout"
      ],
      "outputs": [
        {
          "output_type": "stream",
          "name": "stderr",
          "text": "<frozen importlib._bootstrap>:219: RuntimeWarning: scipy._lib.messagestream.MessageStream size changed, may indicate binary incompatibility. Expected 56 from C header, got 64 from PyObject\n"
        }
      ],
      "execution_count": 1,
      "metadata": {
        "gather": {
          "logged": 1674666943220
        }
      }
    },
    {
      "cell_type": "code",
      "source": [
        "knowndrugs = {\"small_mol\":r\"N#C[C@@]1(N2CCCCC2)CCc2cccc(Br)c21\",\r\n",
        "              \"Gilteritinib\":r\"CCc1nc(C(=O)N)c(Nc2ccc(N3CCC(CC3)N4CCN(C)CC4)c(OC)c2)nc1NC5CCOCC5\", \r\n",
        "              \"Quizartinib\":r\"CC(C)(C)c1cc(no1)NC(=O)Nc2ccc(cc2)c3cn4c5ccc(cc5sc4n3)OCCN6CCOCC6\", \r\n",
        "              \"Crenolanib\":r\"O(c5cc4ncn(c1nc3c(cc1)cccc3N2CCC(N)CC2)c4cc5)CC6(COC6)C\",\r\n",
        "              \"Tandutinib\":r\"CC(C)OC1=CC=C(C=C1)NC(=O)N2CCN(CC2)C3=NC=NC4=CC(=C(C=C43)OC)OCCCN5CCCCC5\",\r\n",
        "              \"Sorafenib\":r\"CNC(=O)c1cc(ccn1)Oc2ccc(cc2)NC(=O)Nc3ccc(c(c3)C(F)(F)F)Cl\",\r\n",
        "              \"Sunitinib\":r\"CCN(CC)CCNC(=O)c1c(c([nH]c1C)/C=C\\2/c3cc(ccc3NC2=O)F)C\",\r\n",
        "              \"Lestaurtinib\":r\"C[C@@]12[C@](C[C@@H](O1)n3c4ccccc4c5c3c6n2c7ccccc7c6c8c5C(=O)NC8)(CO)O\",\r\n",
        "              \"Midostaurin\":r\"C[C@@]12[C@@H]([C@@H](C[C@@H](O1)N3C4=CC=CC=C4C5=C6C(=C7C8=CC=CC=C8N2C7=C53)CNC6=O)N(C)C(=O)C9=CC=CC=C9)OC\",\r\n",
        "              \"Ponatinib\":r\"Cc1ccc(cc1C#Cc2cnc3n2nccc3)C(=O)Nc4ccc(c(c4)C(F)(F)F)CN5CCN(CC5)C\"\r\n",
        "              }"
      ],
      "outputs": [],
      "execution_count": 11,
      "metadata": {
        "jupyter": {
          "source_hidden": false,
          "outputs_hidden": false
        },
        "nteract": {
          "transient": {
            "deleting": false
          }
        },
        "gather": {
          "logged": 1674667741259
        }
      }
    },
    {
      "cell_type": "code",
      "source": [
        "from rdkit.Chem import rdFreeSASA\r\n",
        "for drug in knowndrugs:\r\n",
        "    mol = rdkit.Chem.MolFromSmiles(knowndrugs[drug])\r\n",
        "    mol = rdkit.Chem.AddHs(mol)\r\n",
        "    rdkit.Chem.AllChem.EmbedMolecule(mol)\r\n",
        "    radii = rdFreeSASA.classifyAtoms(mol)\r\n",
        "    print(drug)\r\n",
        "    SASA = rdFreeSASA.CalcSASA(mol,radii)\r\n",
        "    gauss_en = SASA/(1.7**2*np.pi)*0.045\r\n",
        "    \r\n",
        "    hbonds = rdkit.Chem.rdMolDescriptors.CalcNumHBA(mol)+rdkit.Chem.rdMolDescriptors.CalcNumHBD(mol)\r\n",
        "    q = rdkit.Chem.rdqueries.AtomNumEqualsQueryAtom(6)\r\n",
        "    sp2carbs=len(mol.GetAtomsMatchingQuery(q))*(1-rdkit.Chem.rdMolDescriptors.CalcFractionCSP3(mol))\r\n",
        "    heavyatoms = rdkit.Chem.rdMolDescriptors.CalcNumHeavyAtoms(mol)\r\n",
        "    \r\n",
        "    print(hbonds,heavyatoms,sp2carbs)\r\n",
        "    max_score = hbonds*-0.6-gauss_en-0.035*sp2carbs\r\n",
        "    print(max_score)"
      ],
      "outputs": [
        {
          "output_type": "stream",
          "name": "stdout",
          "text": "small_mol\n2 18 7.0\n-2.986803119576412\nGilteritinib\n13 40 11.0\n-11.682108628144322\nQuizartinib\n11 40 19.0\n-10.478737221108958\nCrenolanib\n8 33 16.0\n-8.022204380866594\nTandutinib\n9 41 15.0\n-9.56790284920695\nSorafenib\n7 32 19.0\n-7.2082725736601025\nSunitinib\n6 29 14.0\n-6.6142138239363835\nLestaurtinib\n9 33 19.0\n-8.291113961595993\nMidostaurin\n7 43 26.0\n-8.155229938973038\nPonatinib\n7 39 21.0\n-7.839244830756429\n"
        }
      ],
      "execution_count": 14,
      "metadata": {
        "jupyter": {
          "source_hidden": false,
          "outputs_hidden": false
        },
        "nteract": {
          "transient": {
            "deleting": false
          }
        },
        "gather": {
          "logged": 1674667829146
        }
      }
    },
    {
      "cell_type": "code",
      "source": [],
      "outputs": [],
      "execution_count": null,
      "metadata": {
        "jupyter": {
          "source_hidden": false,
          "outputs_hidden": false
        },
        "nteract": {
          "transient": {
            "deleting": false
          }
        }
      }
    }
  ],
  "metadata": {
    "kernelspec": {
      "name": "python38-azureml",
      "language": "python",
      "display_name": "Python 3.8 - AzureML"
    },
    "language_info": {
      "name": "python",
      "version": "3.8.5",
      "mimetype": "text/x-python",
      "codemirror_mode": {
        "name": "ipython",
        "version": 3
      },
      "pygments_lexer": "ipython3",
      "nbconvert_exporter": "python",
      "file_extension": ".py"
    },
    "microsoft": {
      "host": {
        "AzureML": {
          "notebookHasBeenCompleted": true
        }
      }
    },
    "kernel_info": {
      "name": "python38-azureml"
    },
    "nteract": {
      "version": "nteract-front-end@1.0.0"
    }
  },
  "nbformat": 4,
  "nbformat_minor": 2
}