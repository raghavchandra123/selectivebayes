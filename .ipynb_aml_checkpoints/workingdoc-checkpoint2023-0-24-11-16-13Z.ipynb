{
  "cells": [
    {
      "cell_type": "code",
      "source": [
        "import pandas as pd\r\n",
        "import seaborn as sns\r\n",
        "import rdkit\r\n",
        "import torch\r\n",
        "import vina\r\n",
        "import meeko\r\n",
        "import pexpect\r\n",
        "import pickle\r\n",
        "import numpy as np\r\n",
        "from bayes_opt import BayesianOptimization\r\n",
        "from bayes_opt.util import load_logs\r\n",
        "from bayes_opt import SequentialDomainReductionTransformer\r\n",
        "from bayes_opt.logger import JSONLogger\r\n",
        "from bayes_opt.event import Events\r\n",
        "import dimorphite_dl\r\n",
        "import sys\r\n",
        "from contextlib import redirect_stdout\r\n",
        "latent_size=56"
      ],
      "outputs": [
        {
          "output_type": "stream",
          "name": "stderr",
          "text": "<frozen importlib._bootstrap>:219: RuntimeWarning: scipy._lib.messagestream.MessageStream size changed, may indicate binary incompatibility. Expected 56 from C header, got 64 from PyObject\n"
        }
      ],
      "execution_count": 1,
      "metadata": {
        "gather": {
          "logged": 1674557457914
        }
      }
    },
    {
      "cell_type": "code",
      "source": [
        "cmd = \"conda run -n jtvae --no-capture-output python sample.py --nsample 3 --vocab data/zinc/vocab.txt --hidden 450 --depth 3 --latent 56 --model molvae/MPNVAE-h450-L56-d3-beta0.005/model.iter-4\"  # launch your python2 script\n",
        "\n",
        "class vaeinterface:\n",
        "    def __init__(self):\n",
        "        self.dim=dimorphite_dl.DimorphiteDL(min_ph=7.4,max_ph=7.4,max_variants=1)\n",
        "        pass\n",
        "    def start(self):\n",
        "        self.p=pexpect.spawn(cmd,timeout=1200,logfile=open('mylog.txt','wb'))\n",
        "    def decode(self,all_vec):\n",
        "        p=self.p\n",
        "        p.expect(\"ready\")\n",
        "        tree_vec = all_vec[:,0:latent_size//2].astype(\"f\")\n",
        "        mol_vec = all_vec[:,latent_size//2:].astype(\"f\")\n",
        "        pickle.dump([tree_vec,mol_vec],open(\"molvec.pk1\",\"wb\"),protocol=2)\n",
        "        p.sendline(\"'go'\")\n",
        "        p.expect(\"~.*~\")\n",
        "        mol=p.after.decode()[1:-1]\n",
        "        return mol\n",
        "        #if mol==\"failed\":\n",
        "        #    return mol\n",
        "        #try:\n",
        "        #    protmol = self.dim.protonate(mol)\n",
        "        #    return protmol[0]\n",
        "        #except:\n",
        "        #    return mol\n",
        "    def debug(self):\n",
        "        p = self.p\n",
        "        p.expect(\"ready\")\n",
        "        p.sendline(\"'go'\")\n",
        "        p.expect(\"~.*~\")\n",
        "        mol=p.after.decode()[1:-1]\n",
        "        print(mol)\n",
        "        protmol = self.dim.protonate(mol)\n",
        "        print(protmol[0])\n",
        "    def encode(self,mol):\n",
        "        p=self.p\n",
        "        p.expect(\"ready\")\n",
        "        p.sendline(\"'enc\"+mol+\"'\")\n",
        "        p.expect(\"done\")\n",
        "        all_vec = pickle.load(open(\"encoded.pk1\",\"rb\"),encoding=\"latin1\")\n",
        "        return all_vec\n",
        "    def reconstruct(self,mol):\n",
        "        p=self.p\n",
        "        all_vec = self.encode(mol)\n",
        "        return self.decode(all_vec)\n",
        "        \n",
        "    def stop(self):\n",
        "        p=self.p\n",
        "        p.sendline(\"'stop'\")\n",
        "\n",
        "def visualise(molecules):\n",
        "    img = rdkit.Chem.Draw.MolsToGridImage([rdkit.Chem.MolFromSmiles(mol) for mol in molecules],subImgSize=(300,300))\n",
        "    return img\n",
        "\n",
        "class vinainterface:\n",
        "    def __init__(self,receptor,center):\n",
        "        v = vina.Vina(sf_name='vinardo', verbosity=0)\n",
        "        v.set_receptor(receptor)\n",
        "        v.compute_vina_maps(center=center, box_size=[30, 30, 30])\n",
        "        self.v=v\n",
        "        self.predicted = {}\n",
        "        self.receptor = receptor\n",
        "        self.center = center\n",
        "        print(\"Vina Initialisation complete\")\n",
        "    def predict(self,molecule,exhaustiveness):\n",
        "        if molecule==\"failed\":\n",
        "            return -5.0,-1\n",
        "        if molecule in self.predicted:\n",
        "            print(\"SEEN\")\n",
        "            return self.predicted[molecule],1\n",
        "        lig = rdkit.Chem.MolFromSmiles(molecule)\n",
        "        protonated_lig = rdkit.Chem.AddHs(lig)\n",
        "        success = rdkit.Chem.AllChem.EmbedMolecule(protonated_lig)\n",
        "        if success==-1:\n",
        "            success=rdkit.Chem.AllChem.EmbedMolecule(protonated_lig, useRandomCoords = True)\n",
        "        if success==-1:\n",
        "            print(\"failed conformer gen\")\n",
        "            return -5.0,-1\n",
        "        v=self.v\n",
        "        meeko_prep = meeko.MoleculePreparation()\n",
        "        meeko_prep.prepare(protonated_lig)\n",
        "        lig_pdbqt = meeko_prep.write_pdbqt_string()\n",
        "        v.set_ligand_from_string(lig_pdbqt)\n",
        "        v.dock(exhaustiveness=exhaustiveness, n_poses=20)\n",
        "        en=np.sum(v.energies(n_poses=1)[0][1:4])\n",
        "        self.predicted[molecule]=en\n",
        "        return en,1\n",
        "    \n",
        "class sminainterface:\n",
        "    def __init__(self,receptor,center):\n",
        "        self.receptor = receptor\n",
        "        self.center = center\n",
        "        self.predicted = {}\n",
        "    def predict(self,molecule,exhaustiveness):\n",
        "        if molecule==\"failed\":\n",
        "            return -5.0\n",
        "        if molecule in self.predicted:\n",
        "            print(\"SEEN\")\n",
        "            return self.predicted[molecule]\n",
        "        center = self.center\n",
        "        receptor = self.receptor\n",
        "        lig = rdkit.Chem.MolFromSmiles(molecule)\n",
        "        rdkit.Chem.MolToMolFile(lig,\"current_lig.mol\")\n",
        "        !Jupyter_Dock/bin/smina -r {receptor} -l {'current_lig.mol'} -o {'mol_out.sdf'} --center_x {center[0]} --center_y {center[1]} --center_z {center[2]} --size_x {30} --size_y {30} --size_z {30} --exhaustiveness {exhaustiveness} --num_modes 1 --scoring vinardo -q\n",
        "        poses=rdkit.Chem.SDMolSupplier('mol_out.sdf')\n",
        "\n",
        "        aff = float(poses[0].GetProp(\"minimizedAffinity\"))\n",
        "        self.predicted[molecule] = aff\n",
        "        return aff\n",
        "\n",
        "class qvinainterface:\n",
        "    def __init__(self,receptor,center):\n",
        "        self.receptor = receptor\n",
        "        self.center = center\n",
        "        self.predicted = {}\n",
        "    def predict(self,molecule,exhaustiveness):\n",
        "        if molecule==\"failed\":\n",
        "            return -5.0\n",
        "        if molecule in self.predicted:\n",
        "            print(\"SEEN\")\n",
        "            return self.predicted[molecule]\n",
        "        center = self.center\n",
        "        receptor = self.receptor\n",
        "        lig = rdkit.Chem.MolFromSmiles(molecule)\n",
        "        protonated_lig = rdkit.Chem.AddHs(lig)\n",
        "        success = rdkit.Chem.AllChem.EmbedMolecule(protonated_lig)\n",
        "        meeko_prep = meeko.MoleculePreparation()\n",
        "        meeko_prep.prepare(protonated_lig)\n",
        "        lig_pdbqt = meeko_prep.write_pdbqt_file(\"current_lig.pdbqt\")\n",
        "        !Jupyter_Dock/bin/qvina2.1 --receptor {receptor} --ligand current_lig.pdbqt --out out.pdbqt --center_x {center[0]} --center_y {center[1]} --center_z {center[2]} --size_x {30} --size_y {30} --size_z {30} --exhaustiveness {exhaustiveness} --num_modes 1\n",
        "        f=open('out.pdbqt')\n",
        "        lines=f.readlines()\n",
        "        aff = float(lines[1].split()[3])\n",
        "        self.predicted[molecule] = aff\n",
        "        return aff\n",
        "\n",
        "\n",
        "knowndrugs = {\"Gilteritinib\":r\"CCc1nc(C(=O)N)c(Nc2ccc(N3CCC(CC3)N4CCN(C)CC4)c(OC)c2)nc1NC5CCOCC5\", \n",
        "              \"Quizartinib\":r\"CC(C)(C)c1cc(no1)NC(=O)Nc2ccc(cc2)c3cn4c5ccc(cc5sc4n3)OCCN6CCOCC6\", \n",
        "              \"Crenolanib\":r\"O(c5cc4ncn(c1nc3c(cc1)cccc3N2CCC(N)CC2)c4cc5)CC6(COC6)C\",\n",
        "              \"Tandutinib\":r\"CC(C)OC1=CC=C(C=C1)NC(=O)N2CCN(CC2)C3=NC=NC4=CC(=C(C=C43)OC)OCCCN5CCCCC5\",\n",
        "              \"Sorafenib\":r\"CNC(=O)c1cc(ccn1)Oc2ccc(cc2)NC(=O)Nc3ccc(c(c3)C(F)(F)F)Cl\",\n",
        "              \"Sunitinib\":r\"CCN(CC)CCNC(=O)c1c(c([nH]c1C)/C=C\\2/c3cc(ccc3NC2=O)F)C\",\n",
        "              \"Lestaurtinib\":r\"C[C@@]12[C@](C[C@@H](O1)n3c4ccccc4c5c3c6n2c7ccccc7c6c8c5C(=O)NC8)(CO)O\",\n",
        "              \"Midostaurin\":r\"C[C@@]12[C@@H]([C@@H](C[C@@H](O1)N3C4=CC=CC=C4C5=C6C(=C7C8=CC=CC=C8N2C7=C53)CNC6=O)N(C)C(=O)C9=CC=CC=C9)OC\",\n",
        "              \"Ponatinib\":r\"Cc1ccc(cc1C#Cc2cnc3n2nccc3)C(=O)Nc4ccc(c(c4)C(F)(F)F)CN5CCN(CC5)C\"\n",
        "              }\n",
        "fps = {x:rdkit.Chem.RDKFingerprint(rdkit.Chem.MolFromSmiles(knowndrugs[x])) for x in knowndrugs}\n",
        "def simsearch(molecule):\n",
        "    if molecule==\"failed\":\n",
        "        return 0,0\n",
        "    molfing = rdkit.Chem.RDKFingerprint(rdkit.Chem.MolFromSmiles(molecule))\n",
        "    highestsim = 0\n",
        "    bestmolec = \"\"\n",
        "    for fp in fps:\n",
        "        currsim = rdkit.DataStructs.FingerprintSimilarity(fps[fp],molfing)\n",
        "        if currsim>highestsim:\n",
        "            highestsim=currsim\n",
        "            bestmolec = fp\n",
        "    return highestsim,bestmolec"
      ],
      "outputs": [],
      "execution_count": 13,
      "metadata": {
        "jupyter": {
          "source_hidden": false,
          "outputs_hidden": false
        },
        "nteract": {
          "transient": {
            "deleting": false
          }
        },
        "gather": {
          "logged": 1674558901676
        }
      }
    },
    {
      "cell_type": "code",
      "source": [
        "from hide_warnings import hide_warnings\n",
        "\n",
        "beta = 4184/(8.3145*310)\n",
        "pred_list = []\n",
        "\n",
        "@hide_warnings(out=False)\n",
        "def optstart(numiters):\n",
        "    ind=0\n",
        "    print(\"Starting\")\n",
        "    flt3 = vinainterface(\"receptorstruc.pdbqt\",[-28.03685,\t-10.361925,\t-28.9883])\n",
        "    ckit = vinainterface(\"ckit.pdbqt\",[45.93035714,\t97.03574286,\t16.1472])\n",
        "    pdgfra = vinainterface(\"pdgfra.pdbqt\",[17.58837931,\t132.5595172,\t-6.030275862])\n",
        "    vegfr = vinainterface(\"VEGFR.pdbqt\",[25.997,\t28.605,\t17.134])\n",
        "    mk2 = vinainterface(\"MK2.pdbqt\",[47.6395,\t34.809,\t16.708])\n",
        "    jak2 = vinainterface(\"JAK2.pdbqt\",[-31.7445,\t-49.661,\t35.4655])\n",
        "      \n",
        "    def optfunction(**kwargs):\n",
        "        nonlocal ind\n",
        "        ind+=1\n",
        "        mol=vaeint.decode(np.expand_dims(np.fromiter(kwargs.values(),dtype=float),axis=0))\n",
        "        exh = 8\n",
        "        flt3_pred,success = flt3.predict(mol,exh)\n",
        "        if success!=-1:\n",
        "            pdgfra_pred = pdgfra.predict(mol,exh)[0]\n",
        "            ckit_pred = ckit.predict(mol,exh)[0]\n",
        "            vegfr_pred = vegfr.predict(mol,exh)[0]\n",
        "            mk2_pred = mk2.predict(mol,exh)[0]\n",
        "            jak2_pred = jak2.predict(mol,exh)[0]\n",
        "        else:\n",
        "            pdgfra_pred = -5.0\n",
        "            ckit_pred = -5.0\n",
        "            vegfr_pred = -5.0\n",
        "            mk2_pred =-5.0\n",
        "            jak2_pred = -5.0\n",
        "        all_preds = [flt3_pred,pdgfra_pred,ckit_pred,vegfr_pred,mk2_pred,jak2_pred]\n",
        "\n",
        "        anybind=-6.0\n",
        "\n",
        "        prediction = np.exp(-beta*flt3_pred)/(np.exp(-beta*anybind)+np.sum([np.exp(-beta*pr) for pr in all_preds]))\n",
        "        pred_list.append([mol,prediction,all_preds])\n",
        "\n",
        "        sim,molec = simsearch(mol)\n",
        "        print(f\"{ind}: {mol}, Pred: {prediction:.4f}, SimDrug: {molec}, SimVal: {sim:.3f}\")\n",
        "        print(f\"FLT3: {flt3_pred:.2f}, PDGFRA: {pdgfra_pred:.2f}, CKIT: {ckit_pred:.2f}, VEGFR: {vegfr_pred:.2f}, MK2: {mk2_pred:.2f}, JAK2: {jak2_pred:.2f}\")\n",
        "        \n",
        "        return prediction\n",
        "\n",
        "    pbounds = {f\"f{i}\": (-3,3) for i in range(56)}\n",
        "    bounds_transformer = SequentialDomainReductionTransformer(minimum_window=1)\n",
        "    optimizer = BayesianOptimization(f=optfunction,pbounds=pbounds,verbose=0,bounds_transformer=bounds_transformer)\n",
        "    logger = JSONLogger(path=\"./logs3.json\")\n",
        "    optimizer.subscribe(Events.OPTIMIZATION_STEP, logger)\n",
        "    optimizer.set_gp_params(alpha=0.1)\n",
        "    #load_logs(optimizer, logs=[\"./logs2.json\"])\n",
        "    vaeint=vaeinterface()\n",
        "    vaeint.start()\n",
        "    optimizer.maximize(init_points=100,n_iter=numiters)\n",
        "    vaeint.stop()\n",
        "optstart(100)"
      ],
      "outputs": [
        {
          "output_type": "stream",
          "name": "stdout",
          "text": "Starting\nVina Initialisation complete\nVina Initialisation complete\nVina Initialisation complete\nVina Initialisation complete\nVina Initialisation complete\nVina Initialisation complete\n1: O=c1ccc(-c2ncsc2Cl)c(Oc2nccc(-c3ccccc3)n2)[nH]1, Pred: 0.4147, SimDrug: Midostaurin, SimVal: 0.451\nFLT3: -8.45, PDGFRA: -7.01, CKIT: -8.21, VEGFR: -7.09, MK2: -6.53, JAK2: -7.97\n2: CCc1ccc(-n2nc3c(cc2=O)Oc2ccccc2C3)c(OC)c1, Pred: 0.2125, SimDrug: Midostaurin, SimVal: 0.492\nFLT3: -6.72, PDGFRA: -5.51, CKIT: -6.73, VEGFR: -6.17, MK2: -5.26, JAK2: -7.07\n3: C[C@@](O)(CF)[C@]1(C)CCCN1C(=O)[C@@H]1C=CC=NC1, Pred: 0.0482, SimDrug: Midostaurin, SimVal: 0.330\nFLT3: -4.56, PDGFRA: -5.21, CKIT: -5.19, VEGFR: -4.39, MK2: -4.49, JAK2: -4.99\n4: CS[C@@H](Cc1ccc(F)cc1)C1[NH+]=c2ccccc2=[NH+]1, Pred: 0.2172, SimDrug: Midostaurin, SimVal: 0.232\nFLT3: -6.55, PDGFRA: -5.74, CKIT: -6.71, VEGFR: -5.80, MK2: -6.01, JAK2: -6.51\n5: C[C@H](CC#N)[NH2+][C@@H]1CCCCN1c1cnc2c(C(S)S)noc2c1N(C)C, Pred: 0.0846, SimDrug: Midostaurin, SimVal: 0.528\nFLT3: -5.42, PDGFRA: -5.57, CKIT: -5.68, VEGFR: -5.02, MK2: -5.23, JAK2: -6.32\n6: CCO/C(C)=C\\c1ccccc1Nc1[nH]cc[nH+]1, Pred: 0.2577, SimDrug: Sunitinib, SimVal: 0.234\nFLT3: -6.43, PDGFRA: -5.14, CKIT: -5.95, VEGFR: -6.21, MK2: -5.67, JAK2: -6.31\n7: Cc1ccc(-c2nc(CNc3cccc4ccccc34)no2)cc1, Pred: 0.8012, SimDrug: Quizartinib, SimVal: 0.290\nFLT3: -9.37, PDGFRA: -6.76, CKIT: -8.12, VEGFR: -7.21, MK2: -6.31, JAK2: -7.64\nSEEN\nSEEN\nSEEN\nSEEN\nSEEN\nSEEN\n8: Cc1ccc(-c2nc(CNc3cccc4ccccc34)no2)cc1, Pred: 0.8012, SimDrug: Quizartinib, SimVal: 0.290\nFLT3: -9.37, PDGFRA: -6.76, CKIT: -8.12, VEGFR: -7.21, MK2: -6.31, JAK2: -7.64\nSEEN\nSEEN\nSEEN\nSEEN\nSEEN\nSEEN\n9: Cc1ccc(-c2nc(CNc3cccc4ccccc34)no2)cc1, Pred: 0.8012, SimDrug: Quizartinib, SimVal: 0.290\nFLT3: -9.37, PDGFRA: -6.76, CKIT: -8.12, VEGFR: -7.21, MK2: -6.31, JAK2: -7.64\n"
        }
      ],
      "execution_count": 5,
      "metadata": {
        "jupyter": {
          "source_hidden": false,
          "outputs_hidden": false
        },
        "nteract": {
          "transient": {
            "deleting": false
          }
        },
        "gather": {
          "logged": 1674558330684
        }
      }
    },
    {
      "cell_type": "code",
      "source": [
        "pbounds = {f\"f{i}\": (-3,3) for i in range(56)}\r\n",
        "bounds_transformer = SequentialDomainReductionTransformer(minimum_window=1)\r\n",
        "optimizer = BayesianOptimization(f=optstart,pbounds=pbounds,verbose=0,bounds_transformer=bounds_transformer)\r\n",
        "load_logs(optimizer, logs=[\"./logs2.json\"])\r\n"
      ],
      "outputs": [
        {
          "output_type": "stream",
          "name": "stdout",
          "text": "0.3469924670735289\n0.13443532997432447\n0.3212350558709292\n0.333663839077677\n0.5549280021514607\n0.2258849627508454\n0.8501523818349674\n0.08605192208599743\n0.3094061938042172\n0.1240653665100611\n0.05297579886418807\n0.056295716506332236\n0.22078503844106143\n0.2682960825663328\n0.20821563697664286\n0.10945242704742109\n0.2134988477706748\n0.2412536596470952\n0.4692125249207774\n0.3986304260411198\n0.4715459148520303\n0.09672483007534736\n0.3055478307286156\n0.3030716823612058\n0.12797974449802477\n0.1462818321238074\n0.1063365798718083\n0.4192590408562926\n0.19810478994528227\n0.16956956925567643\n0.06647601115307122\n0.09957289680721639\n0.17844147382422573\n0.19735406555344226\n0.07952882752398384\n0.31685216497355795\n0.4790629482628023\n0.12019743867706112\n0.3028867289084815\n0.0903366899874057\n0.1592780474280308\n0.2762418320627634\n0.04480326365377403\n0.005624626700816345\n0.05354992765481855\n0.1692004605021391\n0.04002836156267234\n0.13707227190303245\n0.24468087465697488\n0.2061087022315897\n0.06357298491346913\n0.11831891137028704\n0.2563360577683653\n0.1185030362537501\n0.40250507321576656\n0.4882493059332837\n0.07627663350588022\n0.04270498981342151\n0.35175193448492853\n0.7111689072627132\n0.5565370426189556\n0.257836131824204\n0.18244696232893093\n0.008303075130402274\n0.24777683110152937\n0.40822983930491646\n0.08737944329657872\n0.30642808405142347\n0.20387490219390783\n0.40486561886540234\n3.245028068904019e-05\n0.3775890195126336\n0.17009341202878706\n0.046494722076819865\n0.07922917773174896\n0.28792272249307194\n0.3613484186773401\n0.11575016634648792\n0.2207023845377814\n0.1607322282904017\n0.367553439057738\n0.1240925896501202\n0.1268400385131016\n0.1626880038825915\n0.09773073355480749\n0.3173995979779714\n0.1639886324891322\n0.05586047969765163\n0.20616928144146598\n0.16535636304465098\n0.0903366899874057\n0.17748246910283472\n0.15998020154559134\n0.4051966359536046\n0.3802452058792859\n0.05594726520811123\n0.12060441948134365\n0.13947531054733675\n0.0903366899874057\n0.1760639766366484\n0.20812426755504762\n0.21346010647183064\n0.19940835957447348\n0.3953900100982061\n0.5052857860361191\n0.28815267102191566\n0.21611420818069296\n0.2234248129064033\n0.14686747431576844\n0.41602162951733984\n0.8501523818349674\n0.8501523818349674\n0.8501523818349674\n0.8501523818349674\n0.6665999135766734\n0.8501523818349674\n0.8501523818349674\n0.8501523818349674\n0.8501523818349674\n0.22245652168715294\n0.8501523818349674\n0.8501523818349674\n0.8501523818349674\n0.6362805501646082\n0.8501523818349674\n0.8501523818349674\n0.6665999135766734\n0.8501523818349674\n0.8501523818349674\n0.9172148359312202\n0.8074657191392078\n0.7471703393846761\n0.8501523818349674\n0.23145181469843676\n0.9172148359312202\n0.16483921204024612\n0.8501523818349674\n0.8501523818349674\n0.8501523818349674\n0.8501523818349674\n0.8501523818349674\n0.8501523818349674\n0.8501523818349674\n0.8501523818349674\n0.8501523818349674\n0.9172148359312202\n0.25849627821304777\n0.8501523818349674\n0.8501523818349674\n0.8501523818349674\n0.8501523818349674\n0.8501523818349674\n0.8501523818349674\n0.2126709797819726\n0.8501523818349674\n0.8501523818349674\n0.8501523818349674\n0.8501523818349674\n0.8501523818349674\n0.8501523818349674\n0.8501523818349674\n0.8501523818349674\n0.8501523818349674\n0.8501523818349674\n0.8501523818349674\n0.8501523818349674\n0.4188990519012398\n0.8501523818349674\n0.8501523818349674\n0.8501523818349674\n0.21829618684430066\n0.8501523818349674\n0.8501523818349674\n0.8501523818349674\n0.8501523818349674\n0.8501523818349674\n0.8501523818349674\n0.9172148359312202\n0.8501523818349674\n0.9172148359312202\n0.42463670900462164\n0.8501523818349674\n0.8501523818349674\n0.8501523818349674\n0.8501523818349674\n0.8501523818349674\n0.48839762556191085\n0.8501523818349674\n0.8501523818349674\n0.8501523818349674\n0.8501523818349674\n0.3492966239313812\n0.8501523818349674\n0.8501523818349674\n0.8501523818349674\n0.6495340876584289\n0.3742870315567722\n0.8501523818349674\n0.8501523818349674\n0.378378748692561\n"
        }
      ],
      "execution_count": 9,
      "metadata": {
        "jupyter": {
          "source_hidden": false,
          "outputs_hidden": false
        },
        "nteract": {
          "transient": {
            "deleting": false
          }
        },
        "gather": {
          "logged": 1674558555091
        }
      }
    },
    {
      "cell_type": "code",
      "source": [
        "predplot = []\r\n",
        "x=[]\r\n",
        "for i,pred in enumerate(optimizer.res):\r\n",
        "    predplot.append(pred[\"target\"])\r\n",
        "    x.append(i)\r\n",
        "ax=sns.scatterplot(x=x,y=predplot)\r\n",
        "ax.set(xlabel=\"Iteration\",ylabel=\"Objective\")\r\n"
      ],
      "outputs": [
        {
          "output_type": "execute_result",
          "execution_count": 12,
          "data": {
            "text/plain": "[Text(0.5, 0, 'Iteration'), Text(0, 0.5, 'Objective')]"
          },
          "metadata": {}
        },
        {
          "output_type": "display_data",
          "data": {
            "text/plain": "<Figure size 640x480 with 1 Axes>",
            "image/png": "[encoded data removed]"
          },
          "metadata": {}
        }
      ],
      "execution_count": 12,
      "metadata": {
        "jupyter": {
          "source_hidden": false,
          "outputs_hidden": false
        },
        "nteract": {
          "transient": {
            "deleting": false
          }
        },
        "gather": {
          "logged": 1674558789654
        }
      }
    },
    {
      "cell_type": "code",
      "source": [
        "from hide_warnings import hide_warnings\r\n",
        "@hide_warnings(out=False)\r\n",
        "def knowndrugeval():\r\n",
        "    beta = 4184/(8.3145*310)\r\n",
        "    flt3 = vinainterface(\"receptorstruc.pdbqt\",[-28.03685,\t-10.361925,\t-28.9883])\r\n",
        "    ckit = vinainterface(\"ckit.pdbqt\",[45.93035714,\t97.03574286,\t16.1472])\r\n",
        "    pdgfra = vinainterface(\"pdgfra.pdbqt\",[17.58837931,\t132.5595172,\t-6.030275862])\r\n",
        "    vegfr = vinainterface(\"VEGFR.pdbqt\",[25.997,\t28.605,\t17.134])\r\n",
        "    mk2 = vinainterface(\"MK2.pdbqt\",[47.6395,\t34.809,\t16.708])\r\n",
        "    jak2 = vinainterface(\"JAK2.pdbqt\",[-31.7445,\t-49.661,\t35.4655])\r\n",
        "\r\n",
        "    for drug in knowndrugs:\r\n",
        "        mol=knowndrugs[drug]\r\n",
        "        exh = 32\r\n",
        "        flt3_pred = flt3.predict(mol, exh)\r\n",
        "        pdgfra_pred = pdgfra.predict(mol, exh)\r\n",
        "        ckit_pred = ckit.predict(mol, exh)\r\n",
        "        vegfr_pred = vegfr.predict(mol, exh)\r\n",
        "        mk2_pred = mk2.predict(mol, exh)\r\n",
        "        jak2_pred = jak2.predict(mol, exh)\r\n",
        "        all_preds = [flt3_pred,pdgfra_pred,ckit_pred,vegfr_pred,mk2_pred,jak2_pred]\r\n",
        "\r\n",
        "        anybind=-6.0\r\n",
        "\r\n",
        "        prediction = np.exp(-beta*flt3_pred)/(np.exp(-beta*anybind)+np.sum([np.exp(-beta*pr) for pr in all_preds]))\r\n",
        "\r\n",
        "        sim,molec = simsearch(mol)\r\n",
        "        print(f\"{mol}, Pred: {prediction:.4f}, SimDrug: {molec}, SimVal: {sim:.3f}\")\r\n",
        "        print(f\"FLT3: {flt3_pred:.2f}, PDGFRA: {pdgfra_pred:.2f}, CKIT: {ckit_pred:.2f}, VEGFR: {vegfr_pred:.2f}, MK2: {mk2_pred:.2f}, JAK2: {jak2_pred:.2f}\")\r\n",
        "        break\r\n",
        "        \r\n",
        "\r\n",
        "knowndrugeval()\r\n"
      ],
      "outputs": [
        {
          "output_type": "stream",
          "name": "stdout",
          "text": "CCc1nc(C(=O)N)c(Nc2ccc(N3CCC(CC3)N4CCN(C)CC4)c(OC)c2)nc1NC5CCOCC5, Pred: 0.1157, SimDrug: Gilteritinib, SimVal: 1.000\nFLT3: -7.17, PDGFRA: -7.00, CKIT: -7.60, VEGFR: -6.80, MK2: -6.95, JAK2: -7.93\n"
        }
      ],
      "execution_count": 36,
      "metadata": {
        "jupyter": {
          "source_hidden": false,
          "outputs_hidden": false
        },
        "nteract": {
          "transient": {
            "deleting": false
          }
        },
        "gather": {
          "logged": 1674474493783
        }
      }
    },
    {
      "cell_type": "code",
      "source": [],
      "outputs": [],
      "execution_count": null,
      "metadata": {
        "jupyter": {
          "source_hidden": false,
          "outputs_hidden": false
        },
        "nteract": {
          "transient": {
            "deleting": false
          }
        }
      }
    }
  ],
  "metadata": {
    "kernelspec": {
      "name": "python38-azureml",
      "language": "python",
      "display_name": "Python 3.8 - AzureML"
    },
    "language_info": {
      "name": "python",
      "version": "3.8.5",
      "mimetype": "text/x-python",
      "codemirror_mode": {
        "name": "ipython",
        "version": 3
      },
      "pygments_lexer": "ipython3",
      "nbconvert_exporter": "python",
      "file_extension": ".py"
    },
    "microsoft": {
      "host": {
        "AzureML": {
          "notebookHasBeenCompleted": true
        }
      }
    },
    "kernel_info": {
      "name": "python38-azureml"
    },
    "nteract": {
      "version": "nteract-front-end@1.0.0"
    }
  },
  "nbformat": 4,
  "nbformat_minor": 2
}