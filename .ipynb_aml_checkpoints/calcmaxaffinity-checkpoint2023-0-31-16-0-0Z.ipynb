{
  "cells": [
    {
      "cell_type": "code",
      "source": [
        "import pandas as pd\r\n",
        "import seaborn as sns\r\n",
        "import rdkit\r\n",
        "import torch\r\n",
        "import vina\r\n",
        "import meeko\r\n",
        "import pexpect\r\n",
        "import pickle\r\n",
        "import numpy as np\r\n",
        "from scipy.stats import norm\r\n",
        "from typing import Optional, Union, List\r\n",
        "from bayes_opt import BayesianOptimization\r\n",
        "from bayes_opt.util import load_logs\r\n",
        "from bayes_opt.domain_reduction import DomainTransformer\r\n",
        "from bayes_opt.logger import JSONLogger\r\n",
        "from bayes_opt.event import Events\r\n",
        "from bayes_opt.target_space import TargetSpace\r\n",
        "import dimorphite_dl\r\n",
        "import sys\r\n",
        "from contextlib import redirect_stdout"
      ],
      "outputs": [
        {
          "output_type": "stream",
          "name": "stderr",
          "text": "<frozen importlib._bootstrap>:219: RuntimeWarning: scipy._lib.messagestream.MessageStream size changed, may indicate binary incompatibility. Expected 56 from C header, got 64 from PyObject\n"
        }
      ],
      "execution_count": 1,
      "metadata": {
        "gather": {
          "logged": 1675180461483
        }
      }
    },
    {
      "cell_type": "code",
      "source": [
        "knowndrugs = {\"small_mol\":r\"N[C@H]1CC[C@@H](C(=O)N2CC[C@@H](c3cccc(Cl)c3)[C@@H]3[C@@H]2C2CC[NH+]3CC2)O1\",\r\n",
        "              \"Gilteritinib\":r\"CCc1nc(C(=O)N)c(Nc2ccc(N3CCC(CC3)N4CCN(C)CC4)c(OC)c2)nc1NC5CCOCC5\", \r\n",
        "              \"Quizartinib\":r\"CC(C)(C)c1cc(no1)NC(=O)Nc2ccc(cc2)c3cn4c5ccc(cc5sc4n3)OCCN6CCOCC6\", \r\n",
        "              \"Crenolanib\":r\"O(c5cc4ncn(c1nc3c(cc1)cccc3N2CCC(N)CC2)c4cc5)CC6(COC6)C\",\r\n",
        "              \"Tandutinib\":r\"CC(C)OC1=CC=C(C=C1)NC(=O)N2CCN(CC2)C3=NC=NC4=CC(=C(C=C43)OC)OCCCN5CCCCC5\",\r\n",
        "              \"Sorafenib\":r\"CNC(=O)c1cc(ccn1)Oc2ccc(cc2)NC(=O)Nc3ccc(c(c3)C(F)(F)F)Cl\",\r\n",
        "              \"Sunitinib\":r\"CCN(CC)CCNC(=O)c1c(c([nH]c1C)/C=C\\2/c3cc(ccc3NC2=O)F)C\",\r\n",
        "              \"Lestaurtinib\":r\"C[C@@]12[C@](C[C@@H](O1)n3c4ccccc4c5c3c6n2c7ccccc7c6c8c5C(=O)NC8)(CO)O\",\r\n",
        "              \"Midostaurin\":r\"C[C@@]12[C@@H]([C@@H](C[C@@H](O1)N3C4=CC=CC=C4C5=C6C(=C7C8=CC=CC=C8N2C7=C53)CNC6=O)N(C)C(=O)C9=CC=CC=C9)OC\",\r\n",
        "              \"Ponatinib\":r\"Cc1ccc(cc1C#Cc2cnc3n2nccc3)C(=O)Nc4ccc(c(c4)C(F)(F)F)CN5CCN(CC5)C\"\r\n",
        "              }"
      ],
      "outputs": [],
      "execution_count": 2,
      "metadata": {
        "jupyter": {
          "source_hidden": false,
          "outputs_hidden": false
        },
        "nteract": {
          "transient": {
            "deleting": false
          }
        },
        "gather": {
          "logged": 1675180461795
        }
      }
    },
    {
      "cell_type": "code",
      "source": [
        "from rdkit.Chem import rdFreeSASA\r\n",
        "for drug in knowndrugs:\r\n",
        "    mol = rdkit.Chem.MolFromSmiles(knowndrugs[drug])\r\n",
        "    mol = rdkit.Chem.AddHs(mol)\r\n",
        "    rdkit.Chem.AllChem.EmbedMolecule(mol)\r\n",
        "    radii = rdFreeSASA.classifyAtoms(mol)\r\n",
        "    print(drug)\r\n",
        "    SASA = rdFreeSASA.CalcSASA(mol,radii)\r\n",
        "    \r\n",
        "    heavyatoms = rdkit.Chem.rdMolDescriptors.CalcNumHeavyAtoms(mol)\r\n",
        "    hbonds = rdkit.Chem.rdMolDescriptors.CalcNumHBA(mol)+rdkit.Chem.rdMolDescriptors.CalcNumHBD(mol)\r\n",
        "    c_atoms = len(mol.GetAtomsMatchingQuery(rdkit.Chem.rdqueries.AtomNumEqualsQueryAtom(6)))\r\n",
        "    n_atoms = len(mol.GetAtomsMatchingQuery(rdkit.Chem.rdqueries.AtomNumEqualsQueryAtom(7)))\r\n",
        "    o_atoms = len(mol.GetAtomsMatchingQuery(rdkit.Chem.rdqueries.AtomNumEqualsQueryAtom(8)))\r\n",
        "    sp2carbs=c_atoms*(1-rdkit.Chem.rdMolDescriptors.CalcFractionCSP3(mol))\r\n",
        "\r\n",
        "    mean_surf_area = np.pi*(c_atoms*1.7**2+n_atoms*1.55**2+o_atoms*1.52**2)/heavyatoms\r\n",
        "    gauss_en = SASA/(mean_surf_area)*0.045\r\n",
        "\r\n",
        "    hydrophobic_area = 0\r\n",
        "    N_atoms = mol.GetAtomsMatchingQuery(rdkit.Chem.rdqueries.AtomNumEqualsQueryAtom(7))\r\n",
        "    C_atoms = mol.GetAtomsMatchingQuery(rdkit.Chem.rdqueries.AtomNumEqualsQueryAtom(6))\r\n",
        "    tertNs = 0\r\n",
        "    for atom in N_atoms:\r\n",
        "        if atom.GetTotalNumHs(includeNeighbors=True)==0 and atom.GetHybridization()==rdkit.Chem.HybridizationType.SP3:\r\n",
        "            tertNs+=1\r\n",
        "    for atom in C_atoms:\r\n",
        "        \r\n",
        "        for neighbour in atom.GetNeighbors():\r\n",
        "            if neighbour.GetAtomicNum() not in [1,6]:\r\n",
        "                break\r\n",
        "        else:\r\n",
        "            hydrophobic_area += float(atom.GetProp(\"SASA\"))\r\n",
        "            for neighbour in atom.GetNeighbors():\r\n",
        "                if neighbour.GetAtomicNum()==1:\r\n",
        "                    hydrophobic_area += float(neighbour.GetProp(\"SASA\"))\r\n",
        "\r\n",
        "        \r\n",
        "    \r\n",
        "    print(f\"SASA: {SASA},hbonds: {hbonds},heavyatoms: {heavyatoms},hydrophob: {hydrophobic_area}\")\r\n",
        "    max_score = (hbonds)*-0.6-gauss_en-0.035*hydrophobic_area/(np.pi*1.7**2)\r\n",
        "    print(max_score)\r\n",
        "    "
      ],
      "outputs": [
        {
          "output_type": "stream",
          "name": "stdout",
          "text": "small_mol\nSASA: 450.954904609596,hbonds: 5,heavyatoms: 27,hydrophob: 233.5119549594096\n-6.305162599940183\nGilteritinib\nSASA: 703.0492889607814,hbonds: 13,heavyatoms: 40,hydrophob: 216.0268081496556\n-12.296045621298786\nQuizartinib\nSASA: 639.5106256709745,hbonds: 11,heavyatoms: 40,hydrophob: 279.6664645453603\n-11.087652781278397\nCrenolanib\nSASA: 541.2919211984648,hbonds: 8,heavyatoms: 33,hydrophob: 255.38083418575232\n-8.572477561332276\nTandutinib\nSASA: 722.8001452564496,hbonds: 9,heavyatoms: 41,hydrophob: 302.34653909760675\n-10.313880030603716\nSorafenib\nSASA: 471.3535091920788,hbonds: 7,heavyatoms: 32,hydrophob: 181.44623223519943\n-7.696946061891826\nSunitinib\nSASA: 500.04487940185527,hbonds: 6,heavyatoms: 29,hydrophob: 268.6372361996862\n-7.305085759023318\nLestaurtinib\nSASA: 455.34557012807954,hbonds: 9,heavyatoms: 33,hydrophob: 256.34826521787346\n-8.738246038774365\nMidostaurin\nSASA: 613.4030840285404,hbonds: 7,heavyatoms: 43,hydrophob: 358.8693742380153\n-8.731829333743544\nPonatinib\nSASA: 596.9052557851123,hbonds: 7,heavyatoms: 39,hydrophob: 250.800041781721\n-8.483582033493647\n"
        }
      ],
      "execution_count": 5,
      "metadata": {
        "jupyter": {
          "source_hidden": false,
          "outputs_hidden": false
        },
        "nteract": {
          "transient": {
            "deleting": false
          }
        },
        "gather": {
          "logged": 1675180728575
        }
      }
    },
    {
      "cell_type": "code",
      "source": [],
      "outputs": [],
      "execution_count": null,
      "metadata": {
        "jupyter": {
          "source_hidden": false,
          "outputs_hidden": false
        },
        "nteract": {
          "transient": {
            "deleting": false
          }
        }
      }
    },
    {
      "cell_type": "code",
      "source": [],
      "outputs": [],
      "execution_count": null,
      "metadata": {
        "jupyter": {
          "source_hidden": false,
          "outputs_hidden": false
        },
        "nteract": {
          "transient": {
            "deleting": false
          }
        }
      }
    }
  ],
  "metadata": {
    "kernelspec": {
      "name": "python38-azureml",
      "language": "python",
      "display_name": "Python 3.8 - AzureML"
    },
    "language_info": {
      "name": "python",
      "version": "3.8.5",
      "mimetype": "text/x-python",
      "codemirror_mode": {
        "name": "ipython",
        "version": 3
      },
      "pygments_lexer": "ipython3",
      "nbconvert_exporter": "python",
      "file_extension": ".py"
    },
    "microsoft": {
      "host": {
        "AzureML": {
          "notebookHasBeenCompleted": true
        }
      }
    },
    "kernel_info": {
      "name": "python38-azureml"
    },
    "nteract": {
      "version": "nteract-front-end@1.0.0"
    }
  },
  "nbformat": 4,
  "nbformat_minor": 2
}