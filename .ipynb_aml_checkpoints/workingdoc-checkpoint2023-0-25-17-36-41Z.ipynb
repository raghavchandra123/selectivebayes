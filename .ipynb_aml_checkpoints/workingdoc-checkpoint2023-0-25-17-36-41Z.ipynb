{
  "cells": [
    {
      "cell_type": "code",
      "source": [
        "import pandas as pd\r\n",
        "import seaborn as sns\r\n",
        "import rdkit\r\n",
        "import torch\r\n",
        "import vina\r\n",
        "import meeko\r\n",
        "import pexpect\r\n",
        "import pickle\r\n",
        "import numpy as np\r\n",
        "from scipy.stats import norm\r\n",
        "from typing import Optional, Union, List\r\n",
        "from bayes_opt import BayesianOptimization\r\n",
        "from bayes_opt.util import load_logs\r\n",
        "from bayes_opt.domain_reduction import DomainTransformer\r\n",
        "from bayes_opt.logger import JSONLogger\r\n",
        "from bayes_opt.event import Events\r\n",
        "from bayes_opt.target_space import TargetSpace\r\n",
        "import dimorphite_dl\r\n",
        "import sys\r\n",
        "from contextlib import redirect_stdout\r\n",
        "latent_size=56"
      ],
      "outputs": [],
      "execution_count": 23,
      "metadata": {
        "gather": {
          "logged": 1674650588115
        }
      }
    },
    {
      "cell_type": "code",
      "source": [
        "cmd = \"conda run -n jtvae --no-capture-output python sample.py --nsample 3 --vocab data/zinc/vocab.txt --hidden 450 --depth 3 --latent 56 --model molvae/MPNVAE-h450-L56-d3-beta0.005/model.iter-4\"  # launch your python2 script\n",
        "\n",
        "class vaeinterface:\n",
        "    def __init__(self):\n",
        "        self.dim=dimorphite_dl.DimorphiteDL(min_ph=7.4,max_ph=7.4,max_variants=1)\n",
        "        pass\n",
        "    def start(self):\n",
        "        self.p=pexpect.spawn(cmd,timeout=1200,logfile=open('mylog.txt','wb'))\n",
        "    def decode(self,all_vec):\n",
        "        p=self.p\n",
        "        p.expect(\"ready\")\n",
        "        tree_vec = all_vec[:,0:latent_size//2].astype(\"f\")\n",
        "        mol_vec = all_vec[:,latent_size//2:].astype(\"f\")\n",
        "        pickle.dump([tree_vec,mol_vec],open(\"molvec.pk1\",\"wb\"),protocol=2)\n",
        "        p.sendline(\"'go'\")\n",
        "        p.expect(\"~.*~\")\n",
        "        mol=p.after.decode()[1:-1]\n",
        "        return mol\n",
        "        #if mol==\"failed\":\n",
        "        #    return mol\n",
        "        #try:\n",
        "        #    protmol = self.dim.protonate(mol)\n",
        "        #    return protmol[0]\n",
        "        #except:\n",
        "        #    return mol\n",
        "    def debug(self):\n",
        "        p = self.p\n",
        "        p.expect(\"ready\")\n",
        "        p.sendline(\"'go'\")\n",
        "        p.expect(\"~.*~\")\n",
        "        mol=p.after.decode()[1:-1]\n",
        "        print(mol)\n",
        "        protmol = self.dim.protonate(mol)\n",
        "        print(protmol[0])\n",
        "    def encode(self,mol):\n",
        "        p=self.p\n",
        "        p.expect(\"ready\")\n",
        "        p.sendline(\"'enc\"+mol+\"'\")\n",
        "        p.expect(\"done\")\n",
        "        all_vec = pickle.load(open(\"encoded.pk1\",\"rb\"),encoding=\"latin1\")\n",
        "        return all_vec\n",
        "    def reconstruct(self,mol):\n",
        "        p=self.p\n",
        "        all_vec = self.encode(mol)\n",
        "        return self.decode(all_vec)\n",
        "        \n",
        "    def stop(self):\n",
        "        p=self.p\n",
        "        p.sendline(\"'stop'\")\n",
        "\n",
        "def visualise(molecules):\n",
        "    img = rdkit.Chem.Draw.MolsToGridImage([rdkit.Chem.MolFromSmiles(mol) for mol in molecules],subImgSize=(300,300))\n",
        "    return img\n",
        "\n",
        "class vinainterface:\n",
        "    def __init__(self,receptor,center):\n",
        "        v = vina.Vina(sf_name='vinardo', verbosity=0)\n",
        "        v.set_receptor(receptor)\n",
        "        v.compute_vina_maps(center=center, box_size=[30, 30, 30])\n",
        "        self.v=v\n",
        "        self.predicted = {}\n",
        "        self.receptor = receptor\n",
        "        self.center = center\n",
        "        print(\"Vina Initialisation complete\")\n",
        "    def predict(self,molecule,exhaustiveness):\n",
        "        if molecule==\"failed\":\n",
        "            return -5.0,-1\n",
        "        if molecule in self.predicted:\n",
        "            print(\"SEEN\")\n",
        "            return self.predicted[molecule],1\n",
        "        lig = rdkit.Chem.MolFromSmiles(molecule)\n",
        "        protonated_lig = rdkit.Chem.AddHs(lig)\n",
        "        success = rdkit.Chem.AllChem.EmbedMolecule(protonated_lig)\n",
        "        if success==-1:\n",
        "            success=rdkit.Chem.AllChem.EmbedMolecule(protonated_lig, useRandomCoords = True)\n",
        "        if success==-1:\n",
        "            print(\"failed conformer gen\")\n",
        "            return -5.0,-1\n",
        "        v=self.v\n",
        "        meeko_prep = meeko.MoleculePreparation()\n",
        "        meeko_prep.prepare(protonated_lig)\n",
        "        lig_pdbqt = meeko_prep.write_pdbqt_string()\n",
        "        v.set_ligand_from_string(lig_pdbqt)\n",
        "        v.dock(exhaustiveness=exhaustiveness, n_poses=20)\n",
        "        en=np.sum(v.energies(n_poses=1)[0][1:4])\n",
        "        self.predicted[molecule]=en\n",
        "        return en,1\n",
        "    \n",
        "class sminainterface:\n",
        "    def __init__(self,receptor,center):\n",
        "        self.receptor = receptor\n",
        "        self.center = center\n",
        "        self.predicted = {}\n",
        "    def predict(self,molecule,exhaustiveness):\n",
        "        if molecule==\"failed\":\n",
        "            return -5.0\n",
        "        if molecule in self.predicted:\n",
        "            print(\"SEEN\")\n",
        "            return self.predicted[molecule]\n",
        "        center = self.center\n",
        "        receptor = self.receptor\n",
        "        lig = rdkit.Chem.MolFromSmiles(molecule)\n",
        "        rdkit.Chem.MolToMolFile(lig,\"current_lig.mol\")\n",
        "        !Jupyter_Dock/bin/smina -r {receptor} -l {'current_lig.mol'} -o {'mol_out.sdf'} --center_x {center[0]} --center_y {center[1]} --center_z {center[2]} --size_x {30} --size_y {30} --size_z {30} --exhaustiveness {exhaustiveness} --num_modes 1 --scoring vinardo -q\n",
        "        poses=rdkit.Chem.SDMolSupplier('mol_out.sdf')\n",
        "\n",
        "        aff = float(poses[0].GetProp(\"minimizedAffinity\"))\n",
        "        self.predicted[molecule] = aff\n",
        "        return aff\n",
        "\n",
        "class qvinainterface:\n",
        "    def __init__(self,receptor,center):\n",
        "        self.receptor = receptor\n",
        "        self.center = center\n",
        "        self.predicted = {}\n",
        "    def predict(self,molecule,exhaustiveness):\n",
        "        if molecule==\"failed\":\n",
        "            return -5.0\n",
        "        if molecule in self.predicted:\n",
        "            print(\"SEEN\")\n",
        "            return self.predicted[molecule]\n",
        "        center = self.center\n",
        "        receptor = self.receptor\n",
        "        lig = rdkit.Chem.MolFromSmiles(molecule)\n",
        "        protonated_lig = rdkit.Chem.AddHs(lig)\n",
        "        success = rdkit.Chem.AllChem.EmbedMolecule(protonated_lig)\n",
        "        meeko_prep = meeko.MoleculePreparation()\n",
        "        meeko_prep.prepare(protonated_lig)\n",
        "        lig_pdbqt = meeko_prep.write_pdbqt_file(\"current_lig.pdbqt\")\n",
        "        !Jupyter_Dock/bin/qvina2.1 --receptor {receptor} --ligand current_lig.pdbqt --out out.pdbqt --center_x {center[0]} --center_y {center[1]} --center_z {center[2]} --size_x {30} --size_y {30} --size_z {30} --exhaustiveness {exhaustiveness} --num_modes 1\n",
        "        f=open('out.pdbqt')\n",
        "        lines=f.readlines()\n",
        "        aff = float(lines[1].split()[3])\n",
        "        self.predicted[molecule] = aff\n",
        "        return aff\n",
        "\n",
        "\n",
        "knowndrugs = {\"Gilteritinib\":r\"CCc1nc(C(=O)N)c(Nc2ccc(N3CCC(CC3)N4CCN(C)CC4)c(OC)c2)nc1NC5CCOCC5\", \n",
        "              \"Quizartinib\":r\"CC(C)(C)c1cc(no1)NC(=O)Nc2ccc(cc2)c3cn4c5ccc(cc5sc4n3)OCCN6CCOCC6\", \n",
        "              \"Crenolanib\":r\"O(c5cc4ncn(c1nc3c(cc1)cccc3N2CCC(N)CC2)c4cc5)CC6(COC6)C\",\n",
        "              \"Tandutinib\":r\"CC(C)OC1=CC=C(C=C1)NC(=O)N2CCN(CC2)C3=NC=NC4=CC(=C(C=C43)OC)OCCCN5CCCCC5\",\n",
        "              \"Sorafenib\":r\"CNC(=O)c1cc(ccn1)Oc2ccc(cc2)NC(=O)Nc3ccc(c(c3)C(F)(F)F)Cl\",\n",
        "              \"Sunitinib\":r\"CCN(CC)CCNC(=O)c1c(c([nH]c1C)/C=C\\2/c3cc(ccc3NC2=O)F)C\",\n",
        "              \"Lestaurtinib\":r\"C[C@@]12[C@](C[C@@H](O1)n3c4ccccc4c5c3c6n2c7ccccc7c6c8c5C(=O)NC8)(CO)O\",\n",
        "              \"Midostaurin\":r\"C[C@@]12[C@@H]([C@@H](C[C@@H](O1)N3C4=CC=CC=C4C5=C6C(=C7C8=CC=CC=C8N2C7=C53)CNC6=O)N(C)C(=O)C9=CC=CC=C9)OC\",\n",
        "              \"Ponatinib\":r\"Cc1ccc(cc1C#Cc2cnc3n2nccc3)C(=O)Nc4ccc(c(c4)C(F)(F)F)CN5CCN(CC5)C\"\n",
        "              }\n",
        "fps = {x:rdkit.Chem.RDKFingerprint(rdkit.Chem.MolFromSmiles(knowndrugs[x])) for x in knowndrugs}\n",
        "def simsearch(molecule):\n",
        "    if molecule==\"failed\":\n",
        "        return 0,0\n",
        "    molfing = rdkit.Chem.RDKFingerprint(rdkit.Chem.MolFromSmiles(molecule))\n",
        "    highestsim = 0\n",
        "    bestmolec = \"\"\n",
        "    for fp in fps:\n",
        "        currsim = rdkit.DataStructs.FingerprintSimilarity(fps[fp],molfing)\n",
        "        if currsim>highestsim:\n",
        "            highestsim=currsim\n",
        "            bestmolec = fp\n",
        "    return highestsim,bestmolec"
      ],
      "outputs": [],
      "execution_count": 3,
      "metadata": {
        "jupyter": {
          "source_hidden": false,
          "outputs_hidden": false
        },
        "nteract": {
          "transient": {
            "deleting": false
          }
        },
        "gather": {
          "logged": 1674645159126
        }
      }
    },
    {
      "cell_type": "code",
      "source": [
        "class SequentialDomainReductionTransformer(DomainTransformer):\r\n",
        "    \"\"\"\r\n",
        "    A sequential domain reduction transformer bassed on the work by Stander, N. and Craig, K:\r\n",
        "    \"On the robustness of a simple domain reduction scheme for simulation‐based optimization\"\r\n",
        "    \"\"\"\r\n",
        "\r\n",
        "    def __init__(\r\n",
        "        self,\r\n",
        "        gamma_osc: float = 0.7,\r\n",
        "        gamma_pan: float = 1.0,\r\n",
        "        eta: float = 0.9,\r\n",
        "        prob = 0.2\r\n",
        "    ) -> None:\r\n",
        "        self.gamma_osc = gamma_osc\r\n",
        "        self.gamma_pan = gamma_pan\r\n",
        "        self.eta = eta\r\n",
        "        self.prob = prob\r\n",
        "\r\n",
        "    def initialize(self, target_space: TargetSpace) -> None:\r\n",
        "        \"\"\"Initialize all of the parameters\"\"\"\r\n",
        "        self.original_bounds = np.copy(target_space.bounds)\r\n",
        "        self.bounds = [self.original_bounds]\r\n",
        "\r\n",
        "        self.previous_optimal = np.mean(target_space.bounds, axis=1)\r\n",
        "        self.current_optimal = np.mean(target_space.bounds, axis=1)\r\n",
        "        self.r = target_space.bounds[:, 1] - target_space.bounds[:, 0]\r\n",
        "\r\n",
        "        self.previous_d = 2.0 * \\\r\n",
        "            (self.current_optimal - self.previous_optimal) / self.r\r\n",
        "\r\n",
        "        self.current_d = 2.0 * (self.current_optimal -\r\n",
        "                                self.previous_optimal) / self.r\r\n",
        "\r\n",
        "        self.c = self.current_d * self.previous_d\r\n",
        "        self.c_hat = np.sqrt(np.abs(self.c)) * np.sign(self.c)\r\n",
        "\r\n",
        "        self.gamma = 0.5 * (self.gamma_pan * (1.0 + self.c_hat) +\r\n",
        "                            self.gamma_osc * (1.0 - self.c_hat))\r\n",
        "\r\n",
        "        self.contraction_rate = self.eta + \\\r\n",
        "            np.abs(self.current_d) * (self.gamma - self.eta)\r\n",
        "\r\n",
        "        self.r = self.contraction_rate * self.r\r\n",
        "\r\n",
        "    def _update(self, target_space: TargetSpace) -> None:\r\n",
        "\r\n",
        "        # setting the previous\r\n",
        "        self.previous_optimal = self.current_optimal\r\n",
        "        self.previous_d = self.current_d\r\n",
        "\r\n",
        "        self.current_optimal = target_space.params[\r\n",
        "            np.argmax(target_space.target)\r\n",
        "        ]\r\n",
        "\r\n",
        "        self.current_d = 2.0 * (self.current_optimal -\r\n",
        "                                self.previous_optimal) / self.r\r\n",
        "\r\n",
        "        self.c = self.current_d * self.previous_d\r\n",
        "\r\n",
        "        self.c_hat = np.sqrt(np.abs(self.c)) * np.sign(self.c)\r\n",
        "\r\n",
        "        self.gamma = 0.5 * (self.gamma_pan * (1.0 + self.c_hat) +\r\n",
        "                            self.gamma_osc * (1.0 - self.c_hat))\r\n",
        "\r\n",
        "        self.contraction_rate = self.eta + \\\r\n",
        "            np.abs(self.current_d) * (self.gamma - self.eta)\r\n",
        "\r\n",
        "        self.r = self.contraction_rate * self.r\r\n",
        "\r\n",
        "    def _trim(self, new_bounds: np.array, global_bounds: np.array) -> np.array:\r\n",
        "        prob = self.prob\r\n",
        "        #make symmetric interval about current best with area prob\r\n",
        "        #this could be optimised but is good enough for our purpose\r\n",
        "        self.minimum_window = np.repeat(self.current_optimal[:,None],2,axis=1)\r\n",
        "        for i in range(new_bounds.shape[0]):\r\n",
        "            while norm.cdf(self.minimum_window[i,1])-norm.cdf(self.minimum_window[i,0])<prob:\r\n",
        "                if self.minimum_window[i,1]<global_bounds[i,1]:\r\n",
        "                    self.minimum_window[i,1]+=0.05\r\n",
        "                if self.minimum_window[i,0]>global_bounds[i,0]:\r\n",
        "                    self.minimum_window[i,0]-=0.05\r\n",
        "        for i in range(new_bounds.shape[0]):\r\n",
        "            if new_bounds[i,0]>self.minimum_window[i,0]:\r\n",
        "                new_bounds[i,0]=self.minimum_window[i,0]\r\n",
        "            if new_bounds[i,1]<self.minimum_window[i,1]:\r\n",
        "                new_bounds[i,1]=self.minimum_window[i,1]\r\n",
        "            if new_bounds[i,0]<global_bounds[i,0]:\r\n",
        "                new_bounds[i,0]=global_bounds[i,0]\r\n",
        "            if new_bounds[i,1]>global_bounds[i,1]:\r\n",
        "                new_bounds[i,1]=global_bounds[i,1]\r\n",
        "\r\n",
        "        return new_bounds\r\n",
        "\r\n",
        "    def _create_bounds(self, parameters: dict, bounds: np.array) -> dict:\r\n",
        "        return {param: bounds[i, :] for i, param in enumerate(parameters)}\r\n",
        "\r\n",
        "    def transform(self, target_space: TargetSpace) -> dict:\r\n",
        "\r\n",
        "        self._update(target_space)\r\n",
        "\r\n",
        "        new_bounds = np.array(\r\n",
        "            [\r\n",
        "                self.current_optimal - 0.5 * self.r,\r\n",
        "                self.current_optimal + 0.5 * self.r\r\n",
        "            ]\r\n",
        "        ).T\r\n",
        "\r\n",
        "        self._trim(new_bounds, self.original_bounds)\r\n",
        "        self.bounds.append(new_bounds)\r\n",
        "        return self._create_bounds(target_space.keys, new_bounds)"
      ],
      "outputs": [],
      "execution_count": 48,
      "metadata": {
        "jupyter": {
          "source_hidden": false,
          "outputs_hidden": false
        },
        "nteract": {
          "transient": {
            "deleting": false
          }
        },
        "gather": {
          "logged": 1674652259205
        }
      }
    },
    {
      "cell_type": "code",
      "source": [
        "from hide_warnings import hide_warnings\n",
        "\n",
        "beta = 4184/(8.3145*310)\n",
        "pred_list = []\n",
        "\n",
        "@hide_warnings(out=False)\n",
        "def optstart(numiters):\n",
        "    ind=0\n",
        "    print(\"Starting\")\n",
        "    flt3 = vinainterface(\"receptorstruc.pdbqt\",[-28.03685,\t-10.361925,\t-28.9883])\n",
        "    ckit = vinainterface(\"ckit.pdbqt\",[45.93035714,\t97.03574286,\t16.1472])\n",
        "    pdgfra = vinainterface(\"pdgfra.pdbqt\",[17.58837931,\t132.5595172,\t-6.030275862])\n",
        "    vegfr = vinainterface(\"VEGFR.pdbqt\",[25.997,\t28.605,\t17.134])\n",
        "    mk2 = vinainterface(\"MK2.pdbqt\",[47.6395,\t34.809,\t16.708])\n",
        "    jak2 = vinainterface(\"JAK2.pdbqt\",[-31.7445,\t-49.661,\t35.4655])\n",
        "      \n",
        "    def optfunction(**kwargs):\n",
        "        nonlocal ind\n",
        "        ind+=1\n",
        "        mol=vaeint.decode(np.expand_dims(np.fromiter(kwargs.values(),dtype=float),axis=0))\n",
        "        exh = 8\n",
        "        flt3_pred,success = flt3.predict(mol,exh)\n",
        "        if success!=-1:\n",
        "            pdgfra_pred = pdgfra.predict(mol,exh)[0]\n",
        "            ckit_pred = ckit.predict(mol,exh)[0]\n",
        "            vegfr_pred = vegfr.predict(mol,exh)[0]\n",
        "            mk2_pred = mk2.predict(mol,exh)[0]\n",
        "            jak2_pred = jak2.predict(mol,exh)[0]\n",
        "        else:\n",
        "            pdgfra_pred = -5.0\n",
        "            ckit_pred = -5.0\n",
        "            vegfr_pred = -5.0\n",
        "            mk2_pred =-5.0\n",
        "            jak2_pred = -5.0\n",
        "        all_preds = [flt3_pred,pdgfra_pred,ckit_pred,vegfr_pred,mk2_pred,jak2_pred]\n",
        "\n",
        "        anybind=-6.0\n",
        "\n",
        "        prediction = np.exp(-beta*flt3_pred)/(np.exp(-beta*anybind)+np.sum([np.exp(-beta*pr) for pr in all_preds]))\n",
        "        pred_list.append([mol,prediction,all_preds])\n",
        "\n",
        "        sim,molec = simsearch(mol)\n",
        "        print(f\"{ind}: {mol}, Pred: {prediction:.4f}, SimDrug: {molec}, SimVal: {sim:.3f}\")\n",
        "        print(f\"FLT3: {flt3_pred:.2f}, PDGFRA: {pdgfra_pred:.2f}, CKIT: {ckit_pred:.2f}, VEGFR: {vegfr_pred:.2f}, MK2: {mk2_pred:.2f}, JAK2: {jak2_pred:.2f}\")\n",
        "        \n",
        "        return prediction\n",
        "\n",
        "    pbounds = {f\"f{i}\": (-3,3) for i in range(56)}\n",
        "    bounds_transformer = SequentialDomainReductionTransformer(prob=0.3)\n",
        "    optimizer = BayesianOptimization(f=optfunction,pbounds=pbounds,verbose=0,bounds_transformer=bounds_transformer)\n",
        "    logger = JSONLogger(path=\"./testing.json\")\n",
        "    optimizer.subscribe(Events.OPTIMIZATION_STEP, logger)\n",
        "    optimizer.set_gp_params(alpha=0.1)\n",
        "    #load_logs(optimizer, logs=[\"./initial100.json\"])\n",
        "    vaeint=vaeinterface()\n",
        "    vaeint.start()\n",
        "    optimizer.maximize(init_points=0,n_iter=numiters)\n",
        "    vaeint.stop()\n",
        "optstart(200)\n",
        "pickle.dump(pred_list,open(\"500pred_list_minwin1.pk1\",\"wb\"),protocol=2)"
      ],
      "outputs": [
        {
          "output_type": "stream",
          "name": "stdout",
          "text": "Starting\nVina Initialisation complete\nVina Initialisation complete\nVina Initialisation complete\nVina Initialisation complete\nVina Initialisation complete\nVina Initialisation complete\n1: failed, Pred: 0.0903, SimDrug: 0, SimVal: 0.000\nFLT3: -5.00, PDGFRA: -5.00, CKIT: -5.00, VEGFR: -5.00, MK2: -5.00, JAK2: -5.00\n2: CNC(=O)[C@H]1CN(C(=O)c2ccc3c(c2)N(C)C(=O)CN3)[C@@H]1C, Pred: 0.0869, SimDrug: Midostaurin, SimVal: 0.408\nFLT3: -5.35, PDGFRA: -5.24, CKIT: -5.93, VEGFR: -5.82, MK2: -4.90, JAK2: -5.63\n3: N#C[C@]1(N)O[C@@H](N2CCN(C(=O)c3ccccc3-c3nccs3)CC2)c2ccccc21, Pred: 0.1256, SimDrug: Midostaurin, SimVal: 0.547\nFLT3: -6.00, PDGFRA: -5.91, CKIT: -5.84, VEGFR: -5.90, MK2: -4.94, JAK2: -6.73\n4: C[C@H]1CN(C(=O)c2ccccc2C(F)(F)F)[C@@](c2ccccc2)(C2C3CC4CC(C3)CC2C4)[C@H](C)O1, Pred: 0.3711, SimDrug: Midostaurin, SimVal: 0.604\nFLT3: -6.88, PDGFRA: -6.32, CKIT: -6.90, VEGFR: -3.63, MK2: -3.67, JAK2: -3.51\n5: C[C@H]1CCCCN1C(=O)c1cccc2c(-c3ccccn3)nn([C@@]3(C#N)CCCO3)c12, Pred: 0.1390, SimDrug: Midostaurin, SimVal: 0.665\nFLT3: -6.13, PDGFRA: -5.23, CKIT: -6.27, VEGFR: -6.13, MK2: -6.45, JAK2: -6.26\n6: N#C[C@]1(N)C[C@@H](c2ccccc2Br)C[C@](c2ccccn2)(c2cccs2)N1, Pred: 0.4584, SimDrug: Midostaurin, SimVal: 0.597\nFLT3: -8.22, PDGFRA: -6.71, CKIT: -6.93, VEGFR: -6.70, MK2: -5.46, JAK2: -8.12\n7: Cc1cccc([C@@H](Cl)[C@@H]2CN[C@@H]3NC[C@@H]4C=CC=C[C@H]4[C@H]3O2)c1C#N, Pred: 0.3052, SimDrug: Midostaurin, SimVal: 0.476\nFLT3: -6.98, PDGFRA: -6.41, CKIT: -6.87, VEGFR: -6.23, MK2: -5.46, JAK2: -6.53\n8: N#C[C@H](N)c1ccc2c(c1)N[C@@H]1N=CC=C[C@H]1[C@H]2C(=O)[O-], Pred: 0.1192, SimDrug: Midostaurin, SimVal: 0.466\nFLT3: -5.48, PDGFRA: -5.39, CKIT: -5.73, VEGFR: -5.34, MK2: -5.35, JAK2: -5.55\n9: N#Cc1cccc(N2CCCC[C@@]2(c2ccccn2)N2CCCC2=O)c1, Pred: 0.7451, SimDrug: Midostaurin, SimVal: 0.573\nFLT3: -7.08, PDGFRA: -3.14, CKIT: -5.62, VEGFR: -5.04, MK2: -4.60, JAK2: -4.60\n10: N#Cc1sc(N2CCC[C@H]3C=CC=C[C@H]32)nc1C(=O)NC1CC1, Pred: 0.0945, SimDrug: Midostaurin, SimVal: 0.487\nFLT3: -5.35, PDGFRA: -5.27, CKIT: -5.70, VEGFR: -5.65, MK2: -4.53, JAK2: -5.82\n11: O=C(C1=CS2(C=CC=C2)C=N1)N1CCCC[C@H]1c1cccc(F)c1, Pred: 0.1851, SimDrug: Midostaurin, SimVal: 0.418\nFLT3: -5.71, PDGFRA: -5.07, CKIT: -5.33, VEGFR: -5.87, MK2: -5.02, JAK2: -5.00\n12: Cc1nc(NC(=O)[C@H]2CCCN2S(=O)(=O)c2ccccn2)c(-c2ccccc2)s1, Pred: 0.0778, SimDrug: Midostaurin, SimVal: 0.536\nFLT3: -6.79, PDGFRA: -6.35, CKIT: -7.02, VEGFR: -6.99, MK2: -6.18, JAK2: -8.06\n13: CC1(C)OCCN(C(=O)c2ccnc(-n3cncn3)c2)[C@H]1c1ccccc1, Pred: 0.4874, SimDrug: Midostaurin, SimVal: 0.491\nFLT3: -6.85, PDGFRA: -5.77, CKIT: -6.25, VEGFR: -5.75, MK2: -4.15, JAK2: -5.23\n14: O=C(Nc1cccc(C([O-])=S)c1)[C@H]1CCCCN1c1nccs1, Pred: 0.3610, SimDrug: Midostaurin, SimVal: 0.397\nFLT3: -6.60, PDGFRA: -6.27, CKIT: -5.74, VEGFR: -5.62, MK2: -5.21, JAK2: -5.74\n15: N#Cc1cc(N2CCC(c3ccccn3)(N3CCCC3=O)CC2)cc2c1C=CCC2, Pred: 0.8092, SimDrug: Midostaurin, SimVal: 0.514\nFLT3: -9.23, PDGFRA: -7.20, CKIT: -7.55, VEGFR: -7.59, MK2: -6.06, JAK2: -7.41\n16: N#Cc1cccc(NC(=O)[C@@H]2CCO[C@H]3CCO[C@H]32)c1, Pred: 0.3264, SimDrug: Midostaurin, SimVal: 0.335\nFLT3: -6.38, PDGFRA: -5.01, CKIT: -6.12, VEGFR: -5.37, MK2: -5.39, JAK2: -5.79\n17: N#C[C@]1(N)O[C@H]2CCC[C@H]2[C@@H]1C(=O)Nc1ccc2[nH]cnc2c1, Pred: 0.3905, SimDrug: Midostaurin, SimVal: 0.456\nFLT3: -6.40, PDGFRA: -5.34, CKIT: -5.69, VEGFR: -5.54, MK2: -5.01, JAK2: -5.41\n18: O=C(Nc1cccc([C@H]([O-])[C@H]2CCCCN2)c1)[C@@H]1CO[C@H]2C=CC=N[C@H]2O1, Pred: 0.3123, SimDrug: Midostaurin, SimVal: 0.442\nFLT3: -6.97, PDGFRA: -6.06, CKIT: -6.55, VEGFR: -6.06, MK2: -5.80, JAK2: -6.89\n19: N#C[C@@]1(N2CCCCC2)CC[C@@H](c2cccc(N3CCNC3=O)c2)O1, Pred: 0.2390, SimDrug: Midostaurin, SimVal: 0.445\nFLT3: -6.78, PDGFRA: -6.16, CKIT: -6.50, VEGFR: -5.92, MK2: -6.31, JAK2: -6.87\n20: C[C@]1(C(=O)N[C@H]2CCCCO2)CCCN(c2cc(C#N)c3c(c2)OCC3)C1, Pred: 0.4609, SimDrug: Midostaurin, SimVal: 0.430\nFLT3: -7.61, PDGFRA: -5.84, CKIT: -6.22, VEGFR: -6.28, MK2: -5.17, JAK2: -7.47\n21: O=C(Nc1cccc(C(F)(F)F)c1)[C@@H]1CCN[C@H]2NC=C[C@H]21, Pred: 0.4506, SimDrug: Sorafenib, SimVal: 0.337\nFLT3: -7.51, PDGFRA: -6.88, CKIT: -6.89, VEGFR: -6.31, MK2: -5.26, JAK2: -6.64\n22: C[C@@H](C#N)N1CCOC[C@H]1C(=O)N1CCCO[C@@H]2C=CC=C[C@H]21, Pred: 0.0001, SimDrug: Midostaurin, SimVal: 0.369\nFLT3: -0.10, PDGFRA: 0.38, CKIT: -0.19, VEGFR: 0.28, MK2: -0.46, JAK2: 0.39\n23: NC(=O)[C@H]1CCN(C(=O)c2cc3c(o2)CCC=C3)c2ccccc21, Pred: 0.6372, SimDrug: Midostaurin, SimVal: 0.538\nFLT3: -7.81, PDGFRA: -6.32, CKIT: -6.64, VEGFR: -6.05, MK2: -5.45, JAK2: -6.82\n24: C[C@@H](C#N)N1C(=O)CCc2ccc(C[NH+]3CCCCC3)cc21, Pred: 0.3692, SimDrug: Sunitinib, SimVal: 0.375\nFLT3: -6.12, PDGFRA: -4.57, CKIT: -4.94, VEGFR: -5.32, MK2: -5.13, JAK2: -5.12\n25: C[C@@H]1OCCN(C(=O)[C@]2(N3CCSCC3)CCOc3ccccc32)[C@H]1c1ccccc1, Pred: 0.0158, SimDrug: Midostaurin, SimVal: 0.577\nFLT3: -3.79, PDGFRA: -5.14, CKIT: -4.92, VEGFR: -4.61, MK2: -4.79, JAK2: -4.38\n26: N#C[C@@H](F)Oc1cccc(N2CCCCC2=O)c1, Pred: 0.1106, SimDrug: Tandutinib, SimVal: 0.317\nFLT3: -5.38, PDGFRA: -4.72, CKIT: -5.88, VEGFR: -5.00, MK2: -5.20, JAK2: -5.58\n27: C[C@@]1(c2ccccn2)CCCCN1c1ccc(I)c(C#N)c1, Pred: 0.1500, SimDrug: Midostaurin, SimVal: 0.432\nFLT3: -5.74, PDGFRA: -5.43, CKIT: -5.71, VEGFR: -4.80, MK2: -4.25, JAK2: -6.24\n28: CC(C)Oc1cc([C@@]2(N3CCOCC3)CCc3ccccc32)cc(=O)[nH]1, Pred: 0.3037, SimDrug: Midostaurin, SimVal: 0.497\nFLT3: -5.96, PDGFRA: -5.33, CKIT: -5.20, VEGFR: -5.09, MK2: -4.87, JAK2: -4.90\n29: NC(=O)[C@H]1CCCCN1C(=O)c1coc(-c2ccccc2)c1, Pred: 0.0225, SimDrug: Midostaurin, SimVal: 0.391\nFLT3: -6.05, PDGFRA: -6.69, CKIT: -8.03, VEGFR: -6.42, MK2: -6.08, JAK2: -7.57\n30: N#C[C@]1(N)CC[C@@H](n2nccc2C(=O)Oc2ccccn2)C1, Pred: 0.2773, SimDrug: Midostaurin, SimVal: 0.426\nFLT3: -6.15, PDGFRA: -5.26, CKIT: -5.88, VEGFR: -5.51, MK2: -4.79, JAK2: -5.71\n31: N#Cc1ccccc1N1CCC(N)(C(=O)N2CCCCCCC2)CC1, Pred: 0.0000, SimDrug: Gilteritinib, SimVal: 0.327\nFLT3: 0.47, PDGFRA: 0.93, CKIT: 0.95, VEGFR: 1.48, MK2: 0.93, JAK2: 0.76\n32: CC(=O)N1C([C@@H](NC2CC2)c2cccc(F)c2)=C[C@@]23C=CC=C[C@@]12N=CC=N3, Pred: 0.7379, SimDrug: Midostaurin, SimVal: 0.615\nFLT3: -8.21, PDGFRA: -5.84, CKIT: -6.99, VEGFR: -6.40, MK2: -6.03, JAK2: -6.69\n33: O=C1C[C@@H](c2cccc(NC(=O)[C@@H]3COCO3)c2)C/C(=C/c2ccncc2)N1, Pred: 0.4573, SimDrug: Midostaurin, SimVal: 0.388\nFLT3: -7.50, PDGFRA: -6.33, CKIT: -6.45, VEGFR: -6.76, MK2: -6.22, JAK2: -6.85\n34: N#C[C@@]1(N2CCCCC2)C[C@@H](c2cccc(S(=O)(=O)N3CCCCC3)c2)CO1, Pred: 0.3060, SimDrug: Midostaurin, SimVal: 0.448\nFLT3: -7.20, PDGFRA: -6.91, CKIT: -5.86, VEGFR: -6.39, MK2: -5.21, JAK2: -7.25\n35: C[C@@]1(C(=O)N[C@H]2CCOc3ccccc32)CCCCN1c1ccccc1C#N, Pred: 0.3597, SimDrug: Midostaurin, SimVal: 0.502\nFLT3: -7.06, PDGFRA: -5.97, CKIT: -5.61, VEGFR: -6.01, MK2: -5.98, JAK2: -7.05\n36: C[C@@]1([C@@H]2CCCO2)CCCN(c2ccc(C#N)c([SH](=O)=O)c2)C1, Pred: 0.2021, SimDrug: Midostaurin, SimVal: 0.355\nFLT3: -6.13, PDGFRA: -5.31, CKIT: -5.92, VEGFR: -5.77, MK2: -5.34, JAK2: -6.31\n37: N#Cc1cc(N2CCC(N)(C(=O)N3CCCCCCC3)CC2)cc2c1C=CCC2, Pred: 0.0002, SimDrug: Sunitinib, SimVal: 0.381\nFLT3: -0.65, PDGFRA: 0.92, CKIT: -0.55, VEGFR: -0.12, MK2: 1.23, JAK2: -0.80\n38: C[C@@]1([C@H]2Oc3cccnc3C2=O)CCCCN1c1ccc(Br)c(C#N)c1, Pred: 0.1841, SimDrug: Midostaurin, SimVal: 0.582\nFLT3: -5.40, PDGFRA: -4.96, CKIT: -5.02, VEGFR: -4.65, MK2: -3.59, JAK2: -4.89\n39: C[C@@H](C#N)Oc1cccc(N2CCC[C@H]3CCCO[C@@H]32)c1, Pred: 0.1111, SimDrug: Gilteritinib, SimVal: 0.353\nFLT3: -5.45, PDGFRA: -4.84, CKIT: -5.59, VEGFR: -5.20, MK2: -4.88, JAK2: -6.10\n40: N#Cc1ccc(N2CCC[C@@H]3C[C@](C=O)(c4ccccc4)O[C@H]32)cc1F, Pred: 0.2012, SimDrug: Midostaurin, SimVal: 0.505\nFLT3: -6.68, PDGFRA: -6.23, CKIT: -6.86, VEGFR: -6.45, MK2: -6.01, JAK2: -6.52\n41: O=C(Nc1cccc(C(F)F)c1)[C@H]1[C@H]2C=CC=C[C@H]2N[C@@H]2NC=C[C@H]12, Pred: 0.7302, SimDrug: Midostaurin, SimVal: 0.390\nFLT3: -8.07, PDGFRA: -6.47, CKIT: -6.62, VEGFR: -5.58, MK2: -5.74, JAK2: -6.80\n42: C[C@@]1([C@H]2CCOC2=O)CCCCN1c1cccc(C#N)c1, Pred: 0.3365, SimDrug: Midostaurin, SimVal: 0.377\nFLT3: -5.94, PDGFRA: -5.09, CKIT: -4.85, VEGFR: -5.26, MK2: -4.01, JAK2: -4.28\n43: C[C@@H](C#N)N1CCOC[C@H]1C(=O)n1nnc2ncccc21, Pred: 0.0319, SimDrug: Midostaurin, SimVal: 0.459\nFLT3: -4.05, PDGFRA: -3.97, CKIT: -4.46, VEGFR: -3.91, MK2: -4.35, JAK2: -4.29\n44: C[C@@]1(c2ccccn2)C(=O)CCCN1c1cccc(C#N)c1, Pred: 0.6132, SimDrug: Midostaurin, SimVal: 0.488\nFLT3: -6.79, PDGFRA: -4.73, CKIT: -5.75, VEGFR: -4.25, MK2: -4.59, JAK2: -5.28\n45: N#C[C@@]1(F)CCCCN1C(=O)c1cccc(Cn2cccc2)c1, Pred: 0.4428, SimDrug: Midostaurin, SimVal: 0.394\nFLT3: -7.12, PDGFRA: -5.91, CKIT: -6.56, VEGFR: -6.25, MK2: -5.97, JAK2: -5.99\n46: O=C([O-])[C@H]1CCN(C(=O)Cn2cc[nH+]c2)[C@H]2C=CC=C[C@@H]12, Pred: 0.1379, SimDrug: Midostaurin, SimVal: 0.381\nFLT3: -5.24, PDGFRA: -5.25, CKIT: -5.30, VEGFR: -4.30, MK2: -4.33, JAK2: -4.27\n47: N#Cc1ccccc1N1CCCC[C@@]1(Cl)c1ccncc1, Pred: 0.4600, SimDrug: Midostaurin, SimVal: 0.439\nFLT3: -6.59, PDGFRA: -4.13, CKIT: -5.50, VEGFR: -6.12, MK2: -4.64, JAK2: -5.11\n48: C[C@@H](O)c1cccc(=O)n1[C@@]1(C[NH3+])CC[C@H]2C=CC=C[C@H]2O1, Pred: 0.1789, SimDrug: Midostaurin, SimVal: 0.575\nFLT3: -5.27, PDGFRA: -4.49, CKIT: -4.70, VEGFR: -4.36, MK2: -3.94, JAK2: -4.57\n49: N#C[C@@H]([C@@H]1Oc2ccccc2C1=O)N1CCCCC1, Pred: 0.3806, SimDrug: Midostaurin, SimVal: 0.390\nFLT3: -6.19, PDGFRA: -4.56, CKIT: -5.12, VEGFR: -5.09, MK2: -4.98, JAK2: -5.54\n50: C[C@@H](C#N)N1CCc2ccc(C(=O)NC3CCCC3)cc21, Pred: 0.3035, SimDrug: Sunitinib, SimVal: 0.369\nFLT3: -6.60, PDGFRA: -5.48, CKIT: -6.39, VEGFR: -5.68, MK2: -5.15, JAK2: -6.40\n51: C[C@H]1[C@@H](C)OCCN1C(=O)C1(Nc2cccc3c2C=CCC3)CCCC1, Pred: 0.1348, SimDrug: Midostaurin, SimVal: 0.458\nFLT3: -7.47, PDGFRA: -6.00, CKIT: -5.85, VEGFR: -7.10, MK2: -6.65, JAK2: -8.50\n52: C[C@@]1(c2[nH]c3c([nH+]2)C=CCN3)Oc2ccc(NC(=O)[C@@H]3CCNc4ccccc43)cc2O1, Pred: 0.3113, SimDrug: Midostaurin, SimVal: 0.533\nFLT3: -7.97, PDGFRA: -7.04, CKIT: -7.90, VEGFR: -7.38, MK2: -6.21, JAK2: -7.67\n53: CC(=O)c1cc(N2CC[C@H]3CC(=O)O[C@@H]3C2)ccc1C#N, Pred: 0.3887, SimDrug: Midostaurin, SimVal: 0.371\nFLT3: -6.54, PDGFRA: -4.76, CKIT: -6.01, VEGFR: -5.20, MK2: -4.41, JAK2: -6.16\n54: N#CC=C1CCN(c2cccc(C(=O)N3CCCCC3)c2)CC1, Pred: 0.0767, SimDrug: Ponatinib, SimVal: 0.329\nFLT3: -5.80, PDGFRA: -5.20, CKIT: -6.85, VEGFR: -6.23, MK2: -5.30, JAK2: -6.30\n55: O=C(c1cccc(N2CCCC[C@@H]2[NH+]2CCC3=CC=CC[C@H]32)c1)N1CCCCC1, Pred: 0.0598, SimDrug: Midostaurin, SimVal: 0.470\nFLT3: -6.51, PDGFRA: -6.01, CKIT: -8.00, VEGFR: -6.11, MK2: -6.80, JAK2: -6.71\n56: CC(=O)Nc1cc(N2CCCC[C@@]2(C)C[NH+]2CCCCC2)ccc1C#N, Pred: 0.1792, SimDrug: Gilteritinib, SimVal: 0.362\nFLT3: -6.04, PDGFRA: -5.17, CKIT: -6.27, VEGFR: -5.46, MK2: -5.14, JAK2: -6.22\n57: C[C@@H](C#N)Oc1ccccc1C1CCN(C(=O)c2ccccn2)CC1, Pred: 0.0705, SimDrug: Sorafenib, SimVal: 0.371\nFLT3: -5.95, PDGFRA: -5.85, CKIT: -5.51, VEGFR: -6.75, MK2: -5.91, JAK2: -7.08\n58: CC(=O)c1cc(NC(=O)C2CC2)cc(N2CCC[C@@]3(C=c4ccccc4=[NH+]3)C2)c1, Pred: 0.1975, SimDrug: Midostaurin, SimVal: 0.458\nFLT3: -7.45, PDGFRA: -7.13, CKIT: -7.57, VEGFR: -6.66, MK2: -6.93, JAK2: -7.68\n59: C[C@H](C#N)N1C(=O)CCc2ccc(C(=O)N[C@H]3CCCCO3)cc21, Pred: 0.1653, SimDrug: Midostaurin, SimVal: 0.443\nFLT3: -5.52, PDGFRA: -4.37, CKIT: -5.07, VEGFR: -5.33, MK2: -4.69, JAK2: -5.67\n60: N#C[C@]1(N2CCCCC2)CC[C@@H](c2cccc(-n3cccc3)c2)C1, Pred: 0.0581, SimDrug: Midostaurin, SimVal: 0.329\nFLT3: -6.53, PDGFRA: -6.67, CKIT: -7.63, VEGFR: -7.19, MK2: -6.58, JAK2: -7.47\n61: N#Cc1ccc(N2CCCC[C@@]2(Cl)c2ccccn2)cc1F, Pred: 0.6403, SimDrug: Midostaurin, SimVal: 0.494\nFLT3: -7.31, PDGFRA: -5.36, CKIT: -6.00, VEGFR: -6.00, MK2: -5.42, JAK2: -5.98\n62: CC(=O)N1CC[C@H](C(=O)N2CCO[C@@H]3CCCC[C@H]32)c2ccccc21, Pred: 0.2468, SimDrug: Midostaurin, SimVal: 0.493\nFLT3: -6.20, PDGFRA: -5.79, CKIT: -5.74, VEGFR: -5.60, MK2: -5.09, JAK2: -6.07\n63: N#C[C@@]1(N2CCOCC2)CC[C@@H](Nc2ncnc3ccccc23)C1, Pred: 0.4410, SimDrug: Tandutinib, SimVal: 0.462\nFLT3: -6.70, PDGFRA: -5.57, CKIT: -6.02, VEGFR: -5.49, MK2: -5.37, JAK2: -5.69\n64: C[C@@H](C#N)N1C(=O)C[C@@H]2C([C@]3(N)CCN[C@@H]4N=CC=C[C@H]43)=CC=C[C@H]21, Pred: 0.2396, SimDrug: Midostaurin, SimVal: 0.453\nFLT3: -5.79, PDGFRA: -4.57, CKIT: -5.60, VEGFR: -4.77, MK2: -4.42, JAK2: -5.45\n65: N#C[C@@H](N)c1cccc(N2CC[C@H]3CCO[C@@H]3C2=O)c1, Pred: 0.4922, SimDrug: Midostaurin, SimVal: 0.383\nFLT3: -6.82, PDGFRA: -5.34, CKIT: -6.02, VEGFR: -5.18, MK2: -5.61, JAK2: -5.83\n66: O=C(Nc1cccc(-c2cnc(Cl)s2)c1)[C@@H]1CCO[C@H]2CCC[C@H]21, Pred: 0.1224, SimDrug: Midostaurin, SimVal: 0.368\nFLT3: -6.21, PDGFRA: -5.69, CKIT: -6.76, VEGFR: -5.62, MK2: -5.28, JAK2: -6.89\n67: C[C@@]1(C(=O)N2CCCCCCC2)CCCCN1c1ccccc1C#N, Pred: 0.0000, SimDrug: Gilteritinib, SimVal: 0.405\nFLT3: 2.33, PDGFRA: 1.27, CKIT: 0.85, VEGFR: 1.94, MK2: 2.34, JAK2: 0.21\n68: N#Cc1ccccc1N1CCCC[C@@]1(N[C@H]1CCCCO1)C(=O)[O-], Pred: 0.0717, SimDrug: Midostaurin, SimVal: 0.466\nFLT3: -4.72, PDGFRA: -4.83, CKIT: -4.33, VEGFR: -4.14, MK2: -5.19, JAK2: -4.45\n69: C[C@@H]1OCCN(C(=O)[C@]2(N3CCSCC3)CCO[C@@H]3C=CC=C[C@H]32)[C@H]1c1cccc(F)c1, Pred: 0.0133, SimDrug: Midostaurin, SimVal: 0.584\nFLT3: -3.44, PDGFRA: -3.28, CKIT: -3.68, VEGFR: -4.25, MK2: -4.11, JAK2: -3.57\n70: C[C@@H](C#N)N1C(=O)CCc2ccc(Cn3cnnn3)cc21, Pred: 0.1993, SimDrug: Midostaurin, SimVal: 0.383\nFLT3: -5.43, PDGFRA: -4.42, CKIT: -4.89, VEGFR: -3.96, MK2: -3.96, JAK2: -5.22\n71: CO[C@@H]1C[C@H]2[C@H](CCCN2C(=O)c2ccc(C#N)c(N)c2)O1, Pred: 0.3361, SimDrug: Midostaurin, SimVal: 0.481\nFLT3: -6.42, PDGFRA: -5.63, CKIT: -6.04, VEGFR: -5.10, MK2: -4.34, JAK2: -6.00\n72: N#C[C@@H](Nc1ccc2c(c1)OCC2)[C@@H]1CC(=O)NC2=[NH+]C3=CC=CCC3=C21, Pred: 0.3402, SimDrug: Midostaurin, SimVal: 0.564\nFLT3: -7.38, PDGFRA: -6.66, CKIT: -7.08, VEGFR: -6.45, MK2: -6.42, JAK2: -6.94\n73: O=C(Nc1ccc2c(c1)N=CC[C@H]2C(F)(F)F)[C@@H]1CCNc2ccccc21, Pred: 0.3147, SimDrug: Sunitinib, SimVal: 0.410\nFLT3: -7.43, PDGFRA: -6.03, CKIT: -6.92, VEGFR: -6.29, MK2: -6.08, JAK2: -7.58\n74: CC(=O)N1CC[C@H](C(=O)N2CCOc3ccccc32)C2=c3ccccc3=[NH+][C@H]21, Pred: 0.4056, SimDrug: Midostaurin, SimVal: 0.557\nFLT3: -7.71, PDGFRA: -6.74, CKIT: -7.18, VEGFR: -7.14, MK2: -5.78, JAK2: -7.05\n75: C[C@H](C#N)N1CCO[C@@H](C2=CCOc3ccccc32)C1, Pred: 0.4856, SimDrug: Midostaurin, SimVal: 0.374\nFLT3: -6.80, PDGFRA: -4.59, CKIT: -6.43, VEGFR: -4.46, MK2: -4.92, JAK2: -5.60\n76: N#C[C@@H]([C@@H]1Cc2ccccc2O1)N1CCCCC1, Pred: 0.2004, SimDrug: Quizartinib, SimVal: 0.318\nFLT3: -5.68, PDGFRA: -4.52, CKIT: -5.56, VEGFR: -4.85, MK2: -4.26, JAK2: -5.67\n77: C[C@@](O)(C(=O)N1CC[C@H]2C=CC=N[C@@H]21)c1ncnn1-c1ccccc1, Pred: 0.2113, SimDrug: Midostaurin, SimVal: 0.509\nFLT3: -6.30, PDGFRA: -4.33, CKIT: -5.35, VEGFR: -6.14, MK2: -5.85, JAK2: -6.60\n78: CC1([C@@]2(N)OC(=O)[C@H]3C=CC=CN32)CCN(c2ccccc2C#N)CC1, Pred: 0.3357, SimDrug: Midostaurin, SimVal: 0.499\nFLT3: -6.46, PDGFRA: -5.11, CKIT: -5.84, VEGFR: -5.14, MK2: -4.46, JAK2: -6.38\n79: C[C@H](C#N)Oc1cccc([C@H]2CCCCN2C(=O)[C@H]2CCCO2)c1, Pred: 0.3052, SimDrug: Midostaurin, SimVal: 0.400\nFLT3: -6.54, PDGFRA: -4.84, CKIT: -5.67, VEGFR: -5.32, MK2: -5.78, JAK2: -6.60\n80: N#C[C@@H]([C@H]1CCCO1)N1CCCCC1=O, Pred: 0.0814, SimDrug: Midostaurin, SimVal: 0.255\nFLT3: -4.65, PDGFRA: -3.76, CKIT: -4.45, VEGFR: -4.29, MK2: -3.72, JAK2: -4.38\n81: C[C@H](C#N)N1C(=O)CCC[C@H]1c1ccccc1F, Pred: 0.0577, SimDrug: Midostaurin, SimVal: 0.347\nFLT3: -4.73, PDGFRA: -4.40, CKIT: -5.12, VEGFR: -5.51, MK2: -5.01, JAK2: -4.69\n82: N#C[C@]1(N)CCC[C@H]1n1nncc1C(=O)c1ccccc1, Pred: 0.1972, SimDrug: Midostaurin, SimVal: 0.450\nFLT3: -6.45, PDGFRA: -5.39, CKIT: -6.37, VEGFR: -6.10, MK2: -5.88, JAK2: -6.74\n83: O=C(Nc1cccc(C(F)F)c1)[C@@H]1CCO[C@H]2OCO[C@H]21, Pred: 0.4612, SimDrug: Midostaurin, SimVal: 0.336\nFLT3: -7.20, PDGFRA: -6.43, CKIT: -6.52, VEGFR: -5.70, MK2: -6.03, JAK2: -6.10\n84: N#Cc1ccc(N2CCC[C@@](O)([C@H]3CCC(=O)O3)C2)cc1F, Pred: 0.5770, SimDrug: Midostaurin, SimVal: 0.385\nFLT3: -7.20, PDGFRA: -4.66, CKIT: -5.73, VEGFR: -6.17, MK2: -5.15, JAK2: -6.38\n85: C[C@@H](C#N)N1CC(=O)O[C@@H]2C=CC(N3CCC[C@@]4(C=CC=CC4)C3)=C[C@H]21, Pred: 0.0726, SimDrug: Midostaurin, SimVal: 0.430\nFLT3: -5.46, PDGFRA: -5.48, CKIT: -6.38, VEGFR: -5.57, MK2: -4.53, JAK2: -6.22\n86: C[C@@]1(Cn2cccc2)CCCCN1c1ccc(C#N)c(F)c1, Pred: 0.4661, SimDrug: Gilteritinib, SimVal: 0.357\nFLT3: -6.28, PDGFRA: -4.00, CKIT: -5.30, VEGFR: -4.40, MK2: -4.41, JAK2: -5.21\n87: C[C@@H](C#N)N1CCO[C@@H](c2nc3ccccc3s2)C1, Pred: 0.0830, SimDrug: Quizartinib, SimVal: 0.366\nFLT3: -4.94, PDGFRA: -4.28, CKIT: -5.49, VEGFR: -4.47, MK2: -3.97, JAK2: -5.37\n88: CC1([C@H]2CCOC2=O)CCN(c2ccccc2C#N)CC1, Pred: 0.3645, SimDrug: Gilteritinib, SimVal: 0.301\nFLT3: -5.99, PDGFRA: -4.29, CKIT: -5.06, VEGFR: -4.34, MK2: -4.57, JAK2: -5.18\n89: N#Cc1ccc(C(=O)N[C@@H]2CCCCO2)cc1N1CCC[C@H]2OCC[C@H]21, Pred: 0.0838, SimDrug: Midostaurin, SimVal: 0.477\nFLT3: -5.21, PDGFRA: -5.13, CKIT: -5.88, VEGFR: -5.34, MK2: -5.38, JAK2: -5.21\n90: N#Cc1cccc(N2CCC[C@H]3OCC(=O)[C@H]32)c1, Pred: 0.4384, SimDrug: Midostaurin, SimVal: 0.399\nFLT3: -6.17, PDGFRA: -4.40, CKIT: -4.49, VEGFR: -5.12, MK2: -4.50, JAK2: -4.99\n91: N#C[C@H](c1ccccc1)N1CCC[C@H]2C(=O)CO[C@H]21, Pred: 0.0714, SimDrug: Midostaurin, SimVal: 0.390\nFLT3: -4.76, PDGFRA: -4.52, CKIT: -5.22, VEGFR: -4.08, MK2: -4.48, JAK2: -5.10\n92: O=C(c1ccccc1)N1CCC([C@H]2Cc3cccc(Cl)c3O2)CC1, Pred: 0.5183, SimDrug: Midostaurin, SimVal: 0.390\nFLT3: -7.77, PDGFRA: -6.01, CKIT: -6.90, VEGFR: -6.56, MK2: -5.44, JAK2: -7.21\n93: N#C[C@@]1(N)CCCCN1C(=O)[C@H]1CCOc2ccccc21, Pred: 0.2115, SimDrug: Midostaurin, SimVal: 0.417\nFLT3: -6.19, PDGFRA: -5.23, CKIT: -6.25, VEGFR: -6.35, MK2: -4.47, JAK2: -5.50\n94: N#C[C@@]1(N2N=CC=C[C@H]2S(=O)(=O)C(F)F)CCCO1, Pred: 0.0868, SimDrug: Midostaurin, SimVal: 0.461\nFLT3: -4.70, PDGFRA: -4.07, CKIT: -4.29, VEGFR: -4.32, MK2: -3.59, JAK2: -4.53\n95: C[C@H](C#N)N1C(=O)CCc2ccc(CS[C@@]3(F)CCCO3)cc21, Pred: 0.2676, SimDrug: Midostaurin, SimVal: 0.401\nFLT3: -6.24, PDGFRA: -4.82, CKIT: -6.48, VEGFR: -5.06, MK2: -4.76, JAK2: -5.35\n96: N#Cc1ccccc1N1CCC(c2ccccn2)([N+]2=CCCC2)CC1, Pred: 0.2783, SimDrug: Midostaurin, SimVal: 0.477\nFLT3: -6.39, PDGFRA: -5.69, CKIT: -5.93, VEGFR: -5.75, MK2: -5.56, JAK2: -6.15\n97: C[C@@H](Oc1cccc(N2CCCCC2=O)c1)c1nccs1, Pred: 0.1561, SimDrug: Tandutinib, SimVal: 0.344\nFLT3: -5.72, PDGFRA: -5.09, CKIT: -6.03, VEGFR: -5.07, MK2: -5.22, JAK2: -5.76\n98: N#Cc1cccc(N2CCC(O)(c3cc(=O)oc4ccccc34)CC2)c1, Pred: 0.2956, SimDrug: Midostaurin, SimVal: 0.410\nFLT3: -6.79, PDGFRA: -5.54, CKIT: -6.54, VEGFR: -5.27, MK2: -4.94, JAK2: -6.88\n99: O[C@@H](c1cccc(N2CC=CC=C2Br)c1)C(F)F, Pred: 0.4614, SimDrug: Sunitinib, SimVal: 0.294\nFLT3: -6.76, PDGFRA: -5.24, CKIT: -5.84, VEGFR: -5.67, MK2: -5.38, JAK2: -5.98\n100: N#Cc1cccc(N2CC[C@@H]3OC(=O)C[C@H]3C2)c1, Pred: 0.2440, SimDrug: Gilteritinib, SimVal: 0.316\nFLT3: -6.12, PDGFRA: -5.48, CKIT: -6.29, VEGFR: -5.07, MK2: -4.73, JAK2: -5.46\n101: N#C[C@H]1CCCN(C(=O)c2cccc(N3CCCCC3(S)S)c2)C1, Pred: 0.3259, SimDrug: Midostaurin, SimVal: 0.365\nFLT3: -5.98, PDGFRA: -5.04, CKIT: -5.00, VEGFR: -4.98, MK2: -5.01, JAK2: -5.06\nSEEN\nSEEN\nSEEN\nSEEN\nSEEN\nSEEN\n102: O=C(Nc1cccc(C(F)(F)F)c1)[C@@H]1CCN[C@H]2NC=C[C@H]21, Pred: 0.4506, SimDrug: Sorafenib, SimVal: 0.337\nFLT3: -7.51, PDGFRA: -6.88, CKIT: -6.89, VEGFR: -6.31, MK2: -5.26, JAK2: -6.64\n103: N#Cc1ccc(NC(=O)[C@H]2CCNc3ncccc32)cc1O, Pred: 0.2779, SimDrug: Sunitinib, SimVal: 0.401\nFLT3: -6.29, PDGFRA: -5.46, CKIT: -6.28, VEGFR: -5.55, MK2: -4.99, JAK2: -5.57\n104: N#C[C@@]1(Nc2ccccc2F)CCCCN1C(=O)C1=c2ccccc2=NCC1, Pred: 0.7158, SimDrug: Midostaurin, SimVal: 0.493\nFLT3: -8.63, PDGFRA: -7.77, CKIT: -6.79, VEGFR: -6.36, MK2: -6.06, JAK2: -6.69\n105: C[C@@H](C#N)N1CCO[C@@H](C(=O)N2CCCOCC2)C1, Pred: 0.0000, SimDrug: Midostaurin, SimVal: 0.210\nFLT3: 1.44, PDGFRA: 1.83, CKIT: 0.91, VEGFR: 1.85, MK2: 1.86, JAK2: 1.51\n106: C[C@@H](Oc1cccc(N2CCCC(=O)[C@@H]2C(=O)[O-])c1)c1cc(=O)[nH]cn1, Pred: 0.2040, SimDrug: Gilteritinib, SimVal: 0.432\nFLT3: -6.61, PDGFRA: -5.79, CKIT: -6.74, VEGFR: -5.65, MK2: -5.99, JAK2: -6.85\n107: C[C@@H](Oc1cccc(N2CCCCC2=O)c1)c1nc2c(s1)CCC2, Pred: 0.1608, SimDrug: Gilteritinib, SimVal: 0.418\nFLT3: -6.43, PDGFRA: -5.97, CKIT: -6.56, VEGFR: -5.81, MK2: -6.74, JAK2: -6.45\n108: CC(C)(Oc1ccccc1)[C@H]1CCCCN1C(=O)c1csc2c1[C@@H](Br)CN2, Pred: 0.2736, SimDrug: Midostaurin, SimVal: 0.556\nFLT3: -6.07, PDGFRA: -4.96, CKIT: -5.76, VEGFR: -4.62, MK2: -5.76, JAK2: -5.33\n109: O=C(c1csc2c1[C@H](Br)CN2)N1CCC[C@@H]([C@@H](O)c2ccccc2)C1, Pred: 0.1582, SimDrug: Midostaurin, SimVal: 0.515\nFLT3: -6.78, PDGFRA: -6.30, CKIT: -7.16, VEGFR: -6.61, MK2: -6.28, JAK2: -7.02\n110: C[C@@]1(C#N)CCCCN1c1cccc(C(=O)N2CCCCC2)c1, Pred: 0.1349, SimDrug: Midostaurin, SimVal: 0.348\nFLT3: -5.42, PDGFRA: -5.05, CKIT: -5.60, VEGFR: -4.80, MK2: -4.45, JAK2: -5.62\n111: N#C[C@@H](c1ccc2c(c1)NCC2)N1CCCCC1=O, Pred: 0.2953, SimDrug: Sunitinib, SimVal: 0.353\nFLT3: -6.25, PDGFRA: -5.52, CKIT: -6.12, VEGFR: -5.07, MK2: -4.87, JAK2: -5.62\n112: N#C[C@@H](N)c1ccccc1Br, Pred: 0.2571, SimDrug: Ponatinib, SimVal: 0.144\nFLT3: -5.57, PDGFRA: -4.23, CKIT: -4.91, VEGFR: -4.17, MK2: -4.18, JAK2: -4.59\n113: CC(C)(Oc1ccccc1F)c1nc(NC(=O)[C@H]2CCNC2=O)cs1, Pred: 0.2776, SimDrug: Midostaurin, SimVal: 0.410\nFLT3: -6.83, PDGFRA: -5.50, CKIT: -6.89, VEGFR: -5.68, MK2: -5.47, JAK2: -6.74\nSEEN\nSEEN\nSEEN\nSEEN\nSEEN\nSEEN\n114: C[C@@H](C#N)N1CCc2ccc(C(=O)NC3CCCC3)cc21, Pred: 0.3035, SimDrug: Sunitinib, SimVal: 0.369\nFLT3: -6.60, PDGFRA: -5.48, CKIT: -6.39, VEGFR: -5.68, MK2: -5.15, JAK2: -6.40\n115: NC(=O)c1cccc(NC(=O)[C@H]2CC(c3ccccc3F)=NC3=C2CCC3)c1, Pred: 0.3704, SimDrug: Midostaurin, SimVal: 0.487\nFLT3: -8.44, PDGFRA: -7.49, CKIT: -8.33, VEGFR: -7.05, MK2: -6.78, JAK2: -7.95\n116: N[C@@H](c1ccccc1)c1ccnc2c1O[C@H](F)CC2, Pred: 0.7397, SimDrug: Midostaurin, SimVal: 0.388\nFLT3: -7.70, PDGFRA: -5.36, CKIT: -6.43, VEGFR: -5.99, MK2: -5.05, JAK2: -6.02\n117: N#C[C@]1(N)CC[C@@H](N2CC(c3ccccn3)=CC2=O)C1, Pred: 0.2216, SimDrug: Sunitinib, SimVal: 0.377\nFLT3: -5.99, PDGFRA: -5.41, CKIT: -5.84, VEGFR: -4.89, MK2: -5.48, JAK2: -5.81\n118: N#C[C@@H](N)c1cccc(N2CCCCC2=O)c1, Pred: 0.3014, SimDrug: Tandutinib, SimVal: 0.277\nFLT3: -6.07, PDGFRA: -4.78, CKIT: -5.43, VEGFR: -5.23, MK2: -5.07, JAK2: -5.63\n119: C[C@@H](C#N)N1CCC(=O)[C@@H]2C=CC=C(F)[C@H]21, Pred: 0.0846, SimDrug: Midostaurin, SimVal: 0.332\nFLT3: -4.74, PDGFRA: -4.36, CKIT: -4.74, VEGFR: -4.50, MK2: -3.74, JAK2: -4.55\n120: C[C@@]1([C@H]2C=CC=CC2=O)C[C@@H]2CCO[C@@H]2CN1c1cccc(C#N)c1, Pred: 0.7613, SimDrug: Midostaurin, SimVal: 0.472\nFLT3: -7.45, PDGFRA: -5.06, CKIT: -5.81, VEGFR: -5.71, MK2: -4.17, JAK2: -5.75\nSEEN\nSEEN\nSEEN\nSEEN\nSEEN\nSEEN\n121: C[C@@]1([C@H]2CCOC2=O)CCCCN1c1cccc(C#N)c1, Pred: 0.3365, SimDrug: Midostaurin, SimVal: 0.377\nFLT3: -5.94, PDGFRA: -5.09, CKIT: -4.85, VEGFR: -5.26, MK2: -4.01, JAK2: -4.28\n122: N#C[C@]1(N)CCC[C@H]1n1nccc1C=O, Pred: 0.0845, SimDrug: Midostaurin, SimVal: 0.352\nFLT3: -4.71, PDGFRA: -4.25, CKIT: -4.67, VEGFR: -4.21, MK2: -4.29, JAK2: -4.00\n123: C[C@H](O)c1ccn([C@@]2(c3ccncc3)CCC(=O)N2)c(=O)c1, Pred: 0.1641, SimDrug: Midostaurin, SimVal: 0.498\nFLT3: -5.64, PDGFRA: -5.52, CKIT: -4.90, VEGFR: -5.53, MK2: -5.34, JAK2: -5.43\n124: O=C(Nc1ccc2c(c1)CCC[C@H]2S(=O)(=O)[C@H]1CCCO1)[C@@H]1CCCCN1, Pred: 0.4502, SimDrug: Midostaurin, SimVal: 0.465\nFLT3: -7.18, PDGFRA: -6.36, CKIT: -6.06, VEGFR: -5.46, MK2: -5.37, JAK2: -6.79\n125: CC1([C@H]2OCC=CC2=O)CCN(c2cccc(C#N)c2)CC1, Pred: 0.1142, SimDrug: Gilteritinib, SimVal: 0.327\nFLT3: -5.69, PDGFRA: -4.81, CKIT: -6.52, VEGFR: -5.08, MK2: -3.86, JAK2: -5.96\n126: N#C[C@@]1(Nc2ccccc2F)CCCCN1C(=O)c1ccco1, Pred: 0.0920, SimDrug: Midostaurin, SimVal: 0.450\nFLT3: -5.65, PDGFRA: -5.48, CKIT: -5.95, VEGFR: -5.40, MK2: -5.14, JAK2: -6.60\n127: C[C@H](C#N)N1C[C@@H](C(=O)Nc2ccnc3ccccc23)O[C@H]2CCC[C@@H]21, Pred: 0.4129, SimDrug: Tandutinib, SimVal: 0.410\nFLT3: -6.79, PDGFRA: -5.64, CKIT: -4.97, VEGFR: -4.69, MK2: -5.18, JAK2: -6.67\n128: C[C@]1(O)N(C(=O)c2ccncc2)CCC[C@@]1(N)c1cccc(F)c1, Pred: 0.3156, SimDrug: Midostaurin, SimVal: 0.534\nFLT3: -6.91, PDGFRA: -5.87, CKIT: -6.93, VEGFR: -5.69, MK2: -4.99, JAK2: -6.53\nSEEN\nSEEN\nSEEN\nSEEN\nSEEN\nSEEN\n129: N#C[C@@H](N)c1cccc(N2CCCCC2=O)c1, Pred: 0.3014, SimDrug: Tandutinib, SimVal: 0.277\nFLT3: -6.07, PDGFRA: -4.78, CKIT: -5.43, VEGFR: -5.23, MK2: -5.07, JAK2: -5.63\n130: CC(=O)N1CC[C@H](c2ccccc2F)[C@H]2S[C@@H](C(=O)Nc3ccccn3)N=C21, Pred: 0.3701, SimDrug: Midostaurin, SimVal: 0.560\nFLT3: -7.19, PDGFRA: -6.10, CKIT: -6.17, VEGFR: -6.13, MK2: -5.69, JAK2: -7.15\n131: O=C(NC1=CC=C[C@H]2N[C@@H]3CCC[C@@H]3[C@@H](CO)[C@H]12)c1nccs1, Pred: 0.3911, SimDrug: Midostaurin, SimVal: 0.410\nFLT3: -6.69, PDGFRA: -5.26, CKIT: -6.25, VEGFR: -5.57, MK2: -5.77, JAK2: -5.85\n132: N#C[C@]1(N)CC[C@@H](c2cccc(-n3cccc3)c2)C1, Pred: 0.2436, SimDrug: Midostaurin, SimVal: 0.269\nFLT3: -6.94, PDGFRA: -5.79, CKIT: -7.17, VEGFR: -6.22, MK2: -6.08, JAK2: -6.74\n133: Cc1ccc(C#N)cc1N, Pred: 0.1787, SimDrug: Sorafenib, SimVal: 0.147\nFLT3: -5.38, PDGFRA: -4.72, CKIT: -5.12, VEGFR: -4.77, MK2: -4.07, JAK2: -4.80\nfailed conformer gen\n134: C[C@@H](C#N)N1CCO[C@@H]([C@@]23C=CC=C[C@H]2N=CS3)C1, Pred: 0.0903, SimDrug: Midostaurin, SimVal: 0.456\nFLT3: -5.00, PDGFRA: -5.00, CKIT: -5.00, VEGFR: -5.00, MK2: -5.00, JAK2: -5.00\n135: C[C@@]1(c2ccccc2)CCCCN1C(=O)c1cc(C#N)nc(N2CCCC2)c1, Pred: 0.7275, SimDrug: Midostaurin, SimVal: 0.497\nFLT3: -8.74, PDGFRA: -6.08, CKIT: -7.75, VEGFR: -4.90, MK2: -4.39, JAK2: -7.55\n136: N#C[C@]1(N2CCCCC2=O)CC[C@@H](n2nccc2-c2ccccn2)C1, Pred: 0.0751, SimDrug: Midostaurin, SimVal: 0.478\nFLT3: -5.65, PDGFRA: -5.68, CKIT: -5.75, VEGFR: -5.02, MK2: -6.02, JAK2: -6.76\n137: CC1(C(=O)N[C@H]2CCCCO2)CCN(c2cc(O)cc(C#N)c2)CC1, Pred: 0.3778, SimDrug: Gilteritinib, SimVal: 0.343\nFLT3: -7.09, PDGFRA: -5.37, CKIT: -6.64, VEGFR: -5.98, MK2: -5.46, JAK2: -6.86\n138: N#C[C@@H](N)c1ccccc1F, Pred: 0.2674, SimDrug: Sunitinib, SimVal: 0.150\nFLT3: -5.67, PDGFRA: -4.47, CKIT: -5.32, VEGFR: -4.16, MK2: -4.32, JAK2: -4.41\n139: N#C[C@@H](N)c1cccc(N2CCCC2=O)c1, Pred: 0.3398, SimDrug: Sorafenib, SimVal: 0.265\nFLT3: -6.15, PDGFRA: -4.53, CKIT: -5.55, VEGFR: -5.14, MK2: -5.18, JAK2: -5.43\n140: C[C@@H](C#N)n1ccc2ccccc21, Pred: 0.3986, SimDrug: Lestaurtinib, SimVal: 0.214\nFLT3: -6.16, PDGFRA: -4.07, CKIT: -5.41, VEGFR: -4.53, MK2: -4.31, JAK2: -5.38\n141: O=C(Nc1cccc(C(F)F)c1)[C@@H]1CCO[C@H]2CCCC[C@H]21, Pred: 0.4133, SimDrug: Sorafenib, SimVal: 0.316\nFLT3: -7.53, PDGFRA: -6.15, CKIT: -7.25, VEGFR: -6.27, MK2: -6.48, JAK2: -6.76\n142: N#C[C@H](O)c1cccc(N2CCCC[C@H]2[NH+]2CCCC2=O)c1, Pred: 0.0998, SimDrug: Tandutinib, SimVal: 0.368\nFLT3: -5.99, PDGFRA: -4.97, CKIT: -6.54, VEGFR: -5.57, MK2: -5.56, JAK2: -6.90\n143: O=C(c1ccc2c(c1)CCC2)N1CC[C@@H](CO)[C@@H]2OCCC[C@H]21, Pred: 0.2956, SimDrug: Midostaurin, SimVal: 0.475\nFLT3: -7.39, PDGFRA: -6.08, CKIT: -7.28, VEGFR: -6.19, MK2: -5.88, JAK2: -7.44\n144: O=C(c1ccccc1F)N1[C@H](CO)CC[C@H]2CCCO[C@H]21, Pred: 0.4138, SimDrug: Midostaurin, SimVal: 0.458\nFLT3: -6.90, PDGFRA: -5.56, CKIT: -6.28, VEGFR: -5.72, MK2: -5.41, JAK2: -6.44\n145: N#Cc1cc2c(cc1N1CCCC(F)(F)C1)O[C@@H](C(=O)N1CCCCC1)C2, Pred: 0.1601, SimDrug: Midostaurin, SimVal: 0.449\nFLT3: -5.45, PDGFRA: -5.26, CKIT: -5.45, VEGFR: -5.31, MK2: -4.29, JAK2: -3.96\n146: C[C@@](N)(C#N)[C@@]1(N2CCN[C@@]34C=CC[C@@]23C(=O)NC=N4)CCCO1, Pred: 0.0236, SimDrug: Midostaurin, SimVal: 0.589\nFLT3: -3.72, PDGFRA: -1.42, CKIT: -2.02, VEGFR: -2.13, MK2: -3.60, JAK2: -2.26\n147: N#Cc1cc(N2CCC[C@@](c3ccccn3)(N3CCCC3=O)C2)cc2c1OCO2, Pred: 0.2115, SimDrug: Midostaurin, SimVal: 0.604\nFLT3: -6.70, PDGFRA: -4.92, CKIT: -6.49, VEGFR: -5.87, MK2: -5.52, JAK2: -7.20\n148: O=C1CCCN(c2cccc([C@H]([O-])[C@H]3CCN[C@H]4[NH+]=CN[C@@H]43)c2)C1, Pred: 0.2885, SimDrug: Midostaurin, SimVal: 0.411\nFLT3: -7.04, PDGFRA: -5.83, CKIT: -6.74, VEGFR: -6.24, MK2: -5.99, JAK2: -7.09\n149: C[C@@](Oc1ccccc1Br)(c1ccccn1)[C@]1(N)NCCCC1=O, Pred: 0.4189, SimDrug: Midostaurin, SimVal: 0.567\nFLT3: -6.93, PDGFRA: -5.68, CKIT: -5.63, VEGFR: -6.51, MK2: -5.37, JAK2: -6.24\n150: C[C@H]1CCC[C@@](N)(c2cnccn2)N1C(=O)c1coc(-c2ccccc2F)c1, Pred: 0.1786, SimDrug: Midostaurin, SimVal: 0.581\nFLT3: -7.58, PDGFRA: -6.51, CKIT: -8.32, VEGFR: -6.50, MK2: -5.01, JAK2: -7.51\n151: C[C@@]1(C(=O)Nc2cccc(-c3cnccn3)c2)CC12CCCCC2, Pred: 0.1991, SimDrug: Quizartinib, SimVal: 0.353\nFLT3: -6.36, PDGFRA: -5.34, CKIT: -6.72, VEGFR: -5.76, MK2: -6.11, JAK2: -5.83\n152: CC(=O)Nc1cc(C#N)cc(C(=O)N2CC[C@@H]3OCCC[C@H]32)c1, Pred: 0.4062, SimDrug: Midostaurin, SimVal: 0.472\nFLT3: -6.74, PDGFRA: -5.49, CKIT: -6.16, VEGFR: -5.72, MK2: -5.75, JAK2: -5.87\n153: O=C(NO)c1cc(C(F)F)nc(N2CCC[C@H]2O)c1, Pred: 0.2866, SimDrug: Midostaurin, SimVal: 0.379\nFLT3: -6.72, PDGFRA: -5.50, CKIT: -6.31, VEGFR: -5.74, MK2: -5.78, JAK2: -6.79\n154: C[C@@H](C#N)N1C(=O)CCC[C@H]1[C@H]1CCCO1, Pred: 0.0228, SimDrug: Midostaurin, SimVal: 0.277\nFLT3: -3.75, PDGFRA: -4.09, CKIT: -3.54, VEGFR: -3.34, MK2: -3.04, JAK2: -3.90\n155: C[C@@H](C#N)N1C(=O)COc2ccccc21, Pred: 0.1644, SimDrug: Gilteritinib, SimVal: 0.349\nFLT3: -5.08, PDGFRA: -2.87, CKIT: -4.21, VEGFR: -3.56, MK2: -3.02, JAK2: -4.11\n156: O=C(c1cccc2c1C=CCC2)N1CCO[C@@H](C(F)F)C1, Pred: 0.6705, SimDrug: Midostaurin, SimVal: 0.387\nFLT3: -7.86, PDGFRA: -5.16, CKIT: -5.89, VEGFR: -6.19, MK2: -5.17, JAK2: -7.13\n157: C[S@@](=O)c1ccc(C(=O)N2CCCCC2)cc1N1CCC[C@@H]2C3CC[NH+](CC3)[C@@H]21, Pred: 0.2000, SimDrug: Midostaurin, SimVal: 0.486\nFLT3: -5.89, PDGFRA: -5.17, CKIT: -5.80, VEGFR: -5.87, MK2: -4.82, JAK2: -5.42\n158: N#Cc1cc(N2CCCC[C@H]2C(=O)N2CCCCCCC2)ccc1Cl, Pred: 0.0000, SimDrug: Gilteritinib, SimVal: 0.375\nFLT3: 0.73, PDGFRA: 0.39, CKIT: 0.69, VEGFR: 0.13, MK2: 0.99, JAK2: 0.28\n159: N#C[C@@H](N)c1ccccc1N1CCCCC1=O, Pred: 0.5745, SimDrug: Sunitinib, SimVal: 0.325\nFLT3: -6.64, PDGFRA: -4.75, CKIT: -4.86, VEGFR: -4.67, MK2: -5.33, JAK2: -5.33\n160: Cc1oc2c(c1C(=O)N1CCC(c3ccccc3Cl)CC1)CCC2, Pred: 0.4620, SimDrug: Midostaurin, SimVal: 0.466\nFLT3: -7.75, PDGFRA: -6.12, CKIT: -6.51, VEGFR: -6.75, MK2: -5.58, JAK2: -7.51\n161: N#C[C@@]1(N2CCCC[C@@]2(N)c2ccccc2)CCCO1, Pred: 0.0349, SimDrug: Midostaurin, SimVal: 0.445\nFLT3: -4.59, PDGFRA: -4.78, CKIT: -5.72, VEGFR: -4.17, MK2: -5.35, JAK2: -5.73\nfailed conformer gen\n162: N#C[C@@]1(Nc2cccc(F)c2)CCCCN1C(=O)[C@@]12C=CC=C[C@H]1C=CC=N2, Pred: 0.0903, SimDrug: Midostaurin, SimVal: 0.490\nFLT3: -5.00, PDGFRA: -5.00, CKIT: -5.00, VEGFR: -5.00, MK2: -5.00, JAK2: -5.00\n163: N#Cc1ccc(N2CCC[C@H]3OC(=O)C[C@@H]32)cc1C(F)F, Pred: 0.4280, SimDrug: Midostaurin, SimVal: 0.414\nFLT3: -6.81, PDGFRA: -4.96, CKIT: -6.13, VEGFR: -5.33, MK2: -5.15, JAK2: -6.43\nSEEN\nSEEN\nSEEN\nSEEN\nSEEN\nSEEN\n164: N#C[C@@H](N)c1ccccc1F, Pred: 0.2674, SimDrug: Sunitinib, SimVal: 0.150\nFLT3: -5.67, PDGFRA: -4.47, CKIT: -5.32, VEGFR: -4.16, MK2: -4.32, JAK2: -4.41\n165: N#Cc1ccc(C(=O)N2CCC[NH2+]CC2)cc1N1CCC[C@@H]2OCC[C@H]21, Pred: 0.0000, SimDrug: Midostaurin, SimVal: 0.476\nFLT3: 0.31, PDGFRA: 1.01, CKIT: 0.12, VEGFR: -0.02, MK2: 0.95, JAK2: 0.10\n166: C[C@@H](C#N)N1CC(=O)C[C@@H]2C(F)=CC=C[C@H]21, Pred: 0.1414, SimDrug: Midostaurin, SimVal: 0.322\nFLT3: -5.01, PDGFRA: -3.86, CKIT: -4.07, VEGFR: -4.25, MK2: -3.65, JAK2: -4.30\n167: N#Cc1cccc(N2CCCC[C@@]2(O)c2ccnc(I)c2)c1, Pred: 0.4569, SimDrug: Midostaurin, SimVal: 0.445\nFLT3: -6.72, PDGFRA: -5.61, CKIT: -4.71, VEGFR: -5.12, MK2: -5.30, JAK2: -6.30\n168: C[C@H](C#N)N1CCCc2ccc(C(=O)N[C@H]3CCCCO3)cc21, Pred: 0.4343, SimDrug: Midostaurin, SimVal: 0.394\nFLT3: -6.74, PDGFRA: -5.11, CKIT: -5.85, VEGFR: -5.72, MK2: -5.52, JAK2: -6.13\n169: N#C[C@@]1(N2CCOCC2)CC[C@@H](n2nnc(C(=O)c3ccccc3Cl)n2)C1, Pred: 0.1359, SimDrug: Midostaurin, SimVal: 0.441\nFLT3: -6.14, PDGFRA: -5.85, CKIT: -6.40, VEGFR: -5.91, MK2: -5.34, JAK2: -6.69\n170: C[C@@H](Oc1cc([C@]2(N)CC(=O)CN2)ccn1)c1ccccc1, Pred: 0.5963, SimDrug: Midostaurin, SimVal: 0.358\nFLT3: -8.25, PDGFRA: -6.56, CKIT: -7.55, VEGFR: -6.34, MK2: -5.93, JAK2: -7.23\n171: N#C[C@@]1(N2CCOCC2)CC[C@@H](NC(=O)c2ncnc3c2C=CCC3)C1, Pred: 0.2385, SimDrug: Midostaurin, SimVal: 0.462\nFLT3: -6.21, PDGFRA: -5.60, CKIT: -5.63, VEGFR: -5.25, MK2: -5.19, JAK2: -6.38\n172: CC(C)(Oc1ccccc1)[C@H]1CCCCN1C(=O)c1ccnc2[nH]ccc12, Pred: 0.5212, SimDrug: Midostaurin, SimVal: 0.511\nFLT3: -7.58, PDGFRA: -4.28, CKIT: -6.64, VEGFR: -6.64, MK2: -5.88, JAK2: -6.90\n173: N#C[C@@]1(N2CCCCC2=O)Cc2ccccc2O1, Pred: 0.0583, SimDrug: Midostaurin, SimVal: 0.409\nFLT3: -4.63, PDGFRA: -4.58, CKIT: -4.68, VEGFR: -5.08, MK2: -4.94, JAK2: -4.78\n174: N#C[C@@]1(N2CCCCC2=O)CCOc2ccccc21, Pred: 0.1080, SimDrug: Midostaurin, SimVal: 0.440\nFLT3: -4.79, PDGFRA: -3.65, CKIT: -4.26, VEGFR: -3.80, MK2: -3.52, JAK2: -3.81\n175: N#Cc1ccccc1N1CCC(Cl)([C@H]2OCC=CC2=O)CC1, Pred: 0.2082, SimDrug: Gilteritinib, SimVal: 0.366\nFLT3: -5.54, PDGFRA: -5.08, CKIT: -4.55, VEGFR: -4.72, MK2: -4.02, JAK2: -5.31\n176: CC(C)(Oc1ccccc1Br)C1CCN(C(=O)c2ccccn2)CC1, Pred: 0.3195, SimDrug: Sorafenib, SimVal: 0.336\nFLT3: -6.54, PDGFRA: -5.82, CKIT: -5.72, VEGFR: -5.54, MK2: -5.13, JAK2: -6.43\n177: C[C@@H](c1ccccc1)N1C(C(=O)NC2CC2)=C[C@H]2C(Br)=CC=C[C@H]21, Pred: 0.2140, SimDrug: Midostaurin, SimVal: 0.479\nFLT3: -6.54, PDGFRA: -6.20, CKIT: -6.67, VEGFR: -6.11, MK2: -5.88, JAK2: -6.24\n178: N#C[C@@H](c1cccc(N2CCCC2=O)c1)N1CCCCC1, Pred: 0.3601, SimDrug: Sunitinib, SimVal: 0.320\nFLT3: -6.41, PDGFRA: -5.16, CKIT: -5.30, VEGFR: -5.45, MK2: -5.00, JAK2: -6.15\n179: O=C(C[NH+]1CCC[C@H]2CCCC[C@H]21)N1CCCC[C@@H]1c1cccc(Cl)c1, Pred: 0.7919, SimDrug: Midostaurin, SimVal: 0.346\nFLT3: -8.38, PDGFRA: -6.11, CKIT: -6.27, VEGFR: -6.59, MK2: -5.92, JAK2: -7.02\n180: C[C@@H](C#N)N1C(=O)CC[C@H]2C([C@@]3(N)NCCC[C@@]34C=CC=CC4)=CC=C[C@H]21, Pred: 0.0361, SimDrug: Midostaurin, SimVal: 0.412\nFLT3: -4.63, PDGFRA: -5.68, CKIT: -4.96, VEGFR: -4.53, MK2: -3.68, JAK2: -6.00\n181: N#Cc1cccc(N2CCC[C@@](N)([C@H]3SC=NC3=O)C2)c1, Pred: 0.5196, SimDrug: Midostaurin, SimVal: 0.414\nFLT3: -6.99, PDGFRA: -5.55, CKIT: -6.19, VEGFR: -5.78, MK2: -5.00, JAK2: -5.91\nSEEN\nSEEN\nSEEN\nSEEN\nSEEN\nSEEN\n182: N#C[C@@]1(N2CCCCC2=O)Cc2ccccc2O1, Pred: 0.0583, SimDrug: Midostaurin, SimVal: 0.409\nFLT3: -4.63, PDGFRA: -4.58, CKIT: -4.68, VEGFR: -5.08, MK2: -4.94, JAK2: -4.78\n183: Cc1c(NC(=O)[C@@H]2CC=Nc3ccccc32)cccc1[C@H]1COCCN1S(C)(=O)=O, Pred: 0.1797, SimDrug: Midostaurin, SimVal: 0.520\nFLT3: -6.25, PDGFRA: -5.07, CKIT: -6.76, VEGFR: -6.23, MK2: -4.22, JAK2: -5.80\n184: N#C[C@@]1(N)CCCCN1C(=O)[C@H]1C[C@@H]2C=CC=C[C@@H]2O1, Pred: 0.1755, SimDrug: Midostaurin, SimVal: 0.391\nFLT3: -5.77, PDGFRA: -5.12, CKIT: -6.13, VEGFR: -5.46, MK2: -4.41, JAK2: -5.19\n185: C[C@]1(c2cc(=O)[nH]c([O-])n2)C[C@H]2CCO[C@H]2N(c2cccc(C#N)c2)C1, Pred: 0.1915, SimDrug: Midostaurin, SimVal: 0.525\nFLT3: -6.73, PDGFRA: -5.82, CKIT: -6.34, VEGFR: -6.45, MK2: -6.34, JAK2: -7.15\n186: N#C[C@]1(Nc2ccccc2)CC[C@@H](c2ccnc(N3CCCC3)n2)C1, Pred: 0.3466, SimDrug: Gilteritinib, SimVal: 0.365\nFLT3: -7.18, PDGFRA: -6.53, CKIT: -6.56, VEGFR: -6.23, MK2: -6.01, JAK2: -6.93\n187: N#Cc1ccccc1N1CCC[C@@H]2OC(=O)C[C@H]21, Pred: 0.3976, SimDrug: Midostaurin, SimVal: 0.399\nFLT3: -6.11, PDGFRA: -4.26, CKIT: -4.88, VEGFR: -5.02, MK2: -4.44, JAK2: -5.29\n188: O=C(Nc1cccc(C(F)F)c1)[C@H]1CCC[NH+]1[C@H]1CCCCO1, Pred: 0.2777, SimDrug: Midostaurin, SimVal: 0.359\nFLT3: -7.34, PDGFRA: -5.93, CKIT: -7.81, VEGFR: -5.11, MK2: -5.35, JAK2: -6.22\n189: Cc1c(NC(=O)[C@@H]2CC=Nc3ccccc32)cccc1[C@@]1([NH+]2CCCC2)CCCCN1, Pred: 0.1782, SimDrug: Midostaurin, SimVal: 0.509\nFLT3: -6.12, PDGFRA: -5.73, CKIT: -6.33, VEGFR: -5.67, MK2: -4.62, JAK2: -6.25\n190: N#C[C@@]1(N2CCCCC2)CCc2cccc(Br)c21, Pred: 0.3971, SimDrug: Midostaurin, SimVal: 0.410\nFLT3: -6.19, PDGFRA: -4.86, CKIT: -5.24, VEGFR: -5.02, MK2: -4.03, JAK2: -5.40\n191: C[C@H](C#N)N1CCC(=O)c2ccc(C(=O)N[C@H]3CCCCO3)cc21, Pred: 0.3468, SimDrug: Midostaurin, SimVal: 0.430\nFLT3: -6.53, PDGFRA: -5.74, CKIT: -6.13, VEGFR: -5.43, MK2: -4.92, JAK2: -6.01\n192: Cc1cccc([C@@]2(NC(=O)c3ccc4c(c3)OCO4)CCC(=O)N2c2ccccn2)n1, Pred: 0.1248, SimDrug: Midostaurin, SimVal: 0.636\nFLT3: -5.98, PDGFRA: -4.81, CKIT: -5.86, VEGFR: -6.56, MK2: -6.15, JAK2: -6.07\n193: N#Cc1cc(N2CCC[C@@H]3OC(=O)C[C@H]32)cc(S(=O)(=O)N2CCCCC2)c1, Pred: 0.4761, SimDrug: Midostaurin, SimVal: 0.489\nFLT3: -6.72, PDGFRA: -5.26, CKIT: -5.85, VEGFR: -5.52, MK2: -4.97, JAK2: -5.89\n194: C[C@@H](C#N)N1CCO[C@H](C(=O)N2CCCc3ccccc32)C1, Pred: 0.1451, SimDrug: Sunitinib, SimVal: 0.383\nFLT3: -5.65, PDGFRA: -4.78, CKIT: -5.85, VEGFR: -5.58, MK2: -4.82, JAK2: -5.84\n195: C[C@](C#N)(Nc1ccccc1F)C(=O)N1CCC[C@@H]2OCC[C@H]21, Pred: 0.1472, SimDrug: Midostaurin, SimVal: 0.417\nFLT3: -5.35, PDGFRA: -4.71, CKIT: -5.18, VEGFR: -4.97, MK2: -4.48, JAK2: -5.38\n196: C[C@@]1([C@@H]2CCCO2)CCCN(c2cc(C#N)c3c(=O)[nH]cnc3c2)C1, Pred: 0.1613, SimDrug: Midostaurin, SimVal: 0.471\nFLT3: -6.23, PDGFRA: -5.45, CKIT: -5.89, VEGFR: -5.61, MK2: -4.68, JAK2: -6.94\n197: CC1(c2cc(=O)oc3ncccc23)CCN(c2cccc(C#N)c2)CC1, Pred: 0.5055, SimDrug: Midostaurin, SimVal: 0.440\nFLT3: -6.88, PDGFRA: -4.74, CKIT: -5.41, VEGFR: -4.77, MK2: -4.86, JAK2: -6.50\n198: N#Cc1cc(N)cc2c1[C@H](N1CCC[C@@H](C(=O)N3CCOCC3)C1)CC=N2, Pred: 0.0216, SimDrug: Midostaurin, SimVal: 0.464\nFLT3: -3.92, PDGFRA: -4.82, CKIT: -4.66, VEGFR: -4.64, MK2: -4.84, JAK2: -3.42\n199: C[C@H]1CC[C@@H](c2cccc(NC(=O)[C@@H]3CCCCN3)c2)[NH2+]1, Pred: 0.1941, SimDrug: Ponatinib, SimVal: 0.333\nFLT3: -7.21, PDGFRA: -6.70, CKIT: -7.71, VEGFR: -6.45, MK2: -5.48, JAK2: -7.20\n200: N#Cc1cc2c(c(NC(=O)[C@H]3CCN[C@H](N)C3)c1)OCCC2, Pred: 0.2086, SimDrug: Gilteritinib, SimVal: 0.392\nFLT3: -6.44, PDGFRA: -5.57, CKIT: -6.36, VEGFR: -5.82, MK2: -6.54, JAK2: -6.16\n201: N[C@H]1CC[C@@H](C(=O)N2CC[C@@H](c3cccc(Cl)c3)[C@@H]3[C@@H]2C2CC[NH+]3CC2)O1, Pred: 0.1058, SimDrug: Midostaurin, SimVal: 0.461\nFLT3: -6.14, PDGFRA: -5.97, CKIT: -6.65, VEGFR: -6.57, MK2: -6.04, JAK2: -6.50\n"
        }
      ],
      "execution_count": 55,
      "metadata": {
        "jupyter": {
          "source_hidden": false,
          "outputs_hidden": false
        },
        "nteract": {
          "transient": {
            "deleting": false
          }
        },
        "gather": {
          "logged": 1674668105244
        }
      }
    },
    {
      "cell_type": "code",
      "source": [
        "pickle.dump(pred_list,open(\"200pred_list_prob03.pk1\",\"wb\"),protocol=2)"
      ],
      "outputs": [],
      "execution_count": 56,
      "metadata": {
        "jupyter": {
          "source_hidden": false,
          "outputs_hidden": false
        },
        "nteract": {
          "transient": {
            "deleting": false
          }
        },
        "gather": {
          "logged": 1674668115646
        }
      }
    },
    {
      "cell_type": "code",
      "source": [
        "pbounds = {f\"f{i}\": (-3,3) for i in range(56)}\r\n",
        "bounds_transformer = SequentialDomainReductionTransformer(prob=0.5)\r\n",
        "optimizer = BayesianOptimization(f=optstart,pbounds=pbounds,verbose=0,bounds_transformer=bounds_transformer)\r\n",
        "load_logs(optimizer, logs=[\"./200prob03.json\"])\r\n"
      ],
      "outputs": [
        {
          "output_type": "execute_result",
          "execution_count": 57,
          "data": {
            "text/plain": "<bayes_opt.bayesian_optimization.BayesianOptimization at 0x7fc3f583a670>"
          },
          "metadata": {}
        }
      ],
      "execution_count": 57,
      "metadata": {
        "jupyter": {
          "source_hidden": false,
          "outputs_hidden": false
        },
        "nteract": {
          "transient": {
            "deleting": false
          }
        },
        "gather": {
          "logged": 1674668181408
        }
      }
    },
    {
      "cell_type": "code",
      "source": [
        "seenpreds = set()\r\n",
        "predplot = []\r\n",
        "x=[]\r\n",
        "for i,pred in enumerate(optimizer.res):\r\n",
        "    if pred[\"target\"] not in seenpreds and i>100:\r\n",
        "        predplot.append(pred[\"target\"])\r\n",
        "        x.append(i)\r\n",
        "        seenpreds.add(pred[\"target\"])\r\n",
        "ax=sns.regplot(x=x,y=predplot)\r\n",
        "ax.set(xlabel=\"Iteration\",ylabel=\"Objective\")\r\n"
      ],
      "outputs": [
        {
          "output_type": "execute_result",
          "execution_count": 58,
          "data": {
            "text/plain": "[Text(0.5, 0, 'Iteration'), Text(0, 0.5, 'Objective')]"
          },
          "metadata": {}
        },
        {
          "output_type": "display_data",
          "data": {
            "text/plain": "<Figure size 640x480 with 1 Axes>",
            "image/png": "[encoded data removed]"
          },
          "metadata": {}
        }
      ],
      "execution_count": 58,
      "metadata": {
        "jupyter": {
          "source_hidden": false,
          "outputs_hidden": false
        },
        "nteract": {
          "transient": {
            "deleting": false
          }
        },
        "gather": {
          "logged": 1674668187126
        }
      }
    },
    {
      "cell_type": "code",
      "source": [
        "from hide_warnings import hide_warnings\r\n",
        "@hide_warnings(out=False)\r\n",
        "def knowndrugeval():\r\n",
        "    beta = 4184/(8.3145*310)\r\n",
        "    flt3 = vinainterface(\"receptorstruc.pdbqt\",[-28.03685,\t-10.361925,\t-28.9883])\r\n",
        "    ckit = vinainterface(\"ckit.pdbqt\",[45.93035714,\t97.03574286,\t16.1472])\r\n",
        "    pdgfra = vinainterface(\"pdgfra.pdbqt\",[17.58837931,\t132.5595172,\t-6.030275862])\r\n",
        "    vegfr = vinainterface(\"VEGFR.pdbqt\",[25.997,\t28.605,\t17.134])\r\n",
        "    mk2 = vinainterface(\"MK2.pdbqt\",[47.6395,\t34.809,\t16.708])\r\n",
        "    jak2 = vinainterface(\"JAK2.pdbqt\",[-31.7445,\t-49.661,\t35.4655])\r\n",
        "\r\n",
        "    for drug in knowndrugs:\r\n",
        "        mol=knowndrugs[drug]\r\n",
        "        exh = 32\r\n",
        "        flt3_pred = flt3.predict(mol, exh)\r\n",
        "        pdgfra_pred = pdgfra.predict(mol, exh)\r\n",
        "        ckit_pred = ckit.predict(mol, exh)\r\n",
        "        vegfr_pred = vegfr.predict(mol, exh)\r\n",
        "        mk2_pred = mk2.predict(mol, exh)\r\n",
        "        jak2_pred = jak2.predict(mol, exh)\r\n",
        "        all_preds = [flt3_pred,pdgfra_pred,ckit_pred,vegfr_pred,mk2_pred,jak2_pred]\r\n",
        "\r\n",
        "        anybind=-6.0\r\n",
        "\r\n",
        "        prediction = np.exp(-beta*flt3_pred)/(np.exp(-beta*anybind)+np.sum([np.exp(-beta*pr) for pr in all_preds]))\r\n",
        "\r\n",
        "        sim,molec = simsearch(mol)\r\n",
        "        print(f\"{mol}, Pred: {prediction:.4f}, SimDrug: {molec}, SimVal: {sim:.3f}\")\r\n",
        "        print(f\"FLT3: {flt3_pred:.2f}, PDGFRA: {pdgfra_pred:.2f}, CKIT: {ckit_pred:.2f}, VEGFR: {vegfr_pred:.2f}, MK2: {mk2_pred:.2f}, JAK2: {jak2_pred:.2f}\")\r\n",
        "        break\r\n",
        "        \r\n",
        "\r\n",
        "knowndrugeval()\r\n"
      ],
      "outputs": [
        {
          "output_type": "stream",
          "name": "stdout",
          "text": "CCc1nc(C(=O)N)c(Nc2ccc(N3CCC(CC3)N4CCN(C)CC4)c(OC)c2)nc1NC5CCOCC5, Pred: 0.1157, SimDrug: Gilteritinib, SimVal: 1.000\nFLT3: -7.17, PDGFRA: -7.00, CKIT: -7.60, VEGFR: -6.80, MK2: -6.95, JAK2: -7.93\n"
        }
      ],
      "execution_count": 36,
      "metadata": {
        "jupyter": {
          "source_hidden": false,
          "outputs_hidden": false
        },
        "nteract": {
          "transient": {
            "deleting": false
          }
        },
        "gather": {
          "logged": 1674474493783
        }
      }
    },
    {
      "cell_type": "code",
      "source": [],
      "outputs": [
        {
          "output_type": "stream",
          "name": "stdout",
          "text": "Gilteritinib\n13 40 11.0\n-9.985\nQuizartinib\n11 40 19.0\n-9.064999999999998\nCrenolanib\n8 33 16.0\n-6.845000000000001\nTandutinib\n9 41 15.0\n-7.77\nSorafenib\n7 32 19.0\n-6.305000000000001\nSunitinib\n6 29 14.0\n-5.395\nLestaurtinib\n9 33 19.0\n-7.55\nMidostaurin\n7 43 26.0\n-7.045\nPonatinib\n7 39 21.0\n-6.69\n"
        }
      ],
      "execution_count": 39,
      "metadata": {
        "jupyter": {
          "source_hidden": false,
          "outputs_hidden": false
        },
        "nteract": {
          "transient": {
            "deleting": false
          }
        },
        "gather": {
          "logged": 1674651137945
        }
      }
    },
    {
      "cell_type": "code",
      "source": [],
      "outputs": [],
      "execution_count": null,
      "metadata": {
        "jupyter": {
          "source_hidden": false,
          "outputs_hidden": false
        },
        "nteract": {
          "transient": {
            "deleting": false
          }
        }
      }
    }
  ],
  "metadata": {
    "kernelspec": {
      "name": "python38-azureml",
      "language": "python",
      "display_name": "Python 3.8 - AzureML"
    },
    "language_info": {
      "name": "python",
      "version": "3.8.5",
      "mimetype": "text/x-python",
      "codemirror_mode": {
        "name": "ipython",
        "version": 3
      },
      "pygments_lexer": "ipython3",
      "nbconvert_exporter": "python",
      "file_extension": ".py"
    },
    "microsoft": {
      "host": {
        "AzureML": {
          "notebookHasBeenCompleted": true
        }
      }
    },
    "kernel_info": {
      "name": "python38-azureml"
    },
    "nteract": {
      "version": "nteract-front-end@1.0.0"
    }
  },
  "nbformat": 4,
  "nbformat_minor": 2
}