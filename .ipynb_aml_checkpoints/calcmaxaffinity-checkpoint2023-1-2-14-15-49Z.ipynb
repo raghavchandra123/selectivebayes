{
  "cells": [
    {
      "cell_type": "code",
      "source": [
        "import pandas as pd\r\n",
        "import seaborn as sns\r\n",
        "import rdkit\r\n",
        "import torch\r\n",
        "import vina\r\n",
        "import meeko\r\n",
        "import pexpect\r\n",
        "import pickle\r\n",
        "import numpy as np\r\n",
        "from scipy.stats import norm\r\n",
        "from typing import Optional, Union, List\r\n",
        "from bayes_opt import BayesianOptimization\r\n",
        "from bayes_opt.util import load_logs\r\n",
        "from bayes_opt.domain_reduction import DomainTransformer\r\n",
        "from bayes_opt.logger import JSONLogger\r\n",
        "from bayes_opt.event import Events\r\n",
        "from bayes_opt.target_space import TargetSpace\r\n",
        "import dimorphite_dl\r\n",
        "import sys\r\n",
        "from contextlib import redirect_stdout"
      ],
      "outputs": [
        {
          "output_type": "stream",
          "name": "stderr",
          "text": "<frozen importlib._bootstrap>:219: RuntimeWarning: scipy._lib.messagestream.MessageStream size changed, may indicate binary incompatibility. Expected 56 from C header, got 64 from PyObject\n"
        }
      ],
      "execution_count": 1,
      "metadata": {
        "gather": {
          "logged": 1675344175259
        }
      }
    },
    {
      "cell_type": "code",
      "source": [
        "knowndrugs = {\"small_mol\":r\"CCOc1cc2c(c(Cl)c1CN(C)CCC(=O)[O-])OCO2\",\r\n",
        "              \"Gilteritinib\":r\"CCc1nc(C(=O)N)c(Nc2ccc(N3CCC(CC3)N4CCN(C)CC4)c(OC)c2)nc1NC5CCOCC5\", \r\n",
        "              \"Quizartinib\":r\"CC(C)(C)c1cc(no1)NC(=O)Nc2ccc(cc2)c3cn4c5ccc(cc5sc4n3)OCCN6CCOCC6\", \r\n",
        "              \"Crenolanib\":r\"O(c5cc4ncn(c1nc3c(cc1)cccc3N2CCC(N)CC2)c4cc5)CC6(COC6)C\",\r\n",
        "              \"Tandutinib\":r\"CC(C)OC1=CC=C(C=C1)NC(=O)N2CCN(CC2)C3=NC=NC4=CC(=C(C=C43)OC)OCCCN5CCCCC5\",\r\n",
        "              \"Sorafenib\":r\"CNC(=O)c1cc(ccn1)Oc2ccc(cc2)NC(=O)Nc3ccc(c(c3)C(F)(F)F)Cl\",\r\n",
        "              \"Sunitinib\":r\"CCN(CC)CCNC(=O)c1c(c([nH]c1C)/C=C\\2/c3cc(ccc3NC2=O)F)C\",\r\n",
        "              \"Lestaurtinib\":r\"C[C@@]12[C@](C[C@@H](O1)n3c4ccccc4c5c3c6n2c7ccccc7c6c8c5C(=O)NC8)(CO)O\",\r\n",
        "              \"Midostaurin\":r\"C[C@@]12[C@@H]([C@@H](C[C@@H](O1)N3C4=CC=CC=C4C5=C6C(=C7C8=CC=CC=C8N2C7=C53)CNC6=O)N(C)C(=O)C9=CC=CC=C9)OC\",\r\n",
        "              \"Ponatinib\":r\"Cc1ccc(cc1C#Cc2cnc3n2nccc3)C(=O)Nc4ccc(c(c4)C(F)(F)F)CN5CCN(CC5)C\"\r\n",
        "              }"
      ],
      "outputs": [],
      "execution_count": 26,
      "metadata": {
        "jupyter": {
          "source_hidden": false,
          "outputs_hidden": false
        },
        "nteract": {
          "transient": {
            "deleting": false
          }
        },
        "gather": {
          "logged": 1675346517268
        }
      }
    },
    {
      "cell_type": "code",
      "source": [
        "from rdkit.Chem import rdFreeSASA\r\n",
        "def max_affin(drug):\r\n",
        "    mol = rdkit.Chem.MolFromSmiles(drug)\r\n",
        "    mol = rdkit.Chem.AddHs(mol)\r\n",
        "    rdkit.Chem.AllChem.EmbedMolecule(mol)\r\n",
        "    \r\n",
        "    def classifyAtoms(mol, polar_atoms=[7,8,15,16]):\r\n",
        "\t#Taken from https://github.com/mittinatten/freesasa/blob/master/src/classifier.c\r\n",
        "    #H originally 1.10 but vinardo ignores so changed to zero\r\n",
        "        symbol_radius = {\"H\": 0.0, \"C\": 1.70, \"N\": 1.55, \"O\": 1.52, \"P\": 1.80, \"S\": 1.80, \"SE\": 1.90,\r\n",
        "        \"F\": 1.47, \"CL\": 1.75, \"BR\": 1.83, \"I\": 1.98,\r\n",
        "        \"LI\": 1.81, \"BE\": 1.53, \"B\": 1.92,\r\n",
        "        \"NA\": 2.27, \"MG\": 1.74, \"AL\": 1.84, \"SI\": 2.10,\r\n",
        "        \"K\": 2.75, \"CA\": 2.31, \"GA\": 1.87, \"GE\": 2.11, \"AS\": 1.85,\r\n",
        "        \"RB\": 3.03, \"SR\": 2.49, \"IN\": 1.93, \"SN\": 2.17, \"SB\": 2.06, \"TE\": 2.06}\r\n",
        "        surf_area = 0\r\n",
        "        hydrophob_surf_area = 0\r\n",
        "        num_apol = 0\r\n",
        "        radii = [] \r\n",
        "        for atom in mol.GetAtoms():\r\n",
        "            atom.SetProp(\"SASAClassName\", \"Apolar\") # mark everything as apolar to start\r\n",
        "            if atom.GetAtomicNum() in polar_atoms: #identify polar atoms and change their marking\r\n",
        "                atom.SetProp(\"SASAClassName\", \"Polar\") # mark as polar\r\n",
        "            elif atom.GetAtomicNum() == 1:\r\n",
        "                if atom.GetBonds()[0].GetOtherAtom(atom).GetAtomicNum() in polar_atoms:\r\n",
        "                    atom.SetProp(\"SASAClassName\", \"Polar\") # mark as polar\r\n",
        "            radii.append(symbol_radius[atom.GetSymbol().upper()])\r\n",
        "            if atom.GetProp(\"SASAClassName\")==\"Apolar\" and atom.GetAtomicNum()!=1:\r\n",
        "                hydrophob_surf_area += np.pi*symbol_radius[atom.GetSymbol().upper()]**2\r\n",
        "                num_apol += 1\r\n",
        "            surf_area += np.pi*symbol_radius[atom.GetSymbol().upper()]**2\r\n",
        "        mean_surf_area = surf_area/rdkit.Chem.rdMolDescriptors.CalcNumHeavyAtoms(mol)\r\n",
        "        mean_hydrophob_area = hydrophob_surf_area/num_apol\r\n",
        "        return radii,mean_surf_area,mean_hydrophob_area\r\n",
        "    \r\n",
        "    radii, mean_surf_area, mean_hydrophob_area = classifyAtoms(mol)\r\n",
        "\r\n",
        "    SASA = rdFreeSASA.CalcSASA(mol,radii,query=rdkit.Chem.rdqueries.AtomNumGreaterQueryAtom(1))\r\n",
        "    hydrophobic_area = rdFreeSASA.CalcSASA(mol,radii,query=rdkit.Chem.rdFreeSASA.MakeFreeSasaAPolarAtomQuery())\r\n",
        "    hbonds = rdkit.Chem.rdMolDescriptors.CalcNumHBA(mol)+rdkit.Chem.rdMolDescriptors.CalcNumHBD(mol)\r\n",
        "          \r\n",
        "\r\n",
        "    gauss_en = -SASA/(mean_surf_area)*0.045\r\n",
        "\r\n",
        "    N_atoms = mol.GetAtomsMatchingQuery(rdkit.Chem.rdqueries.AtomNumEqualsQueryAtom(7))\r\n",
        "    tertNs = 0\r\n",
        "    print(drug)\r\n",
        "    \r\n",
        "\r\n",
        "    for atom in N_atoms:\r\n",
        "        if atom.GetTotalNumHs(includeNeighbors=True)==0 and atom.GetHybridization()==rdkit.Chem.HybridizationType.SP3:\r\n",
        "            tertNs+=1\r\n",
        "    \r\n",
        "    hbond_en = hbonds*-0.6\r\n",
        "    hydrophob_en = -0.035*hydrophobic_area/mean_hydrophob_area\r\n",
        "    max_score = hbond_en+gauss_en+hydrophob_en\r\n",
        "    #print(f\"max: {max_score:.2f}, hbonds: {hbond_en:.1f}, gauss: {gauss_en:.2f}, hydrophob: {hydrophob_en:.2f}\")\r\n",
        "    return max_score\r\n",
        "    \r\n",
        "\r\n",
        "    "
      ],
      "outputs": [],
      "execution_count": 39,
      "metadata": {
        "jupyter": {
          "source_hidden": false,
          "outputs_hidden": false
        },
        "nteract": {
          "transient": {
            "deleting": false
          }
        },
        "gather": {
          "logged": 1675346951459
        }
      }
    },
    {
      "cell_type": "code",
      "source": [
        "for drug in knowndrugs:\r\n",
        "    max_affin(knowndrugs[drug])"
      ],
      "outputs": [
        {
          "output_type": "stream",
          "name": "stdout",
          "text": "CCOc1cc2c(c(Cl)c1CN(C)CCC(=O)[O-])OCO2\nmax: -7.51, hbonds: -3.6, gauss: -2.59, hydrophob: -1.32\nCCc1nc(C(=O)N)c(Nc2ccc(N3CCC(CC3)N4CCN(C)CC4)c(OC)c2)nc1NC5CCOCC5\nmax: -14.39, hbonds: -7.8, gauss: -4.13, hydrophob: -2.47\nCC(C)(C)c1cc(no1)NC(=O)Nc2ccc(cc2)c3cn4c5ccc(cc5sc4n3)OCCN6CCOCC6\nmax: -13.15, hbonds: -6.6, gauss: -4.21, hydrophob: -2.34\nO(c5cc4ncn(c1nc3c(cc1)cccc3N2CCC(N)CC2)c4cc5)CC6(COC6)C\nmax: -10.25, hbonds: -4.8, gauss: -3.37, hydrophob: -2.08\nCC(C)OC1=CC=C(C=C1)NC(=O)N2CCN(CC2)C3=NC=NC4=CC(=C(C=C43)OC)OCCCN5CCCCC5\nmax: -12.82, hbonds: -5.4, gauss: -4.50, hydrophob: -2.92\nCNC(=O)c1cc(ccn1)Oc2ccc(cc2)NC(=O)Nc3ccc(c(c3)C(F)(F)F)Cl\nmax: -9.90, hbonds: -4.2, gauss: -3.58, hydrophob: -2.12\nCCN(CC)CCNC(=O)c1c(c([nH]c1C)/C=C\\2/c3cc(ccc3NC2=O)F)C\nmax: -8.90, hbonds: -3.6, gauss: -3.25, hydrophob: -2.05\nC[C@@]12[C@](C[C@@H](O1)n3c4ccccc4c5c3c6n2c7ccccc7c6c8c5C(=O)NC8)(CO)O\nmax: -9.63, hbonds: -5.4, gauss: -2.74, hydrophob: -1.49\nC[C@@]12[C@@H]([C@@H](C[C@@H](O1)N3C4=CC=CC=C4C5=C6C(=C7C8=CC=CC=C8N2C7=C53)CNC6=O)N(C)C(=O)C9=CC=CC=C9)OC\nmax: -10.09, hbonds: -4.2, gauss: -3.54, hydrophob: -2.34\nCc1ccc(cc1C#Cc2cnc3n2nccc3)C(=O)Nc4ccc(c(c4)C(F)(F)F)CN5CCN(CC5)C\nmax: -10.89, hbonds: -4.2, gauss: -4.03, hydrophob: -2.66\n"
        }
      ],
      "execution_count": 29,
      "metadata": {
        "jupyter": {
          "source_hidden": false,
          "outputs_hidden": false
        },
        "nteract": {
          "transient": {
            "deleting": false
          }
        },
        "gather": {
          "logged": 1675346650299
        }
      }
    },
    {
      "cell_type": "code",
      "source": [
        "data = pickle.load(open(\"200pred_list_prob03.pk1\",\"rb\"))\r\n",
        "for entry in data:\r\n",
        "    if entry[0]!=\"failed\":\r\n",
        "        try:\r\n",
        "            max_score=max_affin(entry[0])\r\n",
        "            print(f\"best poss: {max_score:.2f}, best observed: {min(entry[2]):.2f}, diff: {max_score-min(entry[2]):.2f}\")\r\n",
        "        except:\r\n",
        "            print(\"failed\")"
      ],
      "outputs": [
        {
          "output_type": "stream",
          "name": "stdout",
          "text": "CNC(=O)[C@H]1CN(C(=O)c2ccc3c(c2)N(C)C(=O)CN3)[C@@H]1C\nmax: -7.69, max observed: -5.93, diff: -1.76\nN#C[C@]1(N)O[C@@H](N2CCN(C(=O)c3ccccc3-c3nccs3)CC2)c2ccccc21\nmax: -9.58, max observed: -6.73, diff: -2.85\nC[C@H]1CN(C(=O)c2ccccc2C(F)(F)F)[C@@](c2ccccc2)(C2C3CC4CC(C3)CC2C4)[C@H](C)O1\nmax: -6.45, max observed: -6.90, diff: 0.46\nC[C@H]1CCCCN1C(=O)c1cccc2c(-c3ccccn3)nn([C@@]3(C#N)CCCO3)c12\nmax: -8.50, max observed: -6.45, diff: -2.05\nN#C[C@]1(N)C[C@@H](c2ccccc2Br)C[C@](c2ccccn2)(c2cccs2)N1\nmax: -8.63, max observed: -8.22, diff: -0.41\nCc1cccc([C@@H](Cl)[C@@H]2CN[C@@H]3NC[C@@H]4C=CC=C[C@H]4[C@H]3O2)c1C#N\nmax: -7.82, max observed: -6.98, diff: -0.84\nN#C[C@H](N)c1ccc2c(c1)N[C@@H]1N=CC=C[C@H]1[C@H]2C(=O)[O-]\nmax: -8.03, max observed: -5.73, diff: -2.30\nN#Cc1cccc(N2CCCC[C@@]2(c2ccccn2)N2CCCC2=O)c1\nmax: -6.67, max observed: -7.08, diff: 0.41\nN#Cc1sc(N2CCC[C@H]3C=CC=C[C@H]32)nc1C(=O)NC1CC1\nmax: -7.66, max observed: -5.82, diff: -1.84\nO=C(C1=CS2(C=CC=C2)C=N1)N1CCCC[C@H]1c1cccc(F)c1\nmax: -5.71, max observed: -5.87, diff: 0.16\nCc1nc(NC(=O)[C@H]2CCCN2S(=O)(=O)c2ccccn2)c(-c2ccccc2)s1\nmax: -9.15, max observed: -8.06, diff: -1.10\nCC1(C)OCCN(C(=O)c2ccnc(-n3cncn3)c2)[C@H]1c1ccccc1\nmax: -8.05, max observed: -6.85, diff: -1.20\nO=C(Nc1cccc(C([O-])=S)c1)[C@H]1CCCCN1c1nccs1\nmax: -8.22, max observed: -6.60, diff: -1.62\nN#Cc1cc(N2CCC(c3ccccn3)(N3CCCC3=O)CC2)cc2c1C=CCC2\nmax: -7.40, max observed: -9.23, diff: 1.83\nN#Cc1cccc(NC(=O)[C@@H]2CCO[C@H]3CCO[C@H]32)c1\nmax: -6.60, max observed: -6.38, diff: -0.21\nN#C[C@]1(N)O[C@H]2CCC[C@H]2[C@@H]1C(=O)Nc1ccc2[nH]cnc2c1\nmax: -8.39, max observed: -6.40, diff: -1.99\nO=C(Nc1cccc([C@H]([O-])[C@H]2CCCCN2)c1)[C@@H]1CO[C@H]2C=CC=N[C@H]2O1\nmax: -9.22, max observed: -6.97, diff: -2.25\nN#C[C@@]1(N2CCCCC2)CC[C@@H](c2cccc(N3CCNC3=O)c2)O1\nmax: -7.26, max observed: -6.87, diff: -0.38\nC[C@]1(C(=O)N[C@H]2CCCCO2)CCCN(c2cc(C#N)c3c(c2)OCC3)C1\nmax: -8.19, max observed: -7.61, diff: -0.58\nO=C(Nc1cccc(C(F)(F)F)c1)[C@@H]1CCN[C@H]2NC=C[C@H]21\nmax: -7.69, max observed: -7.51, diff: -0.18\nC[C@@H](C#N)N1CCOC[C@H]1C(=O)N1CCCO[C@@H]2C=CC=C[C@H]21\nmax: -6.88, max observed: -0.46, diff: -6.42\nNC(=O)[C@H]1CCN(C(=O)c2cc3c(o2)CCC=C3)c2ccccc21\nmax: -6.38, max observed: -7.81, diff: 1.43\nC[C@@H](C#N)N1C(=O)CCc2ccc(C[NH+]3CCCCC3)cc21\nmax: -5.80, max observed: -6.12, diff: 0.32\nC[C@@H]1OCCN(C(=O)[C@]2(N3CCSCC3)CCOc3ccccc32)[C@H]1c1ccccc1\nmax: -7.78, max observed: -5.14, diff: -2.64\nN#C[C@@H](F)Oc1cccc(N2CCCCC2=O)c1\nmax: -5.26, max observed: -5.88, diff: 0.62\nC[C@@]1(c2ccccn2)CCCCN1c1ccc(I)c(C#N)c1\nmax: -5.94, max observed: -6.24, diff: 0.30\nCC(C)Oc1cc([C@@]2(N3CCOCC3)CCc3ccccc32)cc(=O)[nH]1\nmax: -7.54, max observed: -5.96, diff: -1.57\nNC(=O)[C@H]1CCCCN1C(=O)c1coc(-c2ccccc2)c1\nmax: -6.23, max observed: -8.03, diff: 1.80\nN#C[C@]1(N)CC[C@@H](n2nccc2C(=O)Oc2ccccn2)C1\nmax: -8.43, max observed: -6.15, diff: -2.28\nN#Cc1ccccc1N1CCC(N)(C(=O)N2CCCCCCC2)CC1\nmax: -7.31, max observed: 0.47, diff: -7.78\nCC(=O)N1C([C@@H](NC2CC2)c2cccc(F)c2)=C[C@@]23C=CC=C[C@@]12N=CC=N3\nmax: -7.63, max observed: -8.21, diff: 0.57\nO=C1C[C@@H](c2cccc(NC(=O)[C@@H]3COCO3)c2)C/C(=C/c2ccncc2)N1\nmax: -8.94, max observed: -7.50, diff: -1.44\nN#C[C@@]1(N2CCCCC2)C[C@@H](c2cccc(S(=O)(=O)N3CCCCC3)c2)CO1\nmax: -7.69, max observed: -7.25, diff: -0.44\nC[C@@]1(C(=O)N[C@H]2CCOc3ccccc32)CCCCN1c1ccccc1C#N\nmax: -7.56, max observed: -7.06, diff: -0.50\nC[C@@]1([C@@H]2CCCO2)CCCN(c2ccc(C#N)c([SH](=O)=O)c2)C1\nmax: -7.50, max observed: -6.31, diff: -1.19\nN#Cc1cc(N2CCC(N)(C(=O)N3CCCCCCC3)CC2)cc2c1C=CCC2\nmax: -7.91, max observed: -0.80, diff: -7.10\nC[C@@]1([C@H]2Oc3cccnc3C2=O)CCCCN1c1ccc(Br)c(C#N)c1\nmax: -7.39, max observed: -5.40, diff: -1.99\nC[C@@H](C#N)Oc1cccc(N2CCC[C@H]3CCCO[C@@H]32)c1\nmax: -6.44, max observed: -6.10, diff: -0.34\nN#Cc1ccc(N2CCC[C@@H]3C[C@](C=O)(c4ccccc4)O[C@H]32)cc1F\nmax: -6.80, max observed: -6.86, diff: 0.06\nO=C(Nc1cccc(C(F)F)c1)[C@H]1[C@H]2C=CC=C[C@H]2N[C@@H]2NC=C[C@H]12\nmax: -8.01, max observed: -8.07, diff: 0.07\nC[C@@]1([C@H]2CCOC2=O)CCCCN1c1cccc(C#N)c1\nmax: -5.96, max observed: -5.94, diff: -0.03\nC[C@@H](C#N)N1CCOC[C@H]1C(=O)n1nnc2ncccc21\nmax: -8.12, max observed: -4.46, diff: -3.66\nC[C@@]1(c2ccccn2)C(=O)CCCN1c1cccc(C#N)c1\nmax: -6.25, max observed: -6.79, diff: 0.54\nN#C[C@@]1(F)CCCCN1C(=O)c1cccc(Cn2cccc2)c1\nmax: -5.97, max observed: -7.12, diff: 1.15\nO=C([O-])[C@H]1CCN(C(=O)Cn2cc[nH+]c2)[C@H]2C=CC=C[C@@H]12\nmax: -5.97, max observed: -5.30, diff: -0.67\nN#Cc1ccccc1N1CCCC[C@@]1(Cl)c1ccncc1\nmax: -5.39, max observed: -6.59, diff: 1.20\nC[C@@H](O)c1cccc(=O)n1[C@@]1(C[NH3+])CC[C@H]2C=CC=C[C@H]2O1\nmax: -7.03, max observed: -5.27, diff: -1.76\nN#C[C@@H]([C@@H]1Oc2ccccc2C1=O)N1CCCCC1\nmax: -5.81, max observed: -6.19, diff: 0.38\nC[C@@H](C#N)N1CCc2ccc(C(=O)NC3CCCC3)cc21\nmax: -6.46, max observed: -6.60, diff: 0.14\nC[C@H]1[C@@H](C)OCCN1C(=O)C1(Nc2cccc3c2C=CCC3)CCCC1\nmax: -6.88, max observed: -8.50, diff: 1.61\nC[C@@]1(c2[nH]c3c([nH+]2)C=CCN3)Oc2ccc(NC(=O)[C@@H]3CCNc4ccccc43)cc2O1\nmax: -10.64, max observed: -7.97, diff: -2.67\nCC(=O)c1cc(N2CC[C@H]3CC(=O)O[C@@H]3C2)ccc1C#N\nmax: -6.59, max observed: -6.54, diff: -0.05\nN#CC=C1CCN(c2cccc(C(=O)N3CCCCC3)c2)CC1\nmax: -6.11, max observed: -6.85, diff: 0.74\nO=C(c1cccc(N2CCCC[C@@H]2[NH+]2CCC3=CC=CC[C@H]32)c1)N1CCCCC1\nmax: -6.86, max observed: -8.00, diff: 1.14\nCC(=O)Nc1cc(N2CCCC[C@@]2(C)C[NH+]2CCCCC2)ccc1C#N\nmax: -7.76, max observed: -6.27, diff: -1.49\nC[C@@H](C#N)Oc1ccccc1C1CCN(C(=O)c2ccccn2)CC1\nmax: -6.95, max observed: -7.08, diff: 0.13\nCC(=O)c1cc(NC(=O)C2CC2)cc(N2CCC[C@@]3(C=c4ccccc4=[NH+]3)C2)c1\nmax: -8.09, max observed: -7.68, diff: -0.41\nC[C@H](C#N)N1C(=O)CCc2ccc(C(=O)N[C@H]3CCCCO3)cc21\nmax: -7.19, max observed: -5.67, diff: -1.52\nN#C[C@]1(N2CCCCC2)CC[C@@H](c2cccc(-n3cccc3)c2)C1\nmax: -6.30, max observed: -7.63, diff: 1.33\nN#Cc1ccc(N2CCCC[C@@]2(Cl)c2ccccn2)cc1F\nmax: -5.81, max observed: -7.31, diff: 1.50\nCC(=O)N1CC[C@H](C(=O)N2CCO[C@@H]3CCCC[C@H]32)c2ccccc21\nmax: -6.06, max observed: -6.20, diff: 0.14\nN#C[C@@]1(N2CCOCC2)CC[C@@H](Nc2ncnc3ccccc23)C1\nmax: -8.21, max observed: -6.70, diff: -1.51\nC[C@@H](C#N)N1C(=O)C[C@@H]2C([C@]3(N)CCN[C@@H]4N=CC=C[C@H]43)=CC=C[C@H]21\nmax: -8.05, max observed: -5.79, diff: -2.27\nN#C[C@@H](N)c1cccc(N2CC[C@H]3CCO[C@@H]3C2=O)c1\nmax: -6.44, max observed: -6.82, diff: 0.38\nO=C(Nc1cccc(-c2cnc(Cl)s2)c1)[C@@H]1CCO[C@H]2CCC[C@H]21\nmax: -7.41, max observed: -6.89, diff: -0.52\nC[C@@]1(C(=O)N2CCCCCCC2)CCCCN1c1ccccc1C#N\nmax: -6.01, max observed: 0.21, diff: -6.22\nN#Cc1ccccc1N1CCCC[C@@]1(N[C@H]1CCCCO1)C(=O)[O-]\nmax: -8.13, max observed: -5.19, diff: -2.94\nC[C@@H]1OCCN(C(=O)[C@]2(N3CCSCC3)CCO[C@@H]3C=CC=C[C@H]32)[C@H]1c1cccc(F)c1\nmax: -8.08, max observed: -4.25, diff: -3.83\nC[C@@H](C#N)N1C(=O)CCc2ccc(Cn3cnnn3)cc21\nmax: -7.16, max observed: -5.43, diff: -1.72\nCO[C@@H]1C[C@H]2[C@H](CCCN2C(=O)c2ccc(C#N)c(N)c2)O1\nmax: -7.30, max observed: -6.42, diff: -0.88\nN#C[C@@H](Nc1ccc2c(c1)OCC2)[C@@H]1CC(=O)NC2=[NH+]C3=CC=CCC3=C21\nmax: -8.14, max observed: -7.38, diff: -0.76\nO=C(Nc1ccc2c(c1)N=CC[C@H]2C(F)(F)F)[C@@H]1CCNc2ccccc21\nmax: -7.66, max observed: -7.58, diff: -0.08\nCC(=O)N1CC[C@H](C(=O)N2CCOc3ccccc32)C2=c3ccccc3=[NH+][C@H]21\nmax: -6.90, max observed: -7.71, diff: 0.82\nC[C@H](C#N)N1CCO[C@@H](C2=CCOc3ccccc32)C1\nmax: -5.95, max observed: -6.80, diff: 0.85\nN#C[C@@H]([C@@H]1Cc2ccccc2O1)N1CCCCC1\nmax: -5.25, max observed: -5.68, diff: 0.44\nC[C@@](O)(C(=O)N1CC[C@H]2C=CC=N[C@@H]21)c1ncnn1-c1ccccc1\nmax: -8.15, max observed: -6.60, diff: -1.56\nCC1([C@@]2(N)OC(=O)[C@H]3C=CC=CN32)CCN(c2ccccc2C#N)CC1\nmax: -8.34, max observed: -6.46, diff: -1.88\nC[C@H](C#N)Oc1cccc([C@H]2CCCCN2C(=O)[C@H]2CCCO2)c1\nmax: -6.77, max observed: -6.60, diff: -0.16\nN#C[C@@H]([C@H]1CCCO1)N1CCCCC1=O\nmax: -4.72, max observed: -4.65, diff: -0.07\nC[C@H](C#N)N1C(=O)CCC[C@H]1c1ccccc1F\nmax: -4.47, max observed: -5.51, diff: 1.04\nN#C[C@]1(N)CCC[C@H]1n1nncc1C(=O)c1ccccc1\nmax: -7.69, max observed: -6.74, diff: -0.94\nO=C(Nc1cccc(C(F)F)c1)[C@@H]1CCO[C@H]2OCO[C@H]21\nmax: -6.89, max observed: -7.20, diff: 0.31\nN#Cc1ccc(N2CCC[C@@](O)([C@H]3CCC(=O)O3)C2)cc1F\nmax: -7.36, max observed: -7.20, diff: -0.16\nC[C@@H](C#N)N1CC(=O)O[C@@H]2C=CC(N3CCC[C@@]4(C=CC=CC4)C3)=C[C@H]21\nmax: -7.37, max observed: -6.38, diff: -0.99\nC[C@@]1(Cn2cccc2)CCCCN1c1ccc(C#N)c(F)c1\nmax: -5.88, max observed: -6.28, diff: 0.40\nC[C@@H](C#N)N1CCO[C@@H](c2nc3ccccc3s2)C1\nmax: -6.54, max observed: -5.49, diff: -1.06\nCC1([C@H]2CCOC2=O)CCN(c2ccccc2C#N)CC1\nmax: -6.08, max observed: -5.99, diff: -0.09\nN#Cc1ccc(C(=O)N[C@@H]2CCCCO2)cc1N1CCC[C@H]2OCC[C@H]21\nmax: -8.00, max observed: -5.88, diff: -2.12\nN#Cc1cccc(N2CCC[C@H]3OCC(=O)[C@H]32)c1\nmax: -5.56, max observed: -6.17, diff: 0.60\nN#C[C@H](c1ccccc1)N1CCC[C@H]2C(=O)CO[C@H]21\nmax: -5.75, max observed: -5.22, diff: -0.53\nO=C(c1ccccc1)N1CCC([C@H]2Cc3cccc(Cl)c3O2)CC1\nmax: -5.65, max observed: -7.77, diff: 2.11\nN#C[C@@]1(N)CCCCN1C(=O)[C@H]1CCOc2ccccc21\nmax: -6.44, max observed: -6.35, diff: -0.09\nN#C[C@@]1(N2N=CC=C[C@H]2S(=O)(=O)C(F)F)CCCO1\nmax: -6.91, max observed: -4.70, diff: -2.20\nC[C@H](C#N)N1C(=O)CCc2ccc(CS[C@@]3(F)CCCO3)cc21\nmax: -6.46, max observed: -6.48, diff: 0.02\nN#Cc1ccccc1N1CCC(c2ccccn2)([N+]2=CCCC2)CC1\nmax: -6.26, max observed: -6.39, diff: 0.14\nC[C@@H](Oc1cccc(N2CCCCC2=O)c1)c1nccs1\nmax: -6.46, max observed: -6.03, diff: -0.43\nN#Cc1cccc(N2CCC(O)(c3cc(=O)oc4ccccc34)CC2)c1\nmax: -7.82, max observed: -6.88, diff: -0.93\nO[C@@H](c1cccc(N2CC=CC=C2Br)c1)C(F)F\nmax: -5.50, max observed: -6.76, diff: 1.25\nN#Cc1cccc(N2CC[C@@H]3OC(=O)C[C@H]3C2)c1\nmax: -5.71, max observed: -6.29, diff: 0.58\nN#C[C@H]1CCCN(C(=O)c2cccc(N3CCCCC3(S)S)c2)C1\nmax: -8.20, max observed: -5.98, diff: -2.22\nO=C(Nc1cccc(C(F)(F)F)c1)[C@@H]1CCN[C@H]2NC=C[C@H]21\nmax: -7.63, max observed: -7.51, diff: -0.12\nN#Cc1ccc(NC(=O)[C@H]2CCNc3ncccc32)cc1O\nmax: -8.42, max observed: -6.29, diff: -2.13\nN#C[C@@]1(Nc2ccccc2F)CCCCN1C(=O)C1=c2ccccc2=NCC1\nmax: -7.27, max observed: -8.63, diff: 1.36\nC[C@@H](C#N)N1CCO[C@@H](C(=O)N2CCCOCC2)C1\nmax: -6.44, max observed: 0.91, diff: -7.35\nC[C@@H](Oc1cccc(N2CCCC(=O)[C@@H]2C(=O)[O-])c1)c1cc(=O)[nH]cn1\nmax: -9.04, max observed: -6.85, diff: -2.19\nC[C@@H](Oc1cccc(N2CCCCC2=O)c1)c1nc2c(s1)CCC2\nmax: -6.95, max observed: -6.74, diff: -0.21\nCC(C)(Oc1ccccc1)[C@H]1CCCCN1C(=O)c1csc2c1[C@@H](Br)CN2\nmax: -7.49, max observed: -6.07, diff: -1.42\nO=C(c1csc2c1[C@H](Br)CN2)N1CCC[C@@H]([C@@H](O)c2ccccc2)C1\nmax: -7.94, max observed: -7.16, diff: -0.78\nC[C@@]1(C#N)CCCCN1c1cccc(C(=O)N2CCCCC2)c1\nmax: -5.93, max observed: -5.62, diff: -0.31\nN#C[C@@H](c1ccc2c(c1)NCC2)N1CCCCC1=O\nmax: -5.76, max observed: -6.25, diff: 0.49\nN#C[C@@H](N)c1ccccc1Br\nmax: -4.20, max observed: -5.57, diff: 1.36\nCC(C)(Oc1ccccc1F)c1nc(NC(=O)[C@H]2CCNC2=O)cs1\nmax: -8.53, max observed: -6.89, diff: -1.65\nC[C@@H](C#N)N1CCc2ccc(C(=O)NC3CCCC3)cc21\nmax: -6.53, max observed: -6.60, diff: 0.07\nNC(=O)c1cccc(NC(=O)[C@H]2CC(c3ccccc3F)=NC3=C2CCC3)c1\nmax: -7.70, max observed: -8.44, diff: 0.73\nN[C@@H](c1ccccc1)c1ccnc2c1O[C@H](F)CC2\nmax: -5.93, max observed: -7.70, diff: 1.78\nN#C[C@]1(N)CC[C@@H](N2CC(c3ccccn3)=CC2=O)C1\nmax: -6.51, max observed: -5.99, diff: -0.51\nN#C[C@@H](N)c1cccc(N2CCCCC2=O)c1\nmax: -5.52, max observed: -6.07, diff: 0.55\nC[C@@H](C#N)N1CCC(=O)[C@@H]2C=CC=C(F)[C@H]21\nmax: -4.77, max observed: -4.74, diff: -0.03\nC[C@@]1([C@H]2C=CC=CC2=O)C[C@@H]2CCO[C@@H]2CN1c1cccc(C#N)c1\nmax: -6.53, max observed: -7.45, diff: 0.92\nC[C@@]1([C@H]2CCOC2=O)CCCCN1c1cccc(C#N)c1\nmax: -5.98, max observed: -5.94, diff: -0.04\nN#C[C@]1(N)CCC[C@H]1n1nccc1C=O\nmax: -6.29, max observed: -4.71, diff: -1.58\nC[C@H](O)c1ccn([C@@]2(c3ccncc3)CCC(=O)N2)c(=O)c1\nmax: -7.82, max observed: -5.64, diff: -2.19\nO=C(Nc1ccc2c(c1)CCC[C@H]2S(=O)(=O)[C@H]1CCCO1)[C@@H]1CCCCN1\nmax: -8.67, max observed: -7.18, diff: -1.49\nCC1([C@H]2OCC=CC2=O)CCN(c2cccc(C#N)c2)CC1\nmax: -6.31, max observed: -6.52, diff: 0.21\nN#C[C@@]1(Nc2ccccc2F)CCCCN1C(=O)c1ccco1\nmax: -7.05, max observed: -6.60, diff: -0.45\nC[C@H](C#N)N1C[C@@H](C(=O)Nc2ccnc3ccccc23)O[C@H]2CCC[C@@H]21\nmax: -7.89, max observed: -6.79, diff: -1.10\nC[C@]1(O)N(C(=O)c2ccncc2)CCC[C@@]1(N)c1cccc(F)c1\nmax: -7.62, max observed: -6.93, diff: -0.69\nN#C[C@@H](N)c1cccc(N2CCCCC2=O)c1\nmax: -5.51, max observed: -6.07, diff: 0.56\nCC(=O)N1CC[C@H](c2ccccc2F)[C@H]2S[C@@H](C(=O)Nc3ccccn3)N=C21\nmax: -8.26, max observed: -7.19, diff: -1.06\nO=C(NC1=CC=C[C@H]2N[C@@H]3CCC[C@@H]3[C@@H](CO)[C@H]12)c1nccs1\nmax: -8.62, max observed: -6.69, diff: -1.93\nN#C[C@]1(N)CC[C@@H](c2cccc(-n3cccc3)c2)C1\nmax: -6.03, max observed: -7.17, diff: 1.13\nCc1ccc(C#N)cc1N\nmax: -4.03, max observed: -5.38, diff: 1.35\nC[C@@H](C#N)N1CCO[C@@H]([C@@]23C=CC=C[C@H]2N=CS3)C1\nmax: -6.34, max observed: -5.00, diff: -1.34\nC[C@@]1(c2ccccc2)CCCCN1C(=O)c1cc(C#N)nc(N2CCCC2)c1\nmax: -7.29, max observed: -8.74, diff: 1.45\nN#C[C@]1(N2CCCCC2=O)CC[C@@H](n2nccc2-c2ccccn2)C1\nmax: -7.24, max observed: -6.76, diff: -0.48\nCC1(C(=O)N[C@H]2CCCCO2)CCN(c2cc(O)cc(C#N)c2)CC1\nmax: -8.58, max observed: -7.09, diff: -1.50\nN#C[C@@H](N)c1ccccc1F\nmax: -4.15, max observed: -5.67, diff: 1.52\nN#C[C@@H](N)c1cccc(N2CCCC2=O)c1\nmax: -5.43, max observed: -6.15, diff: 0.72\nC[C@@H](C#N)n1ccc2ccccc21\nmax: -3.90, max observed: -6.16, diff: 2.25\nO=C(Nc1cccc(C(F)F)c1)[C@@H]1CCO[C@H]2CCCC[C@H]21\nmax: -6.00, max observed: -7.53, diff: 1.53\nN#C[C@H](O)c1cccc(N2CCCC[C@H]2[NH+]2CCCC2=O)c1\nmax: -7.45, max observed: -6.90, diff: -0.55\nO=C(c1ccc2c(c1)CCC2)N1CC[C@@H](CO)[C@@H]2OCCC[C@H]21\nmax: -6.44, max observed: -7.44, diff: 1.00\nO=C(c1ccccc1F)N1[C@H](CO)CC[C@H]2CCCO[C@H]21\nmax: -6.11, max observed: -6.90, diff: 0.80\nN#Cc1cc2c(cc1N1CCCC(F)(F)C1)O[C@@H](C(=O)N1CCCCC1)C2\nmax: -7.10, max observed: -5.45, diff: -1.66\nC[C@@](N)(C#N)[C@@]1(N2CCN[C@@]34C=CC[C@@]23C(=O)NC=N4)CCCO1\nmax: -9.32, max observed: -3.72, diff: -5.60\nN#Cc1cc(N2CCC[C@@](c3ccccn3)(N3CCCC3=O)C2)cc2c1OCO2\nmax: -8.27, max observed: -7.20, diff: -1.07\nO=C1CCCN(c2cccc([C@H]([O-])[C@H]3CCN[C@H]4[NH+]=CN[C@@H]43)c2)C1\nmax: -8.75, max observed: -7.09, diff: -1.66\nC[C@@](Oc1ccccc1Br)(c1ccccn1)[C@]1(N)NCCCC1=O\nmax: -8.32, max observed: -6.93, diff: -1.39\nC[C@H]1CCC[C@@](N)(c2cnccn2)N1C(=O)c1coc(-c2ccccc2F)c1\nmax: -8.21, max observed: -8.32, diff: 0.10\nC[C@@]1(C(=O)Nc2cccc(-c3cnccn3)c2)CC12CCCCC2\nmax: -6.85, max observed: -6.72, diff: -0.13\nCC(=O)Nc1cc(C#N)cc(C(=O)N2CC[C@@H]3OCCC[C@H]32)c1\nmax: -6.97, max observed: -6.74, diff: -0.23\nO=C(NO)c1cc(C(F)F)nc(N2CCC[C@H]2O)c1\nmax: -8.32, max observed: -6.79, diff: -1.53\nC[C@@H](C#N)N1C(=O)CCC[C@H]1[C@H]1CCCO1\nmax: -4.86, max observed: -4.09, diff: -0.77\nC[C@@H](C#N)N1C(=O)COc2ccccc21\nmax: -4.63, max observed: -5.08, diff: 0.45\nO=C(c1cccc2c1C=CCC2)N1CCO[C@@H](C(F)F)C1\nmax: -5.10, max observed: -7.86, diff: 2.75\nC[S@@](=O)c1ccc(C(=O)N2CCCCC2)cc1N1CCC[C@@H]2C3CC[NH+](CC3)[C@@H]21\nmax: -7.28, max observed: -5.89, diff: -1.39\nN#Cc1cc(N2CCCC[C@H]2C(=O)N2CCCCCCC2)ccc1Cl\nmax: -6.34, max observed: 0.13, diff: -6.47\nN#C[C@@H](N)c1ccccc1N1CCCCC1=O\nmax: -5.47, max observed: -6.64, diff: 1.17\nCc1oc2c(c1C(=O)N1CCC(c3ccccc3Cl)CC1)CCC2\nmax: -5.63, max observed: -7.75, diff: 2.12\nN#C[C@@]1(N2CCCC[C@@]2(N)c2ccccc2)CCCO1\nmax: -6.45, max observed: -5.73, diff: -0.72\nfailed\nN#Cc1ccc(N2CCC[C@H]3OC(=O)C[C@@H]32)cc1C(F)F\nmax: -6.07, max observed: -6.81, diff: 0.74\nN#C[C@@H](N)c1ccccc1F\nmax: -4.16, max observed: -5.67, diff: 1.51\nN#Cc1ccc(C(=O)N2CCC[NH2+]CC2)cc1N1CCC[C@@H]2OCC[C@H]21\nmax: -7.37, max observed: -0.02, diff: -7.34\nC[C@@H](C#N)N1CC(=O)C[C@@H]2C(F)=CC=C[C@H]21\nmax: -4.76, max observed: -5.01, diff: 0.25\nN#Cc1cccc(N2CCCC[C@@]2(O)c2ccnc(I)c2)c1\nmax: -7.06, max observed: -6.72, diff: -0.33\nC[C@H](C#N)N1CCCc2ccc(C(=O)N[C@H]3CCCCO3)cc21\nmax: -7.13, max observed: -6.74, diff: -0.39\nN#C[C@@]1(N2CCOCC2)CC[C@@H](n2nnc(C(=O)c3ccccc3Cl)n2)C1\nmax: -9.25, max observed: -6.69, diff: -2.57\nC[C@@H](Oc1cc([C@]2(N)CC(=O)CN2)ccn1)c1ccccc1\nmax: -8.16, max observed: -8.25, diff: 0.09\nN#C[C@@]1(N2CCOCC2)CC[C@@H](NC(=O)c2ncnc3c2C=CCC3)C1\nmax: -8.43, max observed: -6.38, diff: -2.06\nCC(C)(Oc1ccccc1)[C@H]1CCCCN1C(=O)c1ccnc2[nH]ccc12\nmax: -6.96, max observed: -7.58, diff: 0.61\nN#C[C@@]1(N2CCCCC2=O)Cc2ccccc2O1\nmax: -5.06, max observed: -5.08, diff: 0.02\nN#C[C@@]1(N2CCCCC2=O)CCOc2ccccc21\nmax: -5.06, max observed: -4.79, diff: -0.27\nN#Cc1ccccc1N1CCC(Cl)([C@H]2OCC=CC2=O)CC1\nmax: -6.28, max observed: -5.54, diff: -0.74\nCC(C)(Oc1ccccc1Br)C1CCN(C(=O)c2ccccn2)CC1\nmax: -6.44, max observed: -6.54, diff: 0.10\nC[C@@H](c1ccccc1)N1C(C(=O)NC2CC2)=C[C@H]2C(Br)=CC=C[C@H]21\nmax: -6.32, max observed: -6.67, diff: 0.35\nN#C[C@@H](c1cccc(N2CCCC2=O)c1)N1CCCCC1\nmax: -5.74, max observed: -6.41, diff: 0.67\nO=C(C[NH+]1CCC[C@H]2CCCC[C@H]21)N1CCCC[C@@H]1c1cccc(Cl)c1\nmax: -5.98, max observed: -8.38, diff: 2.40\nC[C@@H](C#N)N1C(=O)CC[C@H]2C([C@@]3(N)NCCC[C@@]34C=CC=CC4)=CC=C[C@H]21\nmax: -7.76, max observed: -6.00, diff: -1.77\nN#Cc1cccc(N2CCC[C@@](N)([C@H]3SC=NC3=O)C2)c1\nmax: -7.08, max observed: -6.99, diff: -0.09\nN#C[C@@]1(N2CCCCC2=O)Cc2ccccc2O1\nmax: -5.04, max observed: -5.08, diff: 0.04\nCc1c(NC(=O)[C@@H]2CC=Nc3ccccc32)cccc1[C@H]1COCCN1S(C)(=O)=O\nmax: -8.52, max observed: -6.76, diff: -1.76\nN#C[C@@]1(N)CCCCN1C(=O)[C@H]1C[C@@H]2C=CC=C[C@@H]2O1\nmax: -6.45, max observed: -6.13, diff: -0.32\nC[C@]1(c2cc(=O)[nH]c([O-])n2)C[C@H]2CCO[C@H]2N(c2cccc(C#N)c2)C1\nmax: -8.20, max observed: -7.15, diff: -1.05\nN#C[C@]1(Nc2ccccc2)CC[C@@H](c2ccnc(N3CCCC3)n2)C1\nmax: -8.23, max observed: -7.18, diff: -1.05\nN#Cc1ccccc1N1CCC[C@@H]2OC(=O)C[C@H]21\nmax: -5.54, max observed: -6.11, diff: 0.57\nO=C(Nc1cccc(C(F)F)c1)[C@H]1CCC[NH+]1[C@H]1CCCCO1\nmax: -6.85, max observed: -7.81, diff: 0.96\nCc1c(NC(=O)[C@@H]2CC=Nc3ccccc32)cccc1[C@@]1([NH+]2CCCC2)CCCCN1\nmax: -8.81, max observed: -6.33, diff: -2.48\nN#C[C@@]1(N2CCCCC2)CCc2cccc(Br)c21\nmax: -4.59, max observed: -6.19, diff: 1.60\nC[C@H](C#N)N1CCC(=O)c2ccc(C(=O)N[C@H]3CCCCO3)cc21\nmax: -7.78, max observed: -6.53, diff: -1.25\nCc1cccc([C@@]2(NC(=O)c3ccc4c(c3)OCO4)CCC(=O)N2c2ccccn2)n1\nmax: -9.28, max observed: -6.56, diff: -2.72\nN#Cc1cc(N2CCC[C@@H]3OC(=O)C[C@H]32)cc(S(=O)(=O)N2CCCCC2)c1\nmax: -8.03, max observed: -6.72, diff: -1.30\nC[C@@H](C#N)N1CCO[C@H](C(=O)N2CCCc3ccccc32)C1\nmax: -6.31, max observed: -5.85, diff: -0.46\nC[C@](C#N)(Nc1ccccc1F)C(=O)N1CCC[C@@H]2OCC[C@H]21\nmax: -7.00, max observed: -5.38, diff: -1.62\nC[C@@]1([C@@H]2CCCO2)CCCN(c2cc(C#N)c3c(=O)[nH]cnc3c2)C1\nmax: -7.72, max observed: -6.94, diff: -0.78\nCC1(c2cc(=O)oc3ncccc23)CCN(c2cccc(C#N)c2)CC1\nmax: -7.16, max observed: -6.88, diff: -0.28\nN#Cc1cc(N)cc2c1[C@H](N1CCC[C@@H](C(=O)N3CCOCC3)C1)CC=N2\nmax: -8.36, max observed: -4.84, diff: -3.52\nC[C@H]1CC[C@@H](c2cccc(NC(=O)[C@@H]3CCCCN3)c2)[NH2+]1\nmax: -7.09, max observed: -7.71, diff: 0.62\nN#Cc1cc2c(c(NC(=O)[C@H]3CCN[C@H](N)C3)c1)OCCC2\nmax: -8.57, max observed: -6.54, diff: -2.03\nN[C@H]1CC[C@@H](C(=O)N2CC[C@@H](c3cccc(Cl)c3)[C@@H]3[C@@H]2C2CC[NH+]3CC2)O1\nmax: -7.52, max observed: -6.65, diff: -0.88\n"
        }
      ],
      "execution_count": 44,
      "metadata": {
        "jupyter": {
          "source_hidden": false,
          "outputs_hidden": false
        },
        "nteract": {
          "transient": {
            "deleting": false
          }
        },
        "gather": {
          "logged": 1675347233953
        }
      }
    },
    {
      "cell_type": "code",
      "source": [],
      "outputs": [],
      "execution_count": null,
      "metadata": {
        "jupyter": {
          "source_hidden": false,
          "outputs_hidden": false
        },
        "nteract": {
          "transient": {
            "deleting": false
          }
        }
      }
    }
  ],
  "metadata": {
    "kernelspec": {
      "name": "python38-azureml",
      "language": "python",
      "display_name": "Python 3.8 - AzureML"
    },
    "language_info": {
      "name": "python",
      "version": "3.8.5",
      "mimetype": "text/x-python",
      "codemirror_mode": {
        "name": "ipython",
        "version": 3
      },
      "pygments_lexer": "ipython3",
      "nbconvert_exporter": "python",
      "file_extension": ".py"
    },
    "microsoft": {
      "host": {
        "AzureML": {
          "notebookHasBeenCompleted": true
        }
      }
    },
    "kernel_info": {
      "name": "python38-azureml"
    },
    "nteract": {
      "version": "nteract-front-end@1.0.0"
    }
  },
  "nbformat": 4,
  "nbformat_minor": 2
}