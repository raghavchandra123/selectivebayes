{
  "cells": [
    {
      "cell_type": "code",
      "source": [
        "import pandas as pd\r\n",
        "import seaborn as sns\r\n",
        "import rdkit\r\n",
        "import torch\r\n",
        "import vina\r\n",
        "import meeko\r\n",
        "import pexpect\r\n",
        "import pickle\r\n",
        "import numpy as np\r\n",
        "from scipy.stats import norm\r\n",
        "from typing import Optional, Union, List\r\n",
        "from bayes_opt import BayesianOptimization\r\n",
        "from bayes_opt.util import load_logs\r\n",
        "from bayes_opt.domain_reduction import DomainTransformer\r\n",
        "from bayes_opt.logger import JSONLogger\r\n",
        "from bayes_opt.event import Events\r\n",
        "from bayes_opt.target_space import TargetSpace\r\n",
        "import sys\r\n",
        "from contextlib import redirect_stdout\r\n",
        "\r\n",
        "from selectivebayes.interfaces import vaeinterface,vinainterface\r\n",
        "from selectivebayes.transformers import SequentialDomainReductionTransformer,SimpleDomainReduction\r\n",
        "\r\n",
        "latent_size=56"
      ],
      "outputs": [],
      "execution_count": 3,
      "metadata": {
        "gather": {
          "logged": 1676289110973
        }
      }
    },
    {
      "cell_type": "code",
      "source": [
        "knowndrugs = {\"Gilteritinib\":r\"CCc1nc(C(=O)N)c(Nc2ccc(N3CCC(CC3)N4CCN(C)CC4)c(OC)c2)nc1NC5CCOCC5\", \n",
        "              \"Quizartinib\":r\"CC(C)(C)c1cc(no1)NC(=O)Nc2ccc(cc2)c3cn4c5ccc(cc5sc4n3)OCCN6CCOCC6\", \n",
        "              \"Crenolanib\":r\"O(c5cc4ncn(c1nc3c(cc1)cccc3N2CCC(N)CC2)c4cc5)CC6(COC6)C\",\n",
        "              \"Tandutinib\":r\"CC(C)OC1=CC=C(C=C1)NC(=O)N2CCN(CC2)C3=NC=NC4=CC(=C(C=C43)OC)OCCCN5CCCCC5\",\n",
        "              \"Sorafenib\":r\"CNC(=O)c1cc(ccn1)Oc2ccc(cc2)NC(=O)Nc3ccc(c(c3)C(F)(F)F)Cl\",\n",
        "              \"Sunitinib\":r\"CCN(CC)CCNC(=O)c1c(c([nH]c1C)/C=C\\2/c3cc(ccc3NC2=O)F)C\",\n",
        "              \"Lestaurtinib\":r\"C[C@@]12[C@](C[C@@H](O1)n3c4ccccc4c5c3c6n2c7ccccc7c6c8c5C(=O)NC8)(CO)O\",\n",
        "              \"Midostaurin\":r\"C[C@@]12[C@@H]([C@@H](C[C@@H](O1)N3C4=CC=CC=C4C5=C6C(=C7C8=CC=CC=C8N2C7=C53)CNC6=O)N(C)C(=O)C9=CC=CC=C9)OC\",\n",
        "              \"Ponatinib\":r\"Cc1ccc(cc1C#Cc2cnc3n2nccc3)C(=O)Nc4ccc(c(c4)C(F)(F)F)CN5CCN(CC5)C\"\n",
        "              }\n",
        "\n",
        "fps = {x:rdkit.Chem.RDKFingerprint(rdkit.Chem.MolFromSmiles(knowndrugs[x])) for x in knowndrugs}\n",
        "def simsearch(molecule):\n",
        "    if molecule==\"failed\":\n",
        "        return 0,0\n",
        "    molfing = rdkit.Chem.RDKFingerprint(rdkit.Chem.MolFromSmiles(molecule))\n",
        "    highestsim = 0\n",
        "    bestmolec = \"\"\n",
        "    for fp in fps:\n",
        "        currsim = rdkit.DataStructs.FingerprintSimilarity(fps[fp],molfing)\n",
        "        if currsim>highestsim:\n",
        "            highestsim=currsim\n",
        "            bestmolec = fp\n",
        "    return highestsim,bestmolec"
      ],
      "outputs": [],
      "execution_count": 4,
      "metadata": {
        "jupyter": {
          "source_hidden": false,
          "outputs_hidden": false
        },
        "nteract": {
          "transient": {
            "deleting": false
          }
        },
        "gather": {
          "logged": 1676289111867
        }
      }
    },
    {
      "cell_type": "code",
      "source": [
        "from hide_warnings import hide_warnings\n",
        "pred_list = []\n",
        "\n",
        "@hide_warnings(out=False)\n",
        "def optstart(numiters):\n",
        "    beta = 4184/(8.3145*310)\n",
        "    best_pred = 0\n",
        "    ind=0\n",
        "    print(\"Starting\")\n",
        "    flt3 = vinainterface(\"./proteins/flt3.pdbqt\",[-28.03685,\t-10.361925,\t-28.9883])\n",
        "    ckit = vinainterface(\"./proteins/ckit.pdbqt\",[45.93035714,\t97.03574286,\t16.1472])\n",
        "    pdgfra = vinainterface(\"./proteins/pdgfra.pdbqt\",[17.58837931,\t132.5595172,\t-6.030275862])\n",
        "    vegfr = vinainterface(\"./proteins/VEGFR.pdbqt\",[25.997,\t28.605,\t17.134])\n",
        "    mk2 = vinainterface(\"./proteins/MK2.pdbqt\",[47.6395,\t34.809,\t16.708])\n",
        "    jak2 = vinainterface(\"./proteins/JAK2.pdbqt\",[-31.7445,\t-49.661,\t35.4655])\n",
        "      \n",
        "    def optfunction(**kwargs):\n",
        "        nonlocal ind\n",
        "        nonlocal best_pred\n",
        "        ind+=1\n",
        "        mol=vaeint.decode(np.expand_dims(np.fromiter(kwargs.values(),dtype=float),axis=0))\n",
        "        exh = 8\n",
        "        flt3_pred,success = flt3.predict(mol,exh)\n",
        "        if success!=-1:\n",
        "            pdgfra_pred = pdgfra.predict(mol,exh)[0]\n",
        "            ckit_pred = ckit.predict(mol,exh)[0]\n",
        "            vegfr_pred = vegfr.predict(mol,exh)[0]\n",
        "            mk2_pred = mk2.predict(mol,exh)[0]\n",
        "            jak2_pred = jak2.predict(mol,exh)[0]\n",
        "        else:\n",
        "            pdgfra_pred = -5.0\n",
        "            ckit_pred = -5.0\n",
        "            vegfr_pred = -5.0\n",
        "            mk2_pred =-5.0\n",
        "            jak2_pred = -5.0\n",
        "        all_preds = [flt3_pred,pdgfra_pred,ckit_pred,vegfr_pred,mk2_pred,jak2_pred]\n",
        "\n",
        "        anybind=-6.0\n",
        "\n",
        "        prediction = np.exp(-beta*flt3_pred)/(np.exp(-beta*anybind)+np.sum([np.exp(-beta*pr) for pr in all_preds]))\n",
        "        if prediction>best_pred:\n",
        "            #if prediction is better than best prediction seen then run again at 2x exhaustiveness to confirm\n",
        "            pdgfra_pred = pdgfra.predict(mol,exh*2)[0]\n",
        "            ckit_pred = ckit.predict(mol,exh*2)[0]\n",
        "            vegfr_pred = vegfr.predict(mol,exh*2)[0]\n",
        "            mk2_pred = mk2.predict(mol,exh*2)[0]\n",
        "            jak2_pred = jak2.predict(mol,exh*2)[0]\n",
        "            all_preds = [flt3_pred,pdgfra_pred,ckit_pred,vegfr_pred,mk2_pred,jak2_pred]\n",
        "            prediction = np.exp(-beta*flt3_pred)/(np.exp(-beta*anybind)+np.sum([np.exp(-beta*pr) for pr in all_preds]))\n",
        "            if prediction>best_pred:\n",
        "                best_pred = prediction\n",
        "\n",
        "\n",
        "        pred_list.append([mol,prediction,all_preds])\n",
        "\n",
        "        sim,molec = simsearch(mol)\n",
        "        print(f\"{ind}: {mol}, Pred: {prediction:.4f}, SimDrug: {molec}, SimVal: {sim:.3f}\")\n",
        "        print(f\"FLT3: {flt3_pred:.2f}, PDGFRA: {pdgfra_pred:.2f}, CKIT: {ckit_pred:.2f}, VEGFR: {vegfr_pred:.2f}, MK2: {mk2_pred:.2f}, JAK2: {jak2_pred:.2f}\")\n",
        "        \n",
        "        return prediction\n",
        "\n",
        "    pbounds = {f\"f{i}\": (-3,3) for i in range(56)}\n",
        "    bounds_transformer = SimpleDomainReduction(flt3,reduction_rate=0.99,increase_rate=1.10)\n",
        "    optimizer = BayesianOptimization(f=optfunction,pbounds=pbounds,verbose=0,bounds_transformer=bounds_transformer)\n",
        "    logger = JSONLogger(path=\"./predictions/test.json\")\n",
        "    optimizer.subscribe(Events.OPTIMIZATION_STEP, logger)\n",
        "    optimizer.set_gp_params(alpha=0.01)\n",
        "    vaeint=vaeinterface()\n",
        "    vaeint.start()\n",
        "    optimizer.maximize(init_points=0,n_iter=numiters)\n",
        "    vaeint.stop()\n",
        "optstart(500)\n",
        "pickle.dump(pred_list,open(\"./predictions/test.pk1\",\"wb\"),protocol=2)"
      ],
      "outputs": [
        {
          "output_type": "stream",
          "name": "stdout",
          "text": "Starting\nVina Initialisation complete\nVina Initialisation complete\nVina Initialisation complete\nVina Initialisation complete\nVina Initialisation complete\nVina Initialisation complete\n1: CC1(C[NH2+]c2cscc2C(=O)N2CCC(CO)CC2)CCCCC1, Pred: 0.1078, SimDrug: Midostaurin, SimVal: 0.329\nFLT3: -5.95, PDGFRA: -6.27, CKIT: -6.09, VEGFR: -5.72, MK2: -6.33, JAK2: -6.29\n2: NC1(N)CCC[C@]2(CC1)C(=O)C(=O)NCN2c1ccccc1C(O)O, Pred: 0.0000, SimDrug: Midostaurin, SimVal: 0.436\nFLT3: 1.53, PDGFRA: 0.34, CKIT: 1.66, VEGFR: 1.21, MK2: 0.17, JAK2: 0.95\n"
        }
      ],
      "execution_count": 5,
      "metadata": {
        "jupyter": {
          "source_hidden": false,
          "outputs_hidden": false
        },
        "nteract": {
          "transient": {
            "deleting": false
          }
        },
        "gather": {
          "logged": 1676289651957
        }
      }
    },
    {
      "cell_type": "code",
      "source": [
        "from hide_warnings import hide_warnings\r\n",
        "@hide_warnings(out=False)\r\n",
        "def knowndrugeval():\r\n",
        "    beta = 4184/(8.3145*310)\r\n",
        "    flt3 = vinainterface(\"./proteins/flt3.pdbqt\",[-28.03685,\t-10.361925,\t-28.9883])\r\n",
        "    ckit = vinainterface(\"./proteins/ckit.pdbqt\",[45.93035714,\t97.03574286,\t16.1472])\r\n",
        "    pdgfra = vinainterface(\"./proteins/pdgfra.pdbqt\",[17.58837931,\t132.5595172,\t-6.030275862])\r\n",
        "    vegfr = vinainterface(\"./proteins/VEGFR.pdbqt\",[25.997,\t28.605,\t17.134])\r\n",
        "    mk2 = vinainterface(\"./proteins/MK2.pdbqt\",[47.6395,\t34.809,\t16.708])\r\n",
        "    jak2 = vinainterface(\"./proteins/JAK2.pdbqt\",[-31.7445,\t-49.661,\t35.4655])\r\n",
        "\r\n",
        "    for drug in knowndrugs:\r\n",
        "        mol=knowndrugs[drug]\r\n",
        "        exh = 32\r\n",
        "        flt3_pred = flt3.predict(mol, exh)\r\n",
        "        pdgfra_pred = pdgfra.predict(mol, exh)\r\n",
        "        ckit_pred = ckit.predict(mol, exh)\r\n",
        "        vegfr_pred = vegfr.predict(mol, exh)\r\n",
        "        mk2_pred = mk2.predict(mol, exh)\r\n",
        "        jak2_pred = jak2.predict(mol, exh)\r\n",
        "        all_preds = [flt3_pred,pdgfra_pred,ckit_pred,vegfr_pred,mk2_pred,jak2_pred]\r\n",
        "\r\n",
        "        anybind=-6.0\r\n",
        "\r\n",
        "        prediction = np.exp(-beta*flt3_pred)/(np.exp(-beta*anybind)+np.sum([np.exp(-beta*pr) for pr in all_preds]))\r\n",
        "\r\n",
        "        sim,molec = simsearch(mol)\r\n",
        "        print(f\"{mol}, Pred: {prediction:.4f}, SimDrug: {molec}, SimVal: {sim:.3f}\")\r\n",
        "        print(f\"FLT3: {flt3_pred:.2f}, PDGFRA: {pdgfra_pred:.2f}, CKIT: {ckit_pred:.2f}, VEGFR: {vegfr_pred:.2f}, MK2: {mk2_pred:.2f}, JAK2: {jak2_pred:.2f}\")\r\n",
        "        break\r\n",
        "        \r\n",
        "\r\n",
        "knowndrugeval()\r\n"
      ],
      "outputs": [
        {
          "output_type": "stream",
          "name": "stdout",
          "text": "CCc1nc(C(=O)N)c(Nc2ccc(N3CCC(CC3)N4CCN(C)CC4)c(OC)c2)nc1NC5CCOCC5, Pred: 0.1157, SimDrug: Gilteritinib, SimVal: 1.000\nFLT3: -7.17, PDGFRA: -7.00, CKIT: -7.60, VEGFR: -6.80, MK2: -6.95, JAK2: -7.93\n"
        }
      ],
      "execution_count": 36,
      "metadata": {
        "jupyter": {
          "source_hidden": false,
          "outputs_hidden": false
        },
        "nteract": {
          "transient": {
            "deleting": false
          }
        },
        "gather": {
          "logged": 1674474493783
        }
      }
    }
  ],
  "metadata": {
    "kernelspec": {
      "name": "python38-azureml",
      "language": "python",
      "display_name": "Python 3.8 - AzureML"
    },
    "language_info": {
      "name": "python",
      "version": "3.8.5",
      "mimetype": "text/x-python",
      "codemirror_mode": {
        "name": "ipython",
        "version": 3
      },
      "pygments_lexer": "ipython3",
      "nbconvert_exporter": "python",
      "file_extension": ".py"
    },
    "microsoft": {
      "host": {
        "AzureML": {
          "notebookHasBeenCompleted": true
        }
      }
    },
    "kernel_info": {
      "name": "python38-azureml"
    },
    "nteract": {
      "version": "nteract-front-end@1.0.0"
    }
  },
  "nbformat": 4,
  "nbformat_minor": 2
}